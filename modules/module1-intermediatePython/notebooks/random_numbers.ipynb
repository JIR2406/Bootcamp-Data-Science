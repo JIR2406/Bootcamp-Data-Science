{
 "cells": [
  {
   "cell_type": "markdown",
   "id": "c82e7d79",
   "metadata": {},
   "source": [
    "# Generadores de Números Aleatorios en Python\n",
    "\n",
    "En este notebook aprenderemos sobre los **generadores de números aleatorios** y su uso en Python. Para trabajar con números aleatorios, utilizaremos la biblioteca `numpy`, que nos ofrece funciones eficientes para generar secuencias de números.\n",
    "\n",
    "> **Nota:** Antes de comenzar, asegúrate de importar la librería `numpy`.\n",
    "\n",
    "```python\n",
    "import numpy as np\n",
    "np.random.rand()  # Genera un número pseudoaleatorio entre 0 y 1\n",
    "```\n",
    "\n",
    "## ¿Qué es un número pseudoaleatorio?\n",
    "\n",
    "Un **número pseudoaleatorio** es un valor generado mediante un algoritmo determinista, es decir, a partir de una fórmula matemática y una semilla inicial. Aunque estos números parecen aleatorios y cumplen con muchas de las propiedades estadísticas esperadas de la aleatoriedad, realmente son predecibles si se conoce la semilla y el algoritmo utilizados.\n",
    "\n",
    "En otras palabras, los números generados por funciones como `np.random.rand()` **no son verdaderamente aleatorios**, sino que son \"pseudoaleatorios\". Esto significa que, si utilizamos la misma semilla, obtendremos siempre la misma secuencia de números.\n",
    "\n",
    "**Ventajas de los números pseudoaleatorios:**\n",
    "- Son rápidos de calcular.\n",
    "- Permiten reproducir experimentos (útil en simulaciones y pruebas).\n",
    "\n",
    "**Desventaja:**\n",
    "- No deben usarse donde se requiera verdadera aleatoriedad, como en criptografía.\n",
    "\n",
    "---"
   ]
  },
  {
   "cell_type": "code",
   "execution_count": 39,
   "id": "03cb36c0",
   "metadata": {},
   "outputs": [
    {
     "name": "stdout",
     "output_type": "stream",
     "text": [
      "0\n",
      "Lanzamiento de la moneda: Cruz\n"
     ]
    }
   ],
   "source": [
    "import numpy as np\n",
    "\"\"\"\n",
    "Primero configuremos una semilla para que los resultados sean reproducibles.\n",
    "Esto es útil para garantizar que los resultados sean consistentes en diferentes ejecuciones del código.\n",
    "\"\"\"\n",
    "np.random.seed(123) # Siempre que uses la misma semilla, obtendrás los mismos números aleatorios.\n",
    "\n",
    "coin = np.random.randint(0, 2)  \n",
    "print(coin)\n",
    "print(\"Lanzamiento de la moneda:\", \"Cara\" if coin == 1 else \"Cruz\")"
   ]
  },
  {
   "cell_type": "markdown",
   "id": "c3c36229",
   "metadata": {},
   "source": [
    "El siguiente código simula el lanzamiento de una moneda al aire diez veces, utilizando un generador de números aleatorios configurado previamente. De esta manera, puedes observar los resultados de cada lanzamiento y cómo se pueden registrar de diferentes formas.\n",
    "\n",
    "### Ejemplo 1: Registrar cada resultado como \"heads\" o \"tails\"\n",
    "\n",
    "Este fragmento de código guarda el resultado de cada lanzamiento en una lista llamada `outcomes`, donde cada elemento es \"heads\" (cara) o \"tails\" (cruz):\n",
    "\n",
    "```python\n",
    "import numpy as np\n",
    "np.random.seed(123)\n",
    "outcomes = []\n",
    "\n",
    "for x in range(10):\n",
    "    coin = np.random.randint(0, 2)\n",
    "    if coin == 0:\n",
    "        outcomes.append(\"heads\")\n",
    "    else:\n",
    "        outcomes.append(\"tails\")\n",
    "print(outcomes)\n",
    "```\n",
    "\n",
    "### Ejemplo 2: Contar el número acumulado de cruces (\"tails\")\n",
    "\n",
    "Otra manera de analizar los resultados es llevar un conteo acumulativo de cuántas veces ha salido \"tails\" (cruz) después de cada lanzamiento. Para ello, se utiliza una lista llamada `tails` que comienza en 0 y se va actualizando en cada iteración:\n",
    "\n",
    "```python\n",
    "import numpy as np\n",
    "np.random.seed(123)\n",
    "tails = [0]\n",
    "for x in range(10):\n",
    "    coin = np.random.randint(0, 2)\n",
    "    tails.append(tails[x] + coin)\n",
    "print(tails)\n",
    "```\n",
    "\n",
    "En este caso, cada valor en la lista `tails` representa el número total de cruces (\"tails\") obtenidas hasta ese punto de la simulación.\n",
    "\n",
    "---\n",
    "\n",
    "Ambos enfoques son útiles dependiendo de si quieres ver el historial de resultados individuales o el conteo acumulado de un resultado específico."
   ]
  },
  {
   "cell_type": "code",
   "execution_count": 40,
   "id": "38f700ab",
   "metadata": {},
   "outputs": [
    {
     "name": "stdout",
     "output_type": "stream",
     "text": [
      "[0, 0, 1, 1, 1, 1, 1, 1, 2, 3, 3]\n"
     ]
    }
   ],
   "source": [
    "import numpy as np\n",
    "np.random.seed(123)\n",
    "tails = [0]\n",
    "for x in range(10):\n",
    "    coin = np.random.randint(0, 2)\n",
    "    tails.append(tails[x] + coin)\n",
    "print(tails)"
   ]
  },
  {
   "cell_type": "markdown",
   "id": "6ab93228",
   "metadata": {},
   "source": [
    "Para analizar la distribución de este paseo aleatorio (random walk), comenzamos configurando una semilla aleatoria para garantizar la reproducibilidad de los resultados. Luego, creamos una lista vacía llamada `final_tails`, que almacenará el número de veces que sale \"tails\" (cruz) al lanzar una moneda diez veces por experimento, repitiendo este proceso 100 veces.\n",
    "\n",
    "El siguiente código simula este proceso:\n",
    "\n",
    "```python\n",
    "import numpy as np\n",
    "np.random.seed(123)\n",
    "final_tails = []\n",
    "for _ in range(100):  # Repetimos el experimento 100 veces\n",
    "    tails = [0]\n",
    "    for _ in range(10):  # Lanzamos la moneda 10 veces en cada experimento\n",
    "        coin = np.random.randint(0, 2)\n",
    "        tails.append(tails[-1] + coin)\n",
    "    final_tails.append(tails[-1])\n",
    "```\n",
    "\n",
    "En la lista `final_tails`, cada elemento representa la cantidad total de \"tails\" obtenidas en 10 lanzamientos para un experimento.\n",
    "\n",
    "Para visualizar la distribución de resultados obtenidos, podemos utilizar un histograma que nos muestra con qué frecuencia aparece cada cantidad de \"tails\" en los experimentos realizados:\n",
    "\n",
    "```python\n",
    "import matplotlib.pyplot as plt\n",
    "\n",
    "plt.hist(final_tails, bins=10, edgecolor='black', color='green')\n",
    "plt.xlabel('Número de tails en 10 lanzamientos')\n",
    "plt.ylabel('Frecuencia')\n",
    "plt.title('Distribución de tails en 100 experimentos')\n",
    "plt.show()\n",
    "```\n",
    "\n",
    "De esta forma, el histograma te permite observar la variabilidad y tendencia en la cantidad de veces que sale \"tails\" después de 10 lanzamientos a lo largo de múltiples repeticiones del experimento."
   ]
  },
  {
   "cell_type": "code",
   "execution_count": 49,
   "id": "2629b391",
   "metadata": {},
   "outputs": [
    {
     "name": "stdout",
     "output_type": "stream",
     "text": [
      "Tails after 100 flips: [3, 6, 4, 5, 4, 5, 3, 5, 4, 6, 6, 8, 6, 4, 7, 5, 7, 4, 3, 3, 4, 5, 8, 5, 6, 5, 7, 6, 4, 5, 8, 5, 8, 4, 6, 6, 3, 4, 5, 4, 7, 8, 9, 4, 3, 4, 5, 6, 4, 2, 6, 6, 5, 7, 5, 4, 5, 5, 6, 7, 6, 6, 6, 3, 6, 3, 6, 5, 6, 5, 6, 4, 6, 6, 3, 4, 4, 2, 4, 5, 4, 6, 6, 6, 8, 4, 6, 5, 7, 4, 6, 5, 4, 6, 7, 3, 7, 4, 5, 7, 8, 7, 5, 6, 7, 6, 5, 7, 5, 4, 7, 5, 4, 8, 4, 5, 6, 6, 6, 5, 5, 7, 3, 7, 6, 3, 6, 7, 2, 2, 5, 5, 4, 5, 7, 3, 3, 5, 6, 5, 6, 6, 3, 5, 4, 2, 5, 5, 7, 4, 3, 6, 2, 6, 6, 9, 6, 4, 8, 6, 6, 7, 3, 5, 3, 5, 6, 4, 4, 4, 3, 4, 4, 5, 5, 3, 8, 3, 5, 5, 6, 3, 5, 5, 4, 7, 4, 4, 5, 4, 3, 4, 5, 5, 4, 6, 4, 6, 6, 6, 8, 6, 5, 4, 6, 8, 7, 6, 7, 5, 3, 4, 7, 2, 5, 4, 5, 6, 6, 5, 6, 3, 4, 7, 4, 5, 3, 3, 4, 4, 5, 6, 5, 4, 3, 4, 6, 4, 6, 7, 4, 3, 4, 5, 6, 2, 6, 5, 5, 3, 6, 6, 4, 5, 3, 3, 6, 5, 5, 3, 5, 5, 5, 3, 4, 5, 3, 5, 9, 6, 4, 6, 3, 6, 7, 4, 4, 8, 5, 7, 5, 5, 6, 4, 6, 7, 6, 6, 6, 5, 3, 5, 5, 3, 7, 5, 3, 4, 4, 6, 5, 6, 6, 3, 6, 3, 3, 9, 5, 3, 6, 4, 5, 1, 3, 3, 5, 5, 4, 5, 1, 5, 6, 6, 4, 3, 7, 7, 4, 5, 3, 6, 5, 4, 4, 7, 2, 6, 5, 5, 4, 3, 5, 4, 5, 6, 7, 4, 3, 8, 4, 4, 4, 5, 3, 3, 5, 5, 6, 2, 4, 6, 5, 4, 3, 3, 6, 4, 3, 7, 5, 5, 4, 4, 5, 5, 5, 4, 6, 7, 7, 6, 2, 6, 5, 7, 8, 6, 4, 6, 3, 5, 6, 7, 4, 4, 6, 6, 5, 8, 6, 5, 5, 6, 2, 6, 6, 3, 3, 4, 5, 3, 5, 4, 5, 5, 6, 4, 4, 7, 5, 4, 6, 3, 6, 6, 4, 4, 6, 6, 2, 5, 6, 8, 7, 2, 5, 5, 5, 3, 4, 5, 3, 8, 5, 6, 5, 5, 8, 8, 7, 6, 5, 5, 5, 4, 6, 4, 2, 3, 7, 7, 4, 6, 1, 6, 4, 5, 6, 5, 5, 4, 5, 4, 4, 5, 2, 5, 3, 5, 4, 4, 2, 4, 1, 3, 7, 5, 4, 5, 3, 5, 4, 3, 7, 5, 7, 6, 4, 3, 4, 4, 5, 7, 5, 5, 4, 5, 7, 7, 8, 3, 7, 6, 5, 3, 5, 6, 4, 6, 6, 5, 3, 4, 7, 5, 8, 3, 3, 7, 4, 5, 7, 7, 4, 7, 4, 5, 3, 6, 5, 6, 4, 6, 5, 3, 5, 4, 5, 6, 1, 4, 3, 4, 4, 4, 4, 7, 7, 5, 6, 5, 4, 4, 7, 4, 4, 4, 5, 4, 2, 4, 7, 4, 10, 4, 9, 5, 6, 6, 7, 5, 5, 2, 5, 5, 7, 4, 5, 7, 3, 5, 6, 5, 5, 5, 6, 8, 4, 5, 4, 5, 4, 6, 4, 3, 6, 6, 4, 7, 7, 3, 4, 4, 6, 6, 5, 7, 7, 2, 4, 4, 3, 5, 6, 4, 6, 2, 6, 3, 6, 7, 5, 6, 3, 6, 5, 3, 7, 5, 4, 5, 7, 4, 4, 3, 3, 5, 5, 5, 5, 6, 6, 5, 4, 7, 4, 4, 6, 5, 6, 8, 9, 6, 3, 5, 6, 4, 2, 5, 7, 5, 8, 9, 2, 3, 2, 5, 7, 6, 4, 2, 5, 5, 7, 4, 6, 6, 6, 7, 6, 4, 7, 2, 5, 3, 5, 6, 5, 5, 1, 8, 4, 8, 5, 4, 5, 3, 4, 3, 3, 5, 5, 5, 7, 3, 5, 4, 5, 8, 6, 4, 7, 8, 7, 6, 6, 3, 3, 6, 4, 5, 6, 4, 4, 5, 3, 7, 4, 3, 4, 5, 7, 3, 9, 4, 4, 5, 6, 7, 3, 3, 6, 4, 4, 7, 5, 8, 3, 4, 6, 4, 5, 4, 5, 5, 7, 7, 3, 2, 5, 7, 6, 6, 7, 5, 7, 5, 8, 5, 4, 7, 7, 3, 6, 6, 7, 5, 3, 7, 7, 3, 4, 7, 3, 5, 3, 2, 6, 5, 7, 3, 5, 2, 4, 2, 6, 5, 3, 6, 7, 3, 6, 0, 4, 3, 4, 3, 7, 6, 3, 2, 6, 4, 4, 4, 3, 4, 3, 6, 7, 7, 5, 6, 7, 2, 6, 5, 4, 6, 4, 5, 4, 8, 4, 5, 4, 4, 4, 5, 3, 6, 3, 3, 8, 5, 6, 5, 5, 4, 5, 4, 5, 6, 7, 7, 5, 8, 6, 6, 6, 3, 5, 6, 4, 5, 4, 4, 7, 6, 5, 4, 8, 5, 4, 6, 5, 6, 7, 5, 8, 7, 3, 2, 3, 6, 7, 7, 5, 3, 3, 9, 3, 3, 2, 6, 5, 6, 6, 6, 4, 4, 4, 4, 4, 6, 7, 4, 4, 7, 7, 3, 4, 5, 3, 2, 6, 7, 5, 8, 4, 7, 2, 5, 5, 4, 6, 3, 3, 5, 4, 4, 7, 5, 5, 4, 6, 3, 5, 5, 6, 3, 6, 4, 5, 4, 6, 4, 4, 6, 6, 7, 3, 5, 2, 6, 6, 4, 6, 4, 5, 3, 6, 4, 8, 8, 5, 5, 4, 2, 7, 4, 7, 6, 3, 2, 5, 7, 5, 6, 4, 5, 7, 6, 3, 5, 4, 5, 7, 7]\n"
     ]
    }
   ],
   "source": [
    "import numpy as np\n",
    "np.random.seed(123)\n",
    "final_tails = []\n",
    "for x in range(1000):\n",
    "    tails = [0]\n",
    "    for x in range(10):\n",
    "        coin = np.random.randint(0, 2)\n",
    "        tails.append(tails[x] + coin)\n",
    "    final_tails.append(tails[-1])\n",
    "    \n",
    "print(\"Tails after 100 flips:\", final_tails)"
   ]
  },
  {
   "cell_type": "code",
   "execution_count": 50,
   "id": "c059e5bd",
   "metadata": {},
   "outputs": [
    {
     "data": {
      "image/png": "[encoded data removed]",
      "text/plain": [
       "<Figure size 640x480 with 1 Axes>"
      ]
     },
     "metadata": {},
     "output_type": "display_data"
    }
   ],
   "source": [
    "import matplotlib.pyplot as plt\n",
    "\n",
    "plt.hist(final_tails, bins = 10, edgecolor='black',color='green')\n",
    "plt.show()"
   ]
  }
 ],
 "metadata": {
  "kernelspec": {
   "display_name": "nosql",
   "language": "python",
   "name": "nosql"
  },
  "language_info": {
   "codemirror_mode": {
    "name": "ipython",
    "version": 3
   },
   "file_extension": ".py",
   "mimetype": "text/x-python",
   "name": "python",
   "nbconvert_exporter": "python",
   "pygments_lexer": "ipython3",
   "version": "3.12.8"
  }
 },
 "nbformat": 4,
 "nbformat_minor": 5
}
