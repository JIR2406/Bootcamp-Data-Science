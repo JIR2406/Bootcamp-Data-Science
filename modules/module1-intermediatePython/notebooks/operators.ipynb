{
 "cells": [
  {
   "cell_type": "markdown",
   "id": "d78859d7",
   "metadata": {},
   "source": [
    "Los operadores de comparacion son operadores que pueden indicar como se relacionan dos valores de Python y dan como resultado un valor booleano.\n",
    "\n",
    "\n",
    "NumPy determina que desea comparar cada elemento de bmi con 23 y devuelve los valores booleanos correspondientes.\n",
    "\n",
    "```python\n",
    "import numpy as np\n",
    "\n",
    "bmi = np.array([21.852,20.975,21.75,24.747,21.441]) \n",
    "\n",
    "# Si hacemos la comparaión nos dara un array de booleanos\n",
    "# El array tendra verdadero si algun dato cumple la \n",
    "# condicion que le ponemos\n",
    "\n",
    "bmi_bolean = bmi > 23\n",
    "\n",
    "print(bmi_bolean)\n",
    "```\n",
    "\n",
    "\n"
   ]
  },
  {
   "cell_type": "code",
   "execution_count": 2,
   "id": "287a7cae",
   "metadata": {},
   "outputs": [
    {
     "name": "stdout",
     "output_type": "stream",
     "text": [
      "[False False False  True False]\n"
     ]
    }
   ],
   "source": [
    "import numpy as np\n",
    "\n",
    "bmi = np.array([21.852,20.975,21.75,24.747,21.441]) \n",
    "\n",
    "# Si hacemos la comparaión nos dara un array de booleanos\n",
    "# El array tendra verdadero si algun dato cumple la \n",
    "# condicion que le ponemos\n",
    "\n",
    "bmi_bolean = bmi > 23\n",
    "\n",
    "print(bmi_bolean)"
   ]
  },
  {
   "cell_type": "markdown",
   "id": "4ee747f8",
   "metadata": {
    "vscode": {
     "languageId": "perl"
    }
   },
   "source": [
    "# Operaciones lógicas en NumPy\n",
    "\n",
    "En NumPy podemos combinar condiciones de forma vectorizada y controlar arrays booleanos con funciones dedicadas.\n",
    "\n",
    "| **Función**                | **Operador** | **Descripción**                                                     |\n",
    "|----------------------------|--------------|---------------------------------------------------------------------|\n",
    "| `np.logical_and(a, b)`     | `&`          | Elemento a elemento: True si **ambos** arrays booleanos son True    |\n",
    "| `np.logical_or(a, b)`      | `\\|`         | Elemento a elemento: True si **alguno** de los arrays es True       |\n",
    "| `np.logical_not(a)`        | `~`          | Invierte elemento a elemento el valor booleano (True ↔ False)       |\n",
    "\n",
    "\n",
    "Aquí pondré un pequeño ejemplo acerca de cómo usar la función:\n",
    "\n",
    "```python\n",
    "arr_aux = np.logical_and(bmi > 21, bmi < 22)\n",
    "print(arr_aux)\n",
    "```\n",
    "\n",
    "Esto generará un array booleano que indica con `True` los valores de `bmi` que están entre 21 y 22.\n",
    "\n",
    "\n",
    "Para seleccionar realmente solo estos bmis de la matriz bmi, podemos utilizar la matriz resultante de valores booleanos entre corchetes.\n",
    "\n",
    "\n",
    "```python\n",
    "\n",
    "# Esto nos da un array con los datos de bmi que cumplierón la condición\n",
    "arr_aux = bmi[np.logical_and(bmi > 21, bmi <22)]\n",
    "print(arr_aux)\n",
    "\n",
    "```"
   ]
  },
  {
   "cell_type": "code",
   "execution_count": 5,
   "id": "48fc461e",
   "metadata": {},
   "outputs": [
    {
     "name": "stdout",
     "output_type": "stream",
     "text": [
      "Array auxiliar con la condicion bmi > 21 y bmi < 22: \n",
      "[ True False  True False  True]\n"
     ]
    }
   ],
   "source": [
    "# Ahora vamos a hacer una comparacion con dos condiciones\n",
    "# Vamos a ver si el bmi es mayor que 21 y menor que 22\n",
    "print(\"Array auxiliar con la condicion bmi > 21 y bmi < 22: \")\n",
    "arr_aux = np.logical_and(bmi > 21, bmi < 22)\n",
    "print(arr_aux)"
   ]
  },
  {
   "cell_type": "code",
   "execution_count": 6,
   "id": "4d860440",
   "metadata": {},
   "outputs": [
    {
     "name": "stdout",
     "output_type": "stream",
     "text": [
      "Array auxiliar con los datos de bmi que cumplen la condicion: \n",
      "[21.852 21.75  21.441]\n"
     ]
    }
   ],
   "source": [
    "# Esto nos da un array con los datos de bmi que cumplierón la condición\n",
    "print(\"Array auxiliar con los datos de bmi que cumplen la condicion: \")\n",
    "arr_aux = bmi[np.logical_and(bmi > 21, bmi <22)]\n",
    "print(arr_aux)"
   ]
  }
 ],
 "metadata": {
  "kernelspec": {
   "display_name": "nosql",
   "language": "python",
   "name": "python3"
  },
  "language_info": {
   "codemirror_mode": {
    "name": "ipython",
    "version": 3
   },
   "file_extension": ".py",
   "mimetype": "text/x-python",
   "name": "python",
   "nbconvert_exporter": "python",
   "pygments_lexer": "ipython3",
   "version": "3.12.8"
  }
 },
 "nbformat": 4,
 "nbformat_minor": 5
}
