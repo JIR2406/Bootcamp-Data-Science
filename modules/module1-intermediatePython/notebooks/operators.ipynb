{
 "cells": [
  {
   "cell_type": "markdown",
   "id": "d78859d7",
   "metadata": {},
   "source": [
    "Los operadores de comparacion son operadores que pueden indicar como se relacionan dos valores de Python y dan como resultado un valor booleano.\n",
    "\n",
    "\n",
    "NumPy determina que desea comparar cada elemento de bmi con 23 y devuelve los valores booleanos correspondientes.\n",
    "\n",
    "```python\n",
    "import numpy as np\n",
    "\n",
    "bmi = np.array([21.852,20.975,21.75,24.747,21.441]) \n",
    "\n",
    "# Si hacemos la comparaión nos dara un array de booleanos\n",
    "# El array tendra verdadero si algun dato cumple la \n",
    "# condicion que le ponemos\n",
    "\n",
    "bmi_bolean = bmi > 23\n",
    "\n",
    "print(bmi_bolean)\n",
    "```\n",
    "\n",
    "\n"
   ]
  },
  {
   "cell_type": "code",
   "execution_count": 2,
   "id": "287a7cae",
   "metadata": {},
   "outputs": [
    {
     "name": "stdout",
     "output_type": "stream",
     "text": [
      "[False False False  True False]\n"
     ]
    }
   ],
   "source": [
    "import numpy as np\n",
    "\n",
    "bmi = np.array([21.852,20.975,21.75,24.747,21.441]) \n",
    "\n",
    "# Si hacemos la comparaión nos dara un array de booleanos\n",
    "# El array tendra verdadero si algun dato cumple la \n",
    "# condicion que le ponemos\n",
    "\n",
    "bmi_bolean = bmi > 23\n",
    "\n",
    "print(bmi_bolean)"
   ]
  }
 ],
 "metadata": {
  "kernelspec": {
   "display_name": "nosql",
   "language": "python",
   "name": "nosql"
  },
  "language_info": {
   "codemirror_mode": {
    "name": "ipython",
    "version": 3
   },
   "file_extension": ".py",
   "mimetype": "text/x-python",
   "name": "python",
   "nbconvert_exporter": "python",
   "pygments_lexer": "ipython3",
   "version": "3.12.8"
  }
 },
 "nbformat": 4,
 "nbformat_minor": 5
}
