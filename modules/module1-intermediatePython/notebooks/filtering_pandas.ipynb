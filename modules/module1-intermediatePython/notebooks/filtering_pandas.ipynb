{
 "cells": [
  {
   "cell_type": "markdown",
   "id": "6820a41d",
   "metadata": {},
   "source": [
    "> **Nota:** Lo primero que haremos será importar nuevamente el conjunto de datos de BRICS desde el archivo CSV.  \n",
    "> **Ruta:** `../data/brics.csv`"
   ]
  },
  {
   "cell_type": "code",
   "execution_count": 6,
   "id": "5cdf881b",
   "metadata": {},
   "outputs": [
    {
     "name": "stdout",
     "output_type": "stream",
     "text": [
      "         country    capital    area  population\n",
      "BR        Brazil   Brasilia   8.516      200.40\n",
      "RU        Russia     Moscow  17.100      143.50\n",
      "IN         India  New Delhi   3.286     1252.00\n",
      "CH         China    Beijing   9.597     1357.00\n",
      "SA  South Africa   Pretoria   1.221       52.98\n"
     ]
    }
   ],
   "source": [
    "import pandas as pd  # Importamos la librería pandas para manejo de datos\n",
    "\n",
    "# Leemos el archivo CSV con los datos de BRICS y lo almacenamos en un DataFrame\n",
    "brics = pd.read_csv('../data/brics.csv',index_col=0)\n",
    "\n",
    "# Mostramos el contenido del DataFrame en pantalla\n",
    "print(brics)"
   ]
  },
  {
   "cell_type": "markdown",
   "id": "972a1fe2",
   "metadata": {},
   "source": [
    "Ahora supongamos que se desea consevar los países por lo que las observaciones en este caso, para el cual el area es mayor a 8 millones de kilometros cuadrados. Para ello seguiremos 3 pasos.\n",
    "\n",
    "1. Obtener la columna de área de brics\n",
    "2. Comparación en esta columna y almacenamos resultados. \n",
    "3. Se debe utilizar este resultado para realizar la selección adecuada en el DF\n",
    "\n",
    "```python\n",
    "# Paso 1\n",
    "brics.loc[:,'area']\n",
    "\n",
    "# Paso 2\n",
    "is_huge = brics.loc[:,'area'] > 8\n",
    "\n",
    "# Paso 3\n",
    "brics[is_huge] # Aqui se esta filtrando en el DF\n",
    "```\n",
    "\n",
    "En el paso 3 es utilizar la serie booleana para crear un subconjinto del Pandas DF\n",
    "\n"
   ]
  },
  {
   "cell_type": "code",
   "execution_count": 8,
   "id": "c0606d89",
   "metadata": {},
   "outputs": [
    {
     "name": "stdout",
     "output_type": "stream",
     "text": [
      "Países con área mayor a 8 millones de km²:\n"
     ]
    },
    {
     "data": {
      "text/html": [
       "<div>\n",
       "<style scoped>\n",
       "    .dataframe tbody tr th:only-of-type {\n",
       "        vertical-align: middle;\n",
       "    }\n",
       "\n",
       "    .dataframe tbody tr th {\n",
       "        vertical-align: top;\n",
       "    }\n",
       "\n",
       "    .dataframe thead th {\n",
       "        text-align: right;\n",
       "    }\n",
       "</style>\n",
       "<table border=\"1\" class=\"dataframe\">\n",
       "  <thead>\n",
       "    <tr style=\"text-align: right;\">\n",
       "      <th></th>\n",
       "      <th>country</th>\n",
       "      <th>capital</th>\n",
       "      <th>area</th>\n",
       "      <th>population</th>\n",
       "    </tr>\n",
       "  </thead>\n",
       "  <tbody>\n",
       "    <tr>\n",
       "      <th>BR</th>\n",
       "      <td>Brazil</td>\n",
       "      <td>Brasilia</td>\n",
       "      <td>8.516</td>\n",
       "      <td>200.4</td>\n",
       "    </tr>\n",
       "    <tr>\n",
       "      <th>RU</th>\n",
       "      <td>Russia</td>\n",
       "      <td>Moscow</td>\n",
       "      <td>17.100</td>\n",
       "      <td>143.5</td>\n",
       "    </tr>\n",
       "    <tr>\n",
       "      <th>CH</th>\n",
       "      <td>China</td>\n",
       "      <td>Beijing</td>\n",
       "      <td>9.597</td>\n",
       "      <td>1357.0</td>\n",
       "    </tr>\n",
       "  </tbody>\n",
       "</table>\n",
       "</div>"
      ],
      "text/plain": [
       "   country   capital    area  population\n",
       "BR  Brazil  Brasilia   8.516       200.4\n",
       "RU  Russia    Moscow  17.100       143.5\n",
       "CH   China   Beijing   9.597      1357.0"
      ]
     },
     "execution_count": 8,
     "metadata": {},
     "output_type": "execute_result"
    }
   ],
   "source": [
    "# Paso 1\n",
    "brics.loc[:,'area']\n",
    "\n",
    "# Paso 2\n",
    "is_huge = brics.loc[:,'area'] > 8\n",
    "\n",
    "# Paso 3\n",
    "print(\"Países con área mayor a 8 millones de km²:\")\n",
    "brics[is_huge] # Aqui se esta filtrando en el DF"
   ]
  },
  {
   "cell_type": "markdown",
   "id": "c403162e",
   "metadata": {},
   "source": [
    "En pandas, puedes utilizar operadores lógicos como **and**, **or** y **not** de manera similar a como lo haces en NumPy, ya que pandas está construido sobre esta librería. \n",
    "\n",
    "Por ejemplo, para filtrar un DataFrame con condiciones múltiples, puedes usar las funciones `np.logical_and`, `np.logical_or` y `np.logical_not` de NumPy:\n",
    "\n",
    "```python\n",
    "import numpy as np\n",
    "\n",
    "# Filtrar filas donde 'area' sea mayor a 8 y menor a 10\n",
    "brics[np.logical_and(brics[\"area\"] > 8, brics[\"area\"] < 10)]\n",
    "```\n",
    "\n",
    "También puedes usar los operadores `&` (and), `|` (or), y `~` (not), pero recuerda encerrar cada condición entre paréntesis:\n",
    "\n",
    "```python\n",
    "# Usando operadores de pandas para combinar condiciones\n",
    "brics[(brics[\"area\"] > 8) & (brics[\"area\"] < 10)]\n",
    "```\n",
    "\n",
    "Ambas formas son válidas y producen el mismo resultado. Escoge la que te resulte más clara y conveniente para tu código."
   ]
  },
  {
   "cell_type": "code",
   "execution_count": 10,
   "id": "77637af2",
   "metadata": {},
   "outputs": [
    {
     "data": {
      "text/html": [
       "<div>\n",
       "<style scoped>\n",
       "    .dataframe tbody tr th:only-of-type {\n",
       "        vertical-align: middle;\n",
       "    }\n",
       "\n",
       "    .dataframe tbody tr th {\n",
       "        vertical-align: top;\n",
       "    }\n",
       "\n",
       "    .dataframe thead th {\n",
       "        text-align: right;\n",
       "    }\n",
       "</style>\n",
       "<table border=\"1\" class=\"dataframe\">\n",
       "  <thead>\n",
       "    <tr style=\"text-align: right;\">\n",
       "      <th></th>\n",
       "      <th>country</th>\n",
       "      <th>capital</th>\n",
       "      <th>area</th>\n",
       "      <th>population</th>\n",
       "    </tr>\n",
       "  </thead>\n",
       "  <tbody>\n",
       "    <tr>\n",
       "      <th>BR</th>\n",
       "      <td>Brazil</td>\n",
       "      <td>Brasilia</td>\n",
       "      <td>8.516</td>\n",
       "      <td>200.4</td>\n",
       "    </tr>\n",
       "    <tr>\n",
       "      <th>CH</th>\n",
       "      <td>China</td>\n",
       "      <td>Beijing</td>\n",
       "      <td>9.597</td>\n",
       "      <td>1357.0</td>\n",
       "    </tr>\n",
       "  </tbody>\n",
       "</table>\n",
       "</div>"
      ],
      "text/plain": [
       "   country   capital   area  population\n",
       "BR  Brazil  Brasilia  8.516       200.4\n",
       "CH   China   Beijing  9.597      1357.0"
      ]
     },
     "execution_count": 10,
     "metadata": {},
     "output_type": "execute_result"
    }
   ],
   "source": [
    "# Importamos la librería numpy, que nos permite trabajar con operaciones lógicas y matemáticas avanzadas\n",
    "import numpy as np\n",
    "\n",
    "# Filtramos el DataFrame 'brics' para obtener solo las filas donde la columna 'area' sea mayor a 8 y menor a 10\n",
    "# np.logical_and permite combinar ambas condiciones de manera eficiente\n",
    "brics[np.logical_and(brics[\"area\"] > 8, brics[\"area\"] < 10)]"
   ]
  }
 ],
 "metadata": {
  "kernelspec": {
   "display_name": "nosql",
   "language": "python",
   "name": "python3"
  },
  "language_info": {
   "codemirror_mode": {
    "name": "ipython",
    "version": 3
   },
   "file_extension": ".py",
   "mimetype": "text/x-python",
   "name": "python",
   "nbconvert_exporter": "python",
   "pygments_lexer": "ipython3",
   "version": "3.12.8"
  }
 },
 "nbformat": 4,
 "nbformat_minor": 5
}
