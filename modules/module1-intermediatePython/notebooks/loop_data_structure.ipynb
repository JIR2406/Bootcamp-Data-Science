{
 "cells": [
  {
   "cell_type": "markdown",
   "id": "d21c9468",
   "metadata": {},
   "source": [
    "# Recorrido de Estructuras de Datos en Python\n",
    "\n",
    "La forma en que se define la secuencia sobre la que estás iterando varía dependiendo de la estructura de datos. A continuación se muestran ejemplos de cómo recorrer diferentes estructuras de datos en Python.\n",
    "\n",
    "---\n",
    "\n",
    "## Ejemplo de recorrido de un diccionario\n",
    "\n",
    "Para iterar sobre un diccionario y acceder tanto a las claves como a los valores, puedes usar el método `.items()`:\n",
    "\n",
    "```python\n",
    "mi_diccionario = {'manzana': 3, 'plátano': 5, 'naranja': 2}\n",
    "\n",
    "for clave, valor in mi_diccionario.items():\n",
    "    print(f\"Clave: {clave}, Valor: {valor}\")\n",
    "```\n",
    "\n",
    "---\n",
    "\n",
    "## Recorrido de un array de NumPy\n",
    "\n",
    "Para recorrer un array de NumPy, primero es necesario importar la librería y definir los arrays. Por ejemplo, si queremos calcular el BMI (Índice de Masa Corporal):\n",
    "\n",
    "```python\n",
    "import numpy as np\n",
    "\n",
    "np_height = np.array([1.73, 1.68, 1.71, 1.89, 1.79])\n",
    "np_weight = np.array([65.4, 59.2, 63.6, 88.4, 68.7])\n",
    "\n",
    "bmi = np_weight / np_height ** 2\n",
    "\n",
    "for val in bmi:\n",
    "    print(val)\n",
    "```\n",
    "\n",
    "---\n",
    "\n",
    "## Recorrido de una matriz de NumPy\n",
    "\n",
    "Cuando tienes una matriz (array bidimensional), puedes utilizar `np.nditer` para recorrer todos los elementos, sin importar su dimensión:\n",
    "\n",
    "```python\n",
    "import numpy as np\n",
    "\n",
    "np_height = np.array([1.73, 1.68, 1.71, 1.89, 1.79])\n",
    "np_weight = np.array([65.4, 59.2, 63.6, 88.4, 68.7])\n",
    "\n",
    "meas = np.array([np_height, np_weight])\n",
    "\n",
    "for val in np.nditer(meas):\n",
    "    print(val)\n",
    "```\n",
    "\n",
    "---\n",
    "\n",
    "**Nota:**  \n",
    "- Para listas o arrays unidimensionales, puedes recorrerlos directamente con un ciclo `for`.\n",
    "- Para diccionarios, utiliza `.items()` si necesitas tanto la clave como el valor.\n",
    "- Para arrays o matrices de NumPy multidimensionales, `np.nditer` es una opción eficiente para iterar sobre todos los elementos.\n"
   ]
  },
  {
   "cell_type": "code",
   "execution_count": 2,
   "id": "2d572ea4",
   "metadata": {},
   "outputs": [
    {
     "name": "stdout",
     "output_type": "stream",
     "text": [
      "1.73 1.68 1.71 1.89 1.79 65.4 59.2 63.6 88.4 68.7 "
     ]
    }
   ],
   "source": [
    "import numpy as np\n",
    "\n",
    "np_height = np.array([1.73, 1.68, 1.71, 1.89, 1.79])\n",
    "np_weight = np.array([65.4, 59.2, 63.6, 88.4, 68.7])\n",
    "\n",
    "meas = np.array([np_height, np_weight])\n",
    "\n",
    "for val in np.nditer(meas):\n",
    "    print(val,end=' ')"
   ]
  },
  {
   "cell_type": "markdown",
   "id": "1266b36a",
   "metadata": {},
   "source": [
    "---\n",
    "Para la siguiente sección, es necesario volver a importar el DataFrame desde el archivo CSV.\n",
    "\n",
    "**Ruta del archivo:** `../data/brics.csv`\n",
    "\n",
    "```python\n",
    "import pandas as pd\n",
    "\n",
    "df = pd.read_csv(\"../data/brics.csv\", index_col = 0)\n",
    "```\n",
    "---"
   ]
  },
  {
   "cell_type": "code",
   "execution_count": 7,
   "id": "e2b23066",
   "metadata": {},
   "outputs": [
    {
     "name": "stdout",
     "output_type": "stream",
     "text": [
      "Archivo cargado correctamente\n"
     ]
    }
   ],
   "source": [
    "import pandas as pd\n",
    "\n",
    "brics = pd.read_csv(\"../data/brics.csv\", index_col=0)\n",
    "\n",
    "print(\"Archivo cargado correctamente\")"
   ]
  },
  {
   "cell_type": "markdown",
   "id": "c48a2d30",
   "metadata": {},
   "source": [
    "En pandas necesitamos decir explicitamente que vamos a iterar sobre las filas.\n",
    "Para ello llama al metodo iterrows en el pais de brics\n",
    "\n",
    "El metodo iterrows examina el DataFrame y en cada iteracion genera dos piezas de datos: las etiquetas de la fila y luego los datos reales en la fila como una serie de Pandas.\n",
    "\n",
    "```python\n",
    "for lab, row in brics.iterrows():\n",
    "    print(lab)\n",
    "    print(row)\n",
    "```\n",
    "\n",
    "Digamos que solo se requiere imprimir la capital en cada iteración.\n",
    "Entonces se necesita cambiar la declaracion de impresión de la siguiente manera, imprimiendo la etiqueta y la mayúscula juntas.\n",
    "\n",
    "\n",
    "```python\n",
    "for lab,row in brics.iterrows():\n",
    "    print(lab+\":\"+row['capital'])\n",
    "```\n",
    "\n",
    "Ahora agregaremos una nueva columna al DataFrame de brics, denominada name_lenght que contiene el numero de caracteres del nombre del país.\n",
    "\n",
    "```python\n",
    "for lab, row in brics.iterrows():\n",
    "    # Creating Series on every iteration\n",
    "    brics.loc[lab,'name_lenght'] = len(row['country'])\n",
    "print(brics)\n",
    "```\n",
    "\n",
    "\n",
    "  \n"
   ]
  },
  {
   "cell_type": "code",
   "execution_count": null,
   "id": "d0057f6b",
   "metadata": {},
   "outputs": [
    {
     "name": "stdout",
     "output_type": "stream",
     "text": [
      "         country    capital    area  population  name_lenght\n",
      "BR        Brazil   Brasilia   8.516      200.40          6.0\n",
      "RU        Russia     Moscow  17.100      143.50          6.0\n",
      "IN         India  New Delhi   3.286     1252.00          5.0\n",
      "CH         China    Beijing   9.597     1357.00          5.0\n",
      "SA  South Africa   Pretoria   1.221       52.98         12.0\n"
     ]
    }
   ],
   "source": [
    "# Looping through DataFrame rows and creating a new column\n",
    "for lab, row in brics.iterrows():\n",
    "    # Creating Series on every iteration\n",
    "    brics.loc[lab,'name_lenght'] = len(row['country'])\n",
    "print(brics)"
   ]
  },
  {
   "cell_type": "markdown",
   "id": "3eab4183",
   "metadata": {},
   "source": [
    "Un enfoque mucho mejor si desea calcular una columna DataFrame completa mediante para aplicar una funcion en una columna particular elemento por elemento se llama apply()\n",
    "\n",
    "```python\n",
    "brics['name_lenght'] = brics['country'].apply(len)\n",
    "\n",
    "print(brics)\n",
    "\n",
    "```"
   ]
  },
  {
   "cell_type": "code",
   "execution_count": 11,
   "id": "a12c236c",
   "metadata": {},
   "outputs": [
    {
     "name": "stdout",
     "output_type": "stream",
     "text": [
      "         country    capital    area  population  name_lenght\n",
      "BR        Brazil   Brasilia   8.516      200.40            6\n",
      "RU        Russia     Moscow  17.100      143.50            6\n",
      "IN         India  New Delhi   3.286     1252.00            5\n",
      "CH         China    Beijing   9.597     1357.00            5\n",
      "SA  South Africa   Pretoria   1.221       52.98           12\n"
     ]
    }
   ],
   "source": [
    "# Calcula la longitud de cada nombre de país y la asigna a la columna 'name_lenght'\n",
    "brics['name_lenght'] = brics['country'].apply(len)\n",
    "\n",
    "# Muestra el DataFrame actualizado con la nueva columna\n",
    "print(brics)\n"
   ]
  },
  {
   "cell_type": "markdown",
   "id": "cdf9f810",
   "metadata": {},
   "source": []
  }
 ],
 "metadata": {
  "kernelspec": {
   "display_name": "nosql",
   "language": "python",
   "name": "python3"
  },
  "language_info": {
   "codemirror_mode": {
    "name": "ipython",
    "version": 3
   },
   "file_extension": ".py",
   "mimetype": "text/x-python",
   "name": "python",
   "nbconvert_exporter": "python",
   "pygments_lexer": "ipython3",
   "version": "3.12.8"
  }
 },
 "nbformat": 4,
 "nbformat_minor": 5
}
