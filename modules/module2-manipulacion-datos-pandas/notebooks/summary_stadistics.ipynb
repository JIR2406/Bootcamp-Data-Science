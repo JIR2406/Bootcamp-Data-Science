{
 "cells": [
  {
   "metadata": {},
   "cell_type": "markdown",
   "source": [
    "## Manipulación de datos con Pandas\n",
    "\n",
    "En primer lugar, importamos la librería `pandas`, que nos permitirá trabajar de manera eficiente con datos tabulares.\n",
    "\n",
    "A continuación, leemos el archivo CSV `Books.csv` y lo cargamos en un DataFrame. Además, convertimos la columna `pages` a tipo numérico para facilitar su análisis. Finalmente, mostramos las primeras filas del DataFrame para verificar que la carga se realizó correctamente."
   ],
   "id": "a9bd353940def176"
  },
  {
   "metadata": {
    "ExecuteTime": {
     "end_time": "2025-07-15T01:43:00.094374Z",
     "start_time": "2025-07-15T01:43:00.074273Z"
    }
   },
   "cell_type": "code",
   "source": [
    "import pandas as pd\n",
    "\n",
    "df = pd.read_csv('../data/Books.csv')\n",
    "\n",
    "df['pages'] = pd.to_numeric(df['pages'], errors='coerce').astype('Int64')\n",
    "\n",
    "print(df.head(2))"
   ],
   "id": "2c991162",
   "outputs": [
    {
     "name": "stdout",
     "output_type": "stream",
     "text": [
      "                                    title  \\\n",
      "0                Fictional Points of View   \n",
      "1  Science Fiction and Fantasy Literature   \n",
      "\n",
      "                                           author  pages               genre  \\\n",
      "0                                  Peter Lamarque    252  Literary Criticism   \n",
      "1  R. Reginald, Douglas Menville, Mary A. Burgess    802           Reference   \n",
      "\n",
      "                                         description published_date  \\\n",
      "0  The volume focuses on a wide range of thinkers...           1996   \n",
      "1  Science Fiction and Fantasy Literature, A Chec...     2010-09-01   \n",
      "\n",
      "                  publisher language average_rating  ratings_count  \\\n",
      "0  Cornell University Press       en      No rating              0   \n",
      "1        Wildside Press LLC       en      No rating              0   \n",
      "\n",
      "                                           thumbnail  \n",
      "0  http://books.google.com/books/content?id=rh-om...  \n",
      "1  http://books.google.com/books/content?id=P8zW2...  \n"
     ]
    }
   ],
   "execution_count": 7
  },
  {
   "metadata": {},
   "cell_type": "markdown",
   "source": [
    "## Estadísticas de resumen\n",
    "\n",
    "En este notebook exploraremos la **agregación de datos**, comenzando por las estadísticas de resumen.\n",
    "\n",
    "Las **estadísticas de resumen** son valores numéricos que describen y sintetizan las características principales de un conjunto de datos. Son fundamentales para obtener una visión general rápida y entender el comportamiento de tus datos.\n",
    "\n",
    "---\n",
    "\n",
    "### Ejemplo: Calcular la media de una columna\n",
    "\n",
    "La **media** es una de las estadísticas más comunes para datos numéricos. Representa el promedio de todos los valores de una columna.\n",
    "\n",
    "Puedes calcular la media de una columna numérica utilizando el método `mean()` de Pandas:\n",
    "\n",
    "```python\n",
    "df['pages'].mean()\n",
    "```\n",
    "\n",
    "---\n",
    "\n",
    "### Principales estadísticas de resumen en Pandas\n",
    "\n",
    "A continuación, se presentan algunas de las estadísticas más utilizadas y cómo calcularlas con Pandas:\n",
    "\n",
    "<div align=\"center\">\n",
    "\n",
    "| **Estadística** | **Descripción**                                                         | **Método en Pandas**           |\n",
    "|-----------------|------------------------------------------------------------------------|-------------------------------|\n",
    "| **media**       | Promedio de todos los valores de la columna                            | `df['pages'].mean()`          |\n",
    "| **mediana**     | Valor central de los datos ordenados                                   | `df['pages'].median()`        |\n",
    "| **moda**        | Valor que más veces se repite en la columna                            | `df['pages'].mode()`          |\n",
    "| **mínimo**      | Valor más bajo de la columna                                           | `df['pages'].min()`           |\n",
    "| **máximo**      | Valor más alto de la columna                                           | `df['pages'].max()`           |\n",
    "| **varianza**    | Medida de dispersión de los datos                                      | `df['pages'].var()`           |\n",
    "| **desviación estándar** | Indica cuánto se alejan los datos de la media                  | `df['pages'].std()`           |\n",
    "| **suma**        | Total de los valores de la columna                                     | `df['pages'].sum()`           |\n",
    "| **cuantil**     | Valor que divide los datos en porcentajes (ejemplo: cuartiles, percentiles) | `df['pages'].quantile(0.5)`   |\n",
    "\n",
    "</div>\n",
    "\n",
    "---\n",
    "\n",
    "> 💡 **Tip:** Puedes usar el método `describe()` para obtener varias de estas estadísticas de forma rápida:\n",
    "> ```python\n",
    "> df['pages'].describe()\n",
    "> ```\n"
   ],
   "id": "77c7d836128676"
  },
  {
   "metadata": {},
   "cell_type": "markdown",
   "source": [
    "El metodo agregado permite calcular estadisticas de resumen personalizadas.\n",
    "### Ejemplo: Calcular estadísticas personalizadas\n",
    "Puedes definir tus propias funciones de agregación y aplicarlas a una columna específica. Por ejemplo, si deseas calcular la media y la desviación estándar de la columna `pages`, puedes hacerlo de la siguiente manera:\n",
    "```python\n",
    "def custom_agg(series):\n",
    "    return pd.Series({\n",
    "        'mean': series.mean(),\n",
    "        'std': series.std()\n",
    "    })\n",
    "df['pages'].agg(custom_agg)\n",
    "```"
   ],
   "id": "1dbfdbdf58c7e9ff"
  },
  {
   "metadata": {
    "ExecuteTime": {
     "end_time": "2025-07-15T02:06:37.698779Z",
     "start_time": "2025-07-15T02:06:37.691768Z"
    }
   },
   "cell_type": "code",
   "source": [
    "def custom_agg(column):\n",
    "    return column.mean()\n",
    "\n",
    "def custom_agg2(column):\n",
    "    return column.std()\n",
    "\n",
    "df['pages'].agg([custom_agg, custom_agg2]) # Podemos aplicar varias funciones de agregación a la vez"
   ],
   "id": "c1eee9afe24865e",
   "outputs": [
    {
     "data": {
      "text/plain": [
       "custom_agg     412.009775\n",
       "custom_agg2    446.803195\n",
       "Name: pages, dtype: float64"
      ]
     },
     "execution_count": 18,
     "metadata": {},
     "output_type": "execute_result"
    }
   ],
   "execution_count": 18
  },
  {
   "metadata": {},
   "cell_type": "markdown",
   "source": [
    "    Pandas tambien tiene funciones acumulativas que permiten realizar calculos acumulativos sobre una columna.\n",
    "\n",
    "Tambien se pueden calculas maximo acumlado, minimo acumulado, producto acumulado y todos devuelven una columna entera de un DataFrame con los valores acumulados.\n",
    "\n",
    "## Funciones acumulativas en Pandas\n",
    "\n",
    "Pandas ofrece funciones acumulativas para realizar cálculos progresivos sobre los valores de una columna. Estas funciones devuelven una **serie** con el valor acumulado en cada posición.\n",
    "\n",
    "| **Función**       | **Descripción**                        | **Método en Pandas**           |\n",
    "|-------------------|----------------------------------------|-------------------------------|\n",
    "| Suma acumulativa  | Suma de los valores hasta cada fila    | `df['pages'].cumsum()`        |\n",
    "| Máximo acumulado  | Valor máximo hasta cada fila           | `df['pages'].cummax()`        |\n",
    "| Mínimo acumulado  | Valor mínimo hasta cada fila           | `df['pages'].cummin()`        |\n",
    "| Producto acumulado| Producto de los valores hasta cada fila| `df['pages'].cumprod()`       |\n",
    "\n",
    "---\n",
    "\n",
    "> **Ejemplo:** Calcular la suma acumulativa de la columna `pages`:\n",
    "> ```python\n",
    "> df['pages'].cumsum()\n",
    "> ```\n"
   ],
   "id": "3a7d1f4ffad4e417"
  },
  {
   "metadata": {
    "ExecuteTime": {
     "end_time": "2025-07-15T02:36:36.437594Z",
     "start_time": "2025-07-15T02:36:36.431014Z"
    }
   },
   "cell_type": "code",
   "source": "df['pages'].cummax().head(3)",
   "id": "59a03a674a713823",
   "outputs": [
    {
     "data": {
      "text/plain": [
       "0     252\n",
       "1     802\n",
       "2    1662\n",
       "Name: pages, dtype: Int64"
      ]
     },
     "execution_count": 20,
     "metadata": {},
     "output_type": "execute_result"
    }
   ],
   "execution_count": 20
  }
 ],
 "metadata": {
  "kernelspec": {
   "display_name": "nosql",
   "language": "python",
   "name": "python3"
  },
  "language_info": {
   "codemirror_mode": {
    "name": "ipython",
    "version": 3
   },
   "file_extension": ".py",
   "mimetype": "text/x-python",
   "name": "python",
   "nbconvert_exporter": "python",
   "pygments_lexer": "ipython3",
   "version": "3.12.8"
  }
 },
 "nbformat": 4,
 "nbformat_minor": 5
}
