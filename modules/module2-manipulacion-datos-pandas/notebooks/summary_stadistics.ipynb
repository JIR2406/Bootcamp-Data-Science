{
 "cells": [
  {
   "cell_type": "code",
   "id": "2c991162",
   "metadata": {
    "ExecuteTime": {
     "end_time": "2025-07-15T01:33:16.391280Z",
     "start_time": "2025-07-15T01:33:16.370729Z"
    }
   },
   "source": [
    "import pandas as pd\n",
    "\n",
    "df = pd.read_csv('../data/Books.csv')\n",
    "\n",
    "df['pages'] = pd.to_numeric(df['pages'],errors='coerce').astype('Int64')\n",
    "\n",
    "print(df.head(2))"
   ],
   "outputs": [
    {
     "name": "stdout",
     "output_type": "stream",
     "text": [
      "                                    title  \\\n",
      "0                Fictional Points of View   \n",
      "1  Science Fiction and Fantasy Literature   \n",
      "\n",
      "                                           author  pages               genre  \\\n",
      "0                                  Peter Lamarque    252  Literary Criticism   \n",
      "1  R. Reginald, Douglas Menville, Mary A. Burgess    802           Reference   \n",
      "\n",
      "                                         description published_date  \\\n",
      "0  The volume focuses on a wide range of thinkers...           1996   \n",
      "1  Science Fiction and Fantasy Literature, A Chec...     2010-09-01   \n",
      "\n",
      "                  publisher language average_rating  ratings_count  \\\n",
      "0  Cornell University Press       en      No rating              0   \n",
      "1        Wildside Press LLC       en      No rating              0   \n",
      "\n",
      "                                           thumbnail  \n",
      "0  http://books.google.com/books/content?id=rh-om...  \n",
      "1  http://books.google.com/books/content?id=P8zW2...  \n"
     ]
    }
   ],
   "execution_count": 6
  },
  {
   "cell_type": "markdown",
   "id": "f55c420d",
   "metadata": {},
   "source": []
  }
 ],
 "metadata": {
  "kernelspec": {
   "display_name": "nosql",
   "language": "python",
   "name": "python3"
  },
  "language_info": {
   "codemirror_mode": {
    "name": "ipython",
    "version": 3
   },
   "file_extension": ".py",
   "mimetype": "text/x-python",
   "name": "python",
   "nbconvert_exporter": "python",
   "pygments_lexer": "ipython3",
   "version": "3.12.8"
  }
 },
 "nbformat": 4,
 "nbformat_minor": 5
}
