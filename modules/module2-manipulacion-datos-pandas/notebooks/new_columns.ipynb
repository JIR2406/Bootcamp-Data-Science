{
 "cells": [
  {
   "cell_type": "code",
   "execution_count": null,
   "id": "0655521e",
   "metadata": {},
   "outputs": [
    {
     "name": "stdout",
     "output_type": "stream",
     "text": [
      "DataFrame cargado con éxito.\n"
     ]
    },
    {
     "data": {
      "text/html": [
       "<div>\n",
       "<style scoped>\n",
       "    .dataframe tbody tr th:only-of-type {\n",
       "        vertical-align: middle;\n",
       "    }\n",
       "\n",
       "    .dataframe tbody tr th {\n",
       "        vertical-align: top;\n",
       "    }\n",
       "\n",
       "    .dataframe thead th {\n",
       "        text-align: right;\n",
       "    }\n",
       "</style>\n",
       "<table border=\"1\" class=\"dataframe\">\n",
       "  <thead>\n",
       "    <tr style=\"text-align: right;\">\n",
       "      <th></th>\n",
       "      <th>title</th>\n",
       "      <th>author</th>\n",
       "      <th>pages</th>\n",
       "      <th>genre</th>\n",
       "      <th>description</th>\n",
       "      <th>published_date</th>\n",
       "      <th>publisher</th>\n",
       "      <th>language</th>\n",
       "      <th>average_rating</th>\n",
       "      <th>ratings_count</th>\n",
       "      <th>thumbnail</th>\n",
       "    </tr>\n",
       "  </thead>\n",
       "  <tbody>\n",
       "    <tr>\n",
       "      <th>0</th>\n",
       "      <td>Fictional Points of View</td>\n",
       "      <td>Peter Lamarque</td>\n",
       "      <td>252.0</td>\n",
       "      <td>Literary Criticism</td>\n",
       "      <td>The volume focuses on a wide range of thinkers...</td>\n",
       "      <td>1996</td>\n",
       "      <td>Cornell University Press</td>\n",
       "      <td>en</td>\n",
       "      <td>No rating</td>\n",
       "      <td>0</td>\n",
       "      <td>http://books.google.com/books/content?id=rh-om...</td>\n",
       "    </tr>\n",
       "    <tr>\n",
       "      <th>1</th>\n",
       "      <td>Science Fiction and Fantasy Literature</td>\n",
       "      <td>R. Reginald, Douglas Menville, Mary A. Burgess</td>\n",
       "      <td>802.0</td>\n",
       "      <td>Reference</td>\n",
       "      <td>Science Fiction and Fantasy Literature, A Chec...</td>\n",
       "      <td>2010-09-01</td>\n",
       "      <td>Wildside Press LLC</td>\n",
       "      <td>en</td>\n",
       "      <td>No rating</td>\n",
       "      <td>0</td>\n",
       "      <td>http://books.google.com/books/content?id=P8zW2...</td>\n",
       "    </tr>\n",
       "  </tbody>\n",
       "</table>\n",
       "</div>"
      ],
      "text/plain": [
       "                                    title  \\\n",
       "0                Fictional Points of View   \n",
       "1  Science Fiction and Fantasy Literature   \n",
       "\n",
       "                                           author  pages               genre  \\\n",
       "0                                  Peter Lamarque  252.0  Literary Criticism   \n",
       "1  R. Reginald, Douglas Menville, Mary A. Burgess  802.0           Reference   \n",
       "\n",
       "                                         description published_date  \\\n",
       "0  The volume focuses on a wide range of thinkers...           1996   \n",
       "1  Science Fiction and Fantasy Literature, A Chec...     2010-09-01   \n",
       "\n",
       "                  publisher language average_rating  ratings_count  \\\n",
       "0  Cornell University Press       en      No rating              0   \n",
       "1        Wildside Press LLC       en      No rating              0   \n",
       "\n",
       "                                           thumbnail  \n",
       "0  http://books.google.com/books/content?id=rh-om...  \n",
       "1  http://books.google.com/books/content?id=P8zW2...  "
      ]
     },
     "execution_count": 15,
     "metadata": {},
     "output_type": "execute_result"
    }
   ],
   "source": [
    "import pandas as pd\n",
    "\n",
    "df = pd.read_csv('../data/Books.csv')\n",
    "df['pages'] = pd.to_numeric(df['pages'], errors='coerce') # transform 'pages' column to numeric, handling errors\n",
    "\n",
    "print(\"DataFrame cargado con éxito.\")\n",
    "df.head(2)  # Display the first few rows of the DataFrame"
   ]
  },
  {
   "cell_type": "markdown",
   "id": "027e14f9",
   "metadata": {},
   "source": [
    "## Crear y añadir nuevas columnas en pandas\n",
    "\n",
    "La creación y adición de nuevas columnas en un DataFrame de pandas puede conocerse como **mutar**, **transformar** o **ingeniería de características** (feature engineering).\n",
    "\n",
    "Esto te permite generar información adicional a partir de los datos existentes.\n",
    "\n",
    "### Ejemplo básico\n",
    "\n",
    "Para añadir una columna llamada `'ejemplo'` que sea el resultado de dividir el número de páginas entre 10:\n",
    "\n",
    "```python\n",
    "df['ejemplo'] = df['pages'] / 10\n",
    "print(df)\n",
    "```\n",
    "\n",
    "---\n",
    "\n",
    "### Recomendaciones\n",
    "\n",
    "- Puedes crear columnas a partir de operaciones matemáticas, funciones personalizadas, o aplicar métodos de pandas.\n",
    "- Es posible crear varias columnas a la vez, usando distintas asignaciones o el método `.assign()`.\n",
    "\n",
    "#### Ejemplo usando `.assign()`:\n",
    "\n",
    "```python\n",
    "df = df.assign(\n",
    "    ejemplo=df['pages'] / 10,\n",
    "    doble_paginas=df['pages'] * 2\n",
    ")\n",
    "```\n",
    "\n",
    "---\n",
    "\n",
    "**Resumen:**  \n",
    "Crear nuevas columnas es fundamental para transformar y enriquecer tus datos antes de analizarlos o construir modelos.\n"
   ]
  },
  {
   "cell_type": "code",
   "execution_count": 19,
   "id": "f8b70e7d",
   "metadata": {},
   "outputs": [
    {
     "name": "stdout",
     "output_type": "stream",
     "text": [
      "0     25.2\n",
      "1     80.2\n",
      "2    166.2\n",
      "3    151.2\n",
      "4     24.8\n",
      "Name: ejemplo, dtype: float64\n"
     ]
    }
   ],
   "source": [
    "df['ejemplo'] = df['pages'] / 10\n",
    "print(df['ejemplo'].head(5))  # Display the first few rows of the new column"
   ]
  }
 ],
 "metadata": {
  "kernelspec": {
   "display_name": "nosql",
   "language": "python",
   "name": "python3"
  },
  "language_info": {
   "codemirror_mode": {
    "name": "ipython",
    "version": 3
   },
   "file_extension": ".py",
   "mimetype": "text/x-python",
   "name": "python",
   "nbconvert_exporter": "python",
   "pygments_lexer": "ipython3",
   "version": "3.12.8"
  }
 },
 "nbformat": 4,
 "nbformat_minor": 5
}
