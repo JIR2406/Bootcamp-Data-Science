{
 "cells": [
  {
   "cell_type": "markdown",
   "id": "688d5c95",
   "metadata": {},
   "source": [
    "Primero debemos importar la biblioteca `pandas` y luego definir la ruta al archivo CSV.\n",
    "\n",
    "```python\n",
    "import pandas as pd\n",
    "\n",
    "# Definir la ruta al archivo CSV\n",
    "ruta = '../data/Books.csv'\n",
    "```\n",
    "\n",
    "> **Nota:** Asegúrate de que la ruta sea correcta y que el archivo `Books.csv` exista en la ubicación indicada."
   ]
  },
  {
   "cell_type": "code",
   "execution_count": 12,
   "id": "55b80a72",
   "metadata": {},
   "outputs": [
    {
     "name": "stdout",
     "output_type": "stream",
     "text": [
      "DataFrame cargado con éxito\n"
     ]
    }
   ],
   "source": [
    "import pandas as pd\n",
    "\n",
    "df = pd.read_csv('../data/Books.csv')\n",
    "\n",
    "print(\"DataFrame cargado con éxito\")"
   ]
  },
  {
   "cell_type": "markdown",
   "id": "68257432",
   "metadata": {},
   "source": [
    "## Estructura y Componentes de pandas\n",
    "\n",
    "Los **DataFrames** forman el núcleo de la biblioteca `pandas`, permitiendo la manipulación eficiente y flexible de datos tabulares.\n",
    "\n",
    "`pandas` está construido sobre dos paquetes esenciales de Python: **NumPy** y **Matplotlib**.\n",
    "\n",
    "<img src=\"../resource/pandas_structure.png\" alt=\"Estructura de pandas\" style=\"display:block; margin:auto;\">\n",
    "\n",
    "- **NumPy** proporciona los objetos de matrices multidimensionales que facilitan la manipulación de datos y sirve como base para almacenar la información en `pandas`.\n",
    "- **Matplotlib** ofrece potentes capacidades de visualización, que `pandas` aprovecha para crear gráficos y representaciones visuales de los datos.\n",
    "\n",
    "---\n",
    "\n",
    "Los datos rectangulares, también llamados **datos tabulares**, son la forma más común de organizar información en ciencia de datos y análisis estadístico.\n",
    "\n",
    "Estos datos se representan en `pandas` mediante el objeto **DataFrame**.\n",
    "\n",
    "---\n",
    "\n",
    "### Primer método fundamental: `head()`\n",
    "\n",
    "El primer método importante que se debe aprender es `head()`, el cual devuelve las primeras filas de un DataFrame. Es útil para inspeccionar rápidamente la estructura y el contenido inicial del conjunto de datos.\n",
    "\n",
    "```python\n",
    "df.head()\n",
    "```"
   ]
  },
  {
   "cell_type": "code",
   "execution_count": 3,
   "id": "3ca42cea",
   "metadata": {},
   "outputs": [
    {
     "name": "stdout",
     "output_type": "stream",
     "text": [
      "Se imprimen las primeras filas del DataFrame:\n",
      "                                               title  \\\n",
      "0                           Fictional Points of View   \n",
      "1             Science Fiction and Fantasy Literature   \n",
      "2               Library of Congress Subject Headings   \n",
      "3               Library of Congress Subject Headings   \n",
      "4  Fictional Space in the Modernist and Post-mode...   \n",
      "\n",
      "                                              author pages  \\\n",
      "0                                     Peter Lamarque   252   \n",
      "1     R. Reginald, Douglas Menville, Mary A. Burgess   802   \n",
      "2  Library of Congress. Cataloging Policy and Sup...  1662   \n",
      "3                                Library of Congress  1512   \n",
      "4                               Carl Darryl Malmgren   248   \n",
      "\n",
      "                                   genre  \\\n",
      "0                     Literary Criticism   \n",
      "1                              Reference   \n",
      "2  Subject headings, Library of Congress   \n",
      "3  Subject headings, Library of Congress   \n",
      "4                                Fiction   \n",
      "\n",
      "                                         description published_date  \\\n",
      "0  The volume focuses on a wide range of thinkers...           1996   \n",
      "1  Science Fiction and Fantasy Literature, A Chec...     2010-09-01   \n",
      "2                           No description available           2004   \n",
      "3                           No description available           2007   \n",
      "4  Fictional space is the imaginal expanse of fie...           1985   \n",
      "\n",
      "                   publisher language average_rating  ratings_count  \\\n",
      "0   Cornell University Press       en      No rating              0   \n",
      "1         Wildside Press LLC       en      No rating              0   \n",
      "2          Unknown Publisher       en      No rating              0   \n",
      "3          Unknown Publisher       en      No rating              0   \n",
      "4  Bucknell University Press       en      No rating              0   \n",
      "\n",
      "                                           thumbnail  \n",
      "0  http://books.google.com/books/content?id=rh-om...  \n",
      "1  http://books.google.com/books/content?id=P8zW2...  \n",
      "2  http://books.google.com/books/content?id=pEhkh...  \n",
      "3  http://books.google.com/books/content?id=FgAjF...  \n",
      "4  http://books.google.com/books/content?id=KXzoz...  \n"
     ]
    }
   ],
   "source": [
    "print(\"Se imprimen las primeras filas del DataFrame:\")\n",
    "print(df.head())  # Display the first few rows of the DataFrame"
   ]
  },
  {
   "cell_type": "markdown",
   "id": "597306ae",
   "metadata": {},
   "source": [
    "El método `info()` nos permite visualizar información esencial sobre el DataFrame, incluyendo:\n",
    "\n",
    "- Los nombres de las columnas.\n",
    "- Los tipos de datos que contiene cada columna.\n",
    "- La cantidad de valores no nulos en cada columna (lo que ayuda a identificar si hay valores perdidos).\n",
    "- La cantidad total de filas y columnas.\n",
    "\n",
    "Este método es muy útil para obtener una visión general de la estructura y la calidad de los datos antes de realizar cualquier análisis.\n",
    "\n",
    "```python\n",
    "df.info()\n",
    "```"
   ]
  },
  {
   "cell_type": "code",
   "execution_count": 4,
   "id": "f579084d",
   "metadata": {},
   "outputs": [
    {
     "name": "stdout",
     "output_type": "stream",
     "text": [
      "Información del DataFrame:\n",
      "<class 'pandas.core.frame.DataFrame'>\n",
      "RangeIndex: 2049 entries, 0 to 2048\n",
      "Data columns (total 11 columns):\n",
      " #   Column          Non-Null Count  Dtype \n",
      "---  ------          --------------  ----- \n",
      " 0   title           2049 non-null   object\n",
      " 1   author          2049 non-null   object\n",
      " 2   pages           2049 non-null   object\n",
      " 3   genre           2049 non-null   object\n",
      " 4   description     2049 non-null   object\n",
      " 5   published_date  2049 non-null   object\n",
      " 6   publisher       2049 non-null   object\n",
      " 7   language        2049 non-null   object\n",
      " 8   average_rating  2049 non-null   object\n",
      " 9   ratings_count   2049 non-null   int64 \n",
      " 10  thumbnail       2049 non-null   object\n",
      "dtypes: int64(1), object(10)\n",
      "memory usage: 176.2+ KB\n"
     ]
    }
   ],
   "source": [
    "print(\"Información del DataFrame:\")\n",
    "df.info()  # Display information about the DataFrame"
   ]
  },
  {
   "cell_type": "markdown",
   "id": "901726d7",
   "metadata": {},
   "source": [
    "El atributo `shape` de un DataFrame devuelve una tupla que indica:\n",
    "\n",
    "- El número de filas.\n",
    "- El número de columnas.\n",
    "\n",
    "Por ejemplo, si el DataFrame tiene 100 filas y 5 columnas, el resultado será `(100, 5)`.\n",
    "\n",
    "> **Nota:**  \n",
    "> Como `shape` es un atributo y no un método, se utiliza **sin paréntesis**.\n",
    "\n",
    "```python\n",
    "df.shape\n",
    "```"
   ]
  },
  {
   "cell_type": "code",
   "execution_count": 5,
   "id": "e071e1e5",
   "metadata": {},
   "outputs": [
    {
     "name": "stdout",
     "output_type": "stream",
     "text": [
      "Se imprime la forma del DataFrame:\n",
      "(2049, 11)\n"
     ]
    }
   ],
   "source": [
    "print(\"Se imprime la forma del DataFrame:\")\n",
    "print(df.shape)  # Display the shape of the DataFrame"
   ]
  },
  {
   "cell_type": "markdown",
   "id": "88dee7c0",
   "metadata": {},
   "source": [
    "El método `describe()` calcula estadísticas de resumen para las columnas numéricas de un DataFrame, como la media, la mediana, el mínimo, el máximo, los cuartiles y más.\n",
    "\n",
    "- El resultado incluye el conteo (`count`), que muestra el número de valores no faltantes en cada columna.\n",
    "- `describe()` es útil para obtener una visión general rápida de la distribución y las características de las variables numéricas en el conjunto de datos.\n",
    "\n",
    "Por ejemplo:\n",
    "\n",
    "```python\n",
    "df.describe()\n",
    "```\n",
    "\n",
    "Este método ayuda a identificar rápidamente tendencias y posibles valores atípicos en los datos numéricos."
   ]
  },
  {
   "cell_type": "code",
   "execution_count": 6,
   "id": "5a110ffc",
   "metadata": {},
   "outputs": [
    {
     "name": "stdout",
     "output_type": "stream",
     "text": [
      "Descripción del DataFrame:\n",
      "        ratings_count\n",
      "count     2049.000000\n",
      "mean      3704.258663\n",
      "std      40015.992383\n",
      "min          0.000000\n",
      "25%          0.000000\n",
      "50%          0.000000\n",
      "75%          0.000000\n",
      "max    1000000.000000\n"
     ]
    }
   ],
   "source": [
    "print(\"Descripción del DataFrame:\")\n",
    "print(df.describe()) # Display summary statistics of the DataFrame"
   ]
  },
  {
   "cell_type": "markdown",
   "id": "577dc254",
   "metadata": {},
   "source": [
    "Los **DataFrames** de pandas están compuestos por tres elementos principales, accesibles mediante atributos:\n",
    "\n",
    "- El atributo `.values` contiene todos los datos del DataFrame en una matriz bidimensional de **NumPy**, lo que permite realizar operaciones eficientes sobre los datos.\n",
    "- El atributo `.columns` almacena los nombres de las columnas.\n",
    "- El atributo `.index` guarda las etiquetas o índices de las filas.\n",
    "\n",
    "De esta manera, un DataFrame reúne los datos, los nombres de las columnas y las etiquetas de las filas en una estructura unificada y fácil de manipular."
   ]
  },
  {
   "cell_type": "code",
   "execution_count": 7,
   "id": "11828fbe",
   "metadata": {},
   "outputs": [
    {
     "name": "stdout",
     "output_type": "stream",
     "text": [
      "Valores del DataFrame:\n",
      "[['Fictional Points of View' 'Peter Lamarque' '252' ... 'No rating' 0\n",
      "  'http://books.google.com/books/content?id=rh-omr6laV0C&printsec=frontcover&img=1&zoom=1&edge=curl&source=gbs_api']\n",
      " ['Science Fiction and Fantasy Literature'\n",
      "  'R. Reginald, Douglas Menville, Mary A. Burgess' '802' ... 'No rating'\n",
      "  0\n",
      "  'http://books.google.com/books/content?id=P8zW2AH6150C&printsec=frontcover&img=1&zoom=1&edge=curl&source=gbs_api']\n",
      " ['Library of Congress Subject Headings'\n",
      "  'Library of Congress. Cataloging Policy and Support Office' '1662' ...\n",
      "  'No rating' 0\n",
      "  'http://books.google.com/books/content?id=pEhkh_9bP9wC&printsec=frontcover&img=1&zoom=1&edge=curl&source=gbs_api']\n",
      " ...\n",
      " ['The Success Principles' 'Jack Canfield' '512' ... '4.2' 100000\n",
      "  'http://books.google.com/books/content?id=7zL_DwAAQBAJ&printsec=frontcover&img=1&zoom=1&edge=curl&source=gbs_api']\n",
      " ['The Courage to Be Rich' 'Suze Orman' '448' ... '4.0' 40000\n",
      "  'http://books.google.com/books/content?id=2c3_DwAAQBAJ&printsec=frontcover&img=1&zoom=1&edge=curl&source=gbs_api']\n",
      " ['The Money Manual' 'Tonya Rapley' '256' ... '4.2' 20000\n",
      "  'http://books.google.com/books/content?id=3z3_DwAAQBAJ&printsec=frontcover&img=1&zoom=1&edge=curl&source=gbs_api']]\n"
     ]
    }
   ],
   "source": [
    "print(\"Valores del DataFrame:\")\n",
    "print(df.values)  # Display the values of the DataFrame"
   ]
  },
  {
   "cell_type": "markdown",
   "id": "65714f6e",
   "metadata": {},
   "source": [
    "El atributo `columns` de un DataFrame contiene los nombres de las columnas, mientras que el atributo `index` almacena los números o nombres de las filas.\n",
    "\n",
    "> **Cuidado:**  \n",
    "> Las etiquetas de las filas se guardan en el atributo `.index`, **no** en `.rows`.  \n",
    "> Es importante recordar que el atributo `.index` representa los índices de las filas, y no almacena los datos de las filas en sí."
   ]
  },
  {
   "cell_type": "code",
   "execution_count": 11,
   "id": "2ee2f881",
   "metadata": {},
   "outputs": [
    {
     "name": "stdout",
     "output_type": "stream",
     "text": [
      "Para ver los nombres de las columnas y los indices:\n",
      "Index(['title', 'author', 'pages', 'genre', 'description', 'published_date',\n",
      "       'publisher', 'language', 'average_rating', 'ratings_count',\n",
      "       'thumbnail'],\n",
      "      dtype='object')\n",
      "\n",
      "\n",
      "Para ver los indices de las filas:\n",
      "RangeIndex(start=0, stop=2049, step=1)\n"
     ]
    }
   ],
   "source": [
    "print(\"Para ver los nombres de las columnas y los indices:\")\n",
    "print(df.columns)  # Display the column names\n",
    "\n",
    "print(\"\\n\")\n",
    "print(\"Para ver los indices de las filas:\")\n",
    "print(df.index)  # Display the row indices"
   ]
  }
 ],
 "metadata": {
  "kernelspec": {
   "display_name": "nosql",
   "language": "python",
   "name": "nosql"
  },
  "language_info": {
   "codemirror_mode": {
    "name": "ipython",
    "version": 3
   },
   "file_extension": ".py",
   "mimetype": "text/x-python",
   "name": "python",
   "nbconvert_exporter": "python",
   "pygments_lexer": "ipython3",
   "version": "3.12.8"
  }
 },
 "nbformat": 4,
 "nbformat_minor": 5
}
