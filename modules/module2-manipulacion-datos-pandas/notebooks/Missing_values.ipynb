{
 "cells": [
  {
   "metadata": {},
   "cell_type": "markdown",
   "source": [
    "## Introducción al manejo de datos faltantes en pandas\n",
    "\n",
    "Como científico de datos, es muy común encontrarse con **datos faltantes** en los conjuntos de datos. Esto significa que recibirás un DataFrame con valores ausentes, por lo que es fundamental saber cómo identificarlos y manejarlos adecuadamente.\n",
    "\n",
    "La mayoría de los datos reales no son perfectos: casi siempre existe la posibilidad de que falte alguna pieza de información en tu dataset.\n",
    "\n",
    "En pandas, los valores faltantes se representan mediante `NaN` (**Not a Number**). Cuando obtienes un DataFrame por primera vez, es una buena práctica verificar si contiene valores faltantes y, si es así, cuántos hay.\n",
    "\n",
    "### ¿Cómo identificar valores faltantes?\n",
    "\n",
    "Aquí es donde entra en juego el método `isna()` de pandas. Este método devuelve un DataFrame del mismo tamaño que el original, pero con valores booleanos (`True` o `False`) que indican si cada celda es `NaN` o no.\n",
    "\n",
    "```python\n",
    "df.isna()\n",
    "```\n",
    "\n",
    "Esto genera un DataFrame donde cada valor es `True` si está ausente (`NaN`) y `False` si está presente.\n",
    "\n",
    "> **Consejo:**\n",
    "> Para saber cuántos valores faltantes hay por columna, puedes usar:\n",
    "> ```python\n",
    "> df.isna().sum()\n",
    "> ```\n",
    "\n",
    "---\n",
    "\n",
    "**Resumen:**\n",
    "- Los valores faltantes son comunes en ciencia de datos.\n",
    "- pandas representa los valores faltantes como `NaN`.\n",
    "- Usa `isna()` para identificar los valores ausentes en tu DataFrame."
   ],
   "id": "61a459955def4203"
  },
  {
   "metadata": {
    "ExecuteTime": {
     "end_time": "2025-07-17T01:39:46.254166Z",
     "start_time": "2025-07-17T01:39:46.228395Z"
    }
   },
   "cell_type": "code",
   "source": [
    "import pandas as pd\n",
    "laptop = pd.read_csv(\"../data/laptop.csv\")\n",
    " # Si encadenamos el metodo isna() con el metodo any(), podemos ver si hay algun valor faltante en cada columna del DataFrame.\n",
    "laptop.isna().any()"
   ],
   "id": "848aec2b74cb8a9",
   "outputs": [
    {
     "data": {
      "text/plain": [
       "Unnamed: 0    False\n",
       "Model         False\n",
       "Price         False\n",
       "Rating         True\n",
       "Generation    False\n",
       "Core          False\n",
       "Ram           False\n",
       "SSD           False\n",
       "Display        True\n",
       "Graphics      False\n",
       "OS             True\n",
       "Warranty       True\n",
       "dtype: bool"
      ]
     },
     "execution_count": 3,
     "metadata": {},
     "output_type": "execute_result"
    }
   ],
   "execution_count": 3
  },
  {
   "metadata": {
    "ExecuteTime": {
     "end_time": "2025-07-17T01:39:55.440708Z",
     "start_time": "2025-07-17T01:39:55.430648Z"
    }
   },
   "cell_type": "code",
   "source": [
    "# Tambien podemos usar el metodo isna() con el metodo sum() para ver cuantas filas faltantes hay en cada columna.\n",
    "laptop.isna().sum()"
   ],
   "id": "8dd969610724b849",
   "outputs": [
    {
     "data": {
      "text/plain": [
       "Unnamed: 0      0\n",
       "Model           0\n",
       "Price           0\n",
       "Rating        152\n",
       "Generation      0\n",
       "Core            0\n",
       "Ram             0\n",
       "SSD             0\n",
       "Display         1\n",
       "Graphics        0\n",
       "OS              1\n",
       "Warranty        5\n",
       "dtype: int64"
      ]
     },
     "execution_count": 4,
     "metadata": {},
     "output_type": "execute_result"
    }
   ],
   "execution_count": 4
  },
  {
   "metadata": {},
   "cell_type": "markdown",
   "source": "Podemos utilizar esos recuentos para visualizar los datos que faltan en el conjunto de datos utilizando un diagrama de barras.\n",
   "id": "a29e671979cb3d67"
  },
  {
   "metadata": {
    "ExecuteTime": {
     "end_time": "2025-07-17T01:41:15.509294Z",
     "start_time": "2025-07-17T01:41:15.303544Z"
    }
   },
   "cell_type": "code",
   "source": [
    "import matplotlib.pyplot as plt\n",
    "laptop.isna().sum().plot(kind='bar')\n",
    "plt.title(\"Valores faltantes por columna\")\n",
    "plt.xlabel(\"Columnas\")\n",
    "plt.ylabel(\"Cantidad de valores faltantes\")\n",
    "plt.show()"
   ],
   "id": "749ac78ed08d8696",
   "outputs": [
    {
     "data": {
      "text/plain": [
       "<Figure size 640x480 with 1 Axes>"
      ],
      "image/png": "[encoded data removed]"
     },
     "metadata": {},
     "output_type": "display_data"
    }
   ],
   "execution_count": 6
  },
  {
   "metadata": {},
   "cell_type": "markdown",
   "source": [
    "## Estrategias para manejar valores perdidos en pandas\n",
    "\n",
    "Cuando identificas **valores perdidos** en tu conjunto de datos, es importante decidir cómo tratarlos antes de continuar con el análisis. Existen varias estrategias comúnmente utilizadas en pandas:\n",
    "\n",
    "### 1. Eliminar filas o columnas con valores perdidos\n",
    "\n",
    "Puedes eliminar las filas (o columnas) que contienen valores perdidos usando el método `dropna()`:\n",
    "\n",
    "```python\n",
    "laptop.dropna()  # Elimina filas con valores perdidos\n",
    "```\n",
    "\n",
    "> **Advertencia:**\n",
    "> Eliminar datos puede ser riesgoso si hay muchos valores perdidos, ya que podrías perder información relevante y reducir significativamente el tamaño de tu dataset.\n",
    "\n",
    "---\n",
    "\n",
    "### 2. Sustituir los valores perdidos por otro valor\n",
    "\n",
    "Otra opción es reemplazar los valores perdidos con un valor específico, como un número, el promedio, la mediana, o incluso un texto:\n",
    "\n",
    "```python\n",
    "laptop.fillna(0)  # Sustituye los valores perdidos por 0\n",
    "```\n",
    "\n",
    "> **Consejo:**\n",
    "> En lugar de usar siempre un 0, considera utilizar un valor más representativo dependiendo del contexto de tus datos. Por ejemplo, puedes usar la media de la columna:\n",
    "> ```python\n",
    "> laptop.fillna(laptop['precio'].mean())\n",
    "> ```\n",
    "\n",
    "---\n",
    "\n",
    "**Resumen de estrategias:**\n",
    "- **Eliminar:** `dropna()` — útil si la cantidad de valores perdidos es baja.\n",
    "- **Sustituir:** `fillna(valor)` — recomendable si quieres conservar la mayor cantidad de datos posible.\n",
    "\n",
    "Antes de elegir una estrategia, analiza la cantidad y el patrón de los valores perdidos para tomar la mejor decisión según tu problema."
   ],
   "id": "808ac22f9350f36c"
  }
 ],
 "metadata": {
  "kernelspec": {
   "display_name": "Python 3",
   "language": "python",
   "name": "python3"
  },
  "language_info": {
   "codemirror_mode": {
    "name": "ipython",
    "version": 2
   },
   "file_extension": ".py",
   "mimetype": "text/x-python",
   "name": "python",
   "nbconvert_exporter": "python",
   "pygments_lexer": "ipython2",
   "version": "2.7.6"
  }
 },
 "nbformat": 4,
 "nbformat_minor": 5
}
