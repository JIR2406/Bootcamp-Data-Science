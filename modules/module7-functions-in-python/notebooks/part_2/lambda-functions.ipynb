{
 "cells": [
  {
   "metadata": {},
   "cell_type": "markdown",
   "source": [
    "Se denominan funciones lambda porque se utiliza la palabra clave lambda.\n",
    "- Para ello despues de la palabra clave lambda, especificamos los nombres de los argumentos separados por comas.\n",
    "- A continuacion, se coloca dos puntos (:) y la expresion que se evalua y se devuelve.\n",
    "- No es necesario utilizar la palabra clave return, ya que las funciones lambda devuelven automaticamente el resultado de la expresion.\n",
    "- Las funciones lambda pueden tener cualquier numero de argumentos, pero solo una expresion.\n",
    "- No pueden contener declaraciones ni varias expresiones."
   ],
   "id": "7b794767aadf7d27"
  },
  {
   "metadata": {
    "ExecuteTime": {
     "end_time": "2025-08-26T02:49:17.674744Z",
     "start_time": "2025-08-26T02:49:17.668247Z"
    }
   },
   "cell_type": "code",
   "source": [
    "raise_to_power = lambda x, y: x ** y\n",
    "print(raise_to_power(2, 3))  # Output: 8"
   ],
   "id": "251180cc7b494942",
   "outputs": [
    {
     "name": "stdout",
     "output_type": "stream",
     "text": [
      "8\n"
     ]
    }
   ],
   "execution_count": 1
  },
  {
   "metadata": {},
   "cell_type": "markdown",
   "source": "Las funciones Lambda le permiten escribir funciones de una manera rapida y potencialmente sucia.",
   "id": "7e56fd846793dc37"
  },
  {
   "metadata": {},
   "cell_type": "markdown",
   "source": [
    "# Anonymous Functions\n",
    "- La función `map()` toma dos argumentos.\n",
    "- `map()` aplica la función dada a cada elemento de un iterable (como una lista) y devuelve un mapa objeto (un iterable).\n",
    "Podemos pasar funciones lambda al mapa sin siquiera nombrarlas y en este caso nos referimos a ellas como funciones anonimas."
   ],
   "id": "8d2940f300365e56"
  },
  {
   "metadata": {
    "ExecuteTime": {
     "end_time": "2025-08-26T02:54:00.278091Z",
     "start_time": "2025-08-26T02:54:00.272057Z"
    }
   },
   "cell_type": "code",
   "source": [
    "nums = [1, 2, 3, 4, 5]\n",
    "square_all = map(lambda x: x ** 2, nums)\n",
    "square_all  # Output: [1, 4, 9, 16, 25]"
   ],
   "id": "d5a21953505d43f6",
   "outputs": [
    {
     "data": {
      "text/plain": [
       "<map at 0x227cf2488e0>"
      ]
     },
     "execution_count": 4,
     "metadata": {},
     "output_type": "execute_result"
    }
   ],
   "execution_count": 4
  }
 ],
 "metadata": {
  "kernelspec": {
   "display_name": "Python 3",
   "language": "python",
   "name": "python3"
  },
  "language_info": {
   "codemirror_mode": {
    "name": "ipython",
    "version": 2
   },
   "file_extension": ".py",
   "mimetype": "text/x-python",
   "name": "python",
   "nbconvert_exporter": "python",
   "pygments_lexer": "ipython2",
   "version": "2.7.6"
  }
 },
 "nbformat": 4,
 "nbformat_minor": 5
}
