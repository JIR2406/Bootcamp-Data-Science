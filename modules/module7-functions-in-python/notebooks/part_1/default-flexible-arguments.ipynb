{
 "cells": [
  {
   "metadata": {},
   "cell_type": "markdown",
   "source": "Para definir una función con un valor de argumento predeterminado en el encabezado de la función, seguimos el parámetro de interes con un signo igual y el valor del argumento predeterminado.\n",
   "id": "639fd7dc4c3303b4"
  },
  {
   "metadata": {
    "ExecuteTime": {
     "end_time": "2025-08-26T01:11:56.583334Z",
     "start_time": "2025-08-26T01:11:56.579487Z"
    }
   },
   "cell_type": "code",
   "source": [
    "def power(number, exponent=2):\n",
    "    return number ** exponent\n",
    "print(power(3))  # 9"
   ],
   "id": "bc5c3464aa45e0a1",
   "outputs": [
    {
     "name": "stdout",
     "output_type": "stream",
     "text": [
      "9\n"
     ]
    }
   ],
   "execution_count": 3
  },
  {
   "metadata": {},
   "cell_type": "markdown",
   "source": [
    "# Argumentos flexibles\n",
    "Podemos definir una función que acepte un número variable de argumentos posicionales utilizando un asterisco (*) antes del nombre del parámetro. Esto permite que la función reciba cualquier cantidad de argumentos posicionales, que se almacenan en una tupla."
   ],
   "id": "31cb4e2390f2d527"
  },
  {
   "metadata": {
    "ExecuteTime": {
     "end_time": "2025-08-26T01:13:04.117652Z",
     "start_time": "2025-08-26T01:13:04.113366Z"
    }
   },
   "cell_type": "code",
   "source": [
    "def sum_all(*args):\n",
    "    return sum(args)\n",
    "print(sum_all(1, 2, 3))  # 6"
   ],
   "id": "e4ac2e784e0f757e",
   "outputs": [
    {
     "name": "stdout",
     "output_type": "stream",
     "text": [
      "6\n"
     ]
    }
   ],
   "execution_count": 4
  },
  {
   "metadata": {},
   "cell_type": "markdown",
   "source": [
    "# Flexible arguments: *args\n",
    "Tambien llamados kwargs es decir argumentos procedidos por identificadores."
   ],
   "id": "545012884d075a08"
  },
  {
   "metadata": {
    "ExecuteTime": {
     "end_time": "2025-08-26T02:26:59.879815Z",
     "start_time": "2025-08-26T02:26:59.872721Z"
    }
   },
   "cell_type": "code",
   "source": [
    "def print_all(**kwargs):\n",
    "    \"\"\"Imprime todos los argumentos clave-valor.\"\"\"\n",
    "    for key, value in kwargs.items():\n",
    "        print(f\"{key}: {value}\")\n",
    "print_all(name=\"Alice\", age=30, city=\"New York\")"
   ],
   "id": "5cee4cd1c5b7e9e7",
   "outputs": [
    {
     "name": "stdout",
     "output_type": "stream",
     "text": [
      "name: Alice\n",
      "age: 30\n",
      "city: New York\n"
     ]
    }
   ],
   "execution_count": 5
  }
 ],
 "metadata": {
  "kernelspec": {
   "display_name": "Python 3",
   "language": "python",
   "name": "python3"
  },
  "language_info": {
   "codemirror_mode": {
    "name": "ipython",
    "version": 2
   },
   "file_extension": ".py",
   "mimetype": "text/x-python",
   "name": "python",
   "nbconvert_exporter": "python",
   "pygments_lexer": "ipython2",
   "version": "2.7.6"
  }
 },
 "nbformat": 4,
 "nbformat_minor": 5
}
