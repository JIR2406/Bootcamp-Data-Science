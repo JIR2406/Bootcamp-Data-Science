{
 "cells": [
  {
   "metadata": {},
   "cell_type": "markdown",
   "source": [
    "# ¿Que pasa si tenemos una funcion interna definida dentro de otra funcion externa y hacemos referencia a un nombre x en la funcion interna?\n",
    "\n",
    "- Python busca en el ambito local de la funcion interna, luego si no encuentra x busca en el ambito de la función externa, que se denomina función envolvente porque encierra la función interna.\n",
    "- Si no encuentra x en la función externa, busca en el ambito global y finalmente en el ambito incorporado."
   ],
   "id": "13e6a59ab7ecd5f9"
  },
  {
   "metadata": {},
   "cell_type": "markdown",
   "source": [
    "¿Por qué anidamos funciones?\n",
    "- Para dividir una tarea compleja en subtareas más pequeñas.\n",
    "- Para evitar la contaminación del espacio de nombres global.\n",
    "- Para crear cierres (closures)."
   ],
   "id": "238440f058ca4b24"
  },
  {
   "metadata": {
    "ExecuteTime": {
     "end_time": "2025-08-26T00:59:03.878468Z",
     "start_time": "2025-08-26T00:59:03.873291Z"
    }
   },
   "cell_type": "code",
   "source": [
    "def mod2plus5(x,y,z):\n",
    "    \"\"\"Retorna el resultado de (x mod 2) + 5 + y + z\"\"\"\n",
    "    def inner(x1):\n",
    "        \"\"\"Retorna (x1 mod 2) + 5\"\"\"\n",
    "        return (x1 % 2) + 5\n",
    "    return inner(x) + inner(y) + inner(z)\n",
    "print(mod2plus5(1,2,3))  # 18"
   ],
   "id": "be679eaf88963f7f",
   "outputs": [
    {
     "name": "stdout",
     "output_type": "stream",
     "text": [
      "17\n"
     ]
    }
   ],
   "execution_count": 2
  },
  {
   "metadata": {},
   "cell_type": "markdown",
   "source": "Asi como se utiliza la palabra reserveada `global` para modificar variables globales dentro de una función, se utiliza la palabra reservada `nonlocal` para modificar variables en la función envolvente.",
   "id": "2e5909b4428327b6"
  },
  {
   "metadata": {
    "ExecuteTime": {
     "end_time": "2025-08-26T01:02:31.059349Z",
     "start_time": "2025-08-26T01:02:31.053932Z"
    }
   },
   "cell_type": "code",
   "source": [
    "def outer():\n",
    "    \"\"\"Prints the value of n.\"\"\"\n",
    "    n = 1\n",
    "    def inner():\n",
    "        nonlocal n\n",
    "        n = 2\n",
    "        print('inner:', n)\n",
    "    inner()\n",
    "    print('outer:', n)\n",
    "print(outer())"
   ],
   "id": "e869b663e2bfa1f8",
   "outputs": [
    {
     "name": "stdout",
     "output_type": "stream",
     "text": [
      "inner: 2\n",
      "outer: 2\n",
      "None\n"
     ]
    }
   ],
   "execution_count": 22
  }
 ],
 "metadata": {
  "kernelspec": {
   "display_name": "Python 3",
   "language": "python",
   "name": "python3"
  },
  "language_info": {
   "codemirror_mode": {
    "name": "ipython",
    "version": 2
   },
   "file_extension": ".py",
   "mimetype": "text/x-python",
   "name": "python",
   "nbconvert_exporter": "python",
   "pygments_lexer": "ipython2",
   "version": "2.7.6"
  }
 },
 "nbformat": 4,
 "nbformat_minor": 5
}
