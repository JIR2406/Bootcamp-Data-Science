{
 "cells": [
  {
   "metadata": {},
   "cell_type": "markdown",
   "source": [
    "Podemos utilizar distribuciones discretas para modelar situaciones que involucran variables discretas o contables, pero ¿como podemos modelar las variables continuas?\n",
    "\n",
    "Cuando la lina es plana existe la misma probabilidad de esperar en cualquier momento entre 0 y 12.\n",
    "Esto se le llama distribucion uniforme continua.\n",
    "\n",
    "Podemos llamar a uniform-dot-cdf y pasarle 7 seguido de los limites inferior y superior que en nuestro caso son 0 y 12.\n",
    "\n"
   ],
   "id": "a6dfc06c3861be6d"
  },
  {
   "metadata": {
    "ExecuteTime": {
     "end_time": "2025-08-05T17:15:13.137561Z",
     "start_time": "2025-08-05T17:15:13.130402Z"
    }
   },
   "cell_type": "code",
   "source": [
    "from scipy.stats import uniform\n",
    "\n",
    "1 - uniform.cdf(7,0,12)"
   ],
   "id": "96b77b6dcba78976",
   "outputs": [
    {
     "data": {
      "text/plain": [
       "np.float64(0.41666666666666663)"
      ]
     },
     "execution_count": 3,
     "metadata": {},
     "output_type": "execute_result"
    }
   ],
   "execution_count": 3
  },
  {
   "metadata": {},
   "cell_type": "markdown",
   "source": [
    "# Generar numeros aleatorios segun la distribucion uniforme\n",
    "\n",
    "Para generar numeros aleatorios de acuerdo con la distribucion uniforme, podemos utilizar uniform-dot-rvs que toma el valor minimo, el valor maximo, seguido del numero de valores aleatorios que queremos generar.\n",
    "\n",
    "```python\n",
    "from scipy.stats import uniform\n",
    "uniform.rvs(0,5,size=10)\n",
    "```\n",
    "\n",
    "Las distribuciones continuas pueden adoptar formas distintas a la uniforme donde algunos valores tienen una mayor probabilidad que otros.\n",
    "\n",
    "Independientemente de la forma de la distribucion el area debajo de ella siempre debe ser igual a 1.\n",
    "\n",
    "<img src=\"../../resource/otras-soluciones.png\">"
   ],
   "id": "83cc8a295c8e5573"
  }
 ],
 "metadata": {
  "kernelspec": {
   "display_name": "Python 3",
   "language": "python",
   "name": "python3"
  },
  "language_info": {
   "codemirror_mode": {
    "name": "ipython",
    "version": 2
   },
   "file_extension": ".py",
   "mimetype": "text/x-python",
   "name": "python",
   "nbconvert_exporter": "python",
   "pygments_lexer": "ipython2",
   "version": "2.7.6"
  }
 },
 "nbformat": 4,
 "nbformat_minor": 5
}
