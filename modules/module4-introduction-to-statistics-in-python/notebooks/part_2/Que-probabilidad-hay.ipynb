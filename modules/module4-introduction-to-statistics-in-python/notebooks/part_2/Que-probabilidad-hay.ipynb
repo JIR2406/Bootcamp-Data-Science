{
 "cells": [
  {
   "metadata": {},
   "cell_type": "markdown",
   "source": [
    "# Medir la probabilidad\n",
    "Podemos medir las posibilidades de un evento usando la probabilidad.\n",
    "Podemos calcular la probabilidad de algun evento tomando el numero de formas el evento puede ocurrir y dividirlo por el numero total de resultados posibles\n",
    "\n",
    "$$\n",
    "P(\\text{evento}) = \\frac{\\#\\_\\text{formas en que ocurre el evento}}{\\text{número total de resultados posibles}}\n",
    "$$"
   ],
   "id": "1587f47148c0b731"
  },
  {
   "metadata": {
    "ExecuteTime": {
     "end_time": "2025-08-04T18:31:25.108133Z",
     "start_time": "2025-08-04T18:31:18.290353Z"
    }
   },
   "cell_type": "code",
   "source": [
    "import pandas as pd\n",
    "\n",
    "movies = pd.read_csv('../../data/TMDB_movie_dataset_v11.csv')\n",
    "movies_dur = movies[['title','runtime']]\n",
    "\n",
    "movies_dur.sort_values(by='runtime',ascending=False)\n",
    "\n",
    "movies_dur.sample() # Cada que se ejecute, se muestra una pelicula diferente"
   ],
   "id": "4968ea0dace7120e",
   "outputs": [
    {
     "data": {
      "text/plain": [
       "                     title  runtime\n",
       "915775  You Only Live Once       85"
      ],
      "text/html": [
       "<div>\n",
       "<style scoped>\n",
       "    .dataframe tbody tr th:only-of-type {\n",
       "        vertical-align: middle;\n",
       "    }\n",
       "\n",
       "    .dataframe tbody tr th {\n",
       "        vertical-align: top;\n",
       "    }\n",
       "\n",
       "    .dataframe thead th {\n",
       "        text-align: right;\n",
       "    }\n",
       "</style>\n",
       "<table border=\"1\" class=\"dataframe\">\n",
       "  <thead>\n",
       "    <tr style=\"text-align: right;\">\n",
       "      <th></th>\n",
       "      <th>title</th>\n",
       "      <th>runtime</th>\n",
       "    </tr>\n",
       "  </thead>\n",
       "  <tbody>\n",
       "    <tr>\n",
       "      <th>915775</th>\n",
       "      <td>You Only Live Once</td>\n",
       "      <td>85</td>\n",
       "    </tr>\n",
       "  </tbody>\n",
       "</table>\n",
       "</div>"
      ]
     },
     "execution_count": 18,
     "metadata": {},
     "output_type": "execute_result"
    }
   ],
   "execution_count": 18
  },
  {
   "metadata": {},
   "cell_type": "markdown",
   "source": [
    "## Establecer una semilla aleatoria\n",
    "\n",
    "La semilla es un numero que el generador de numeros aleatorios de Python utiliza como punto de partida.\n",
    "Entonces si lo orientamos con un numero de semilla generara el mismo valor aleatorio cada vez.\n",
    "\n",
    "```python\n",
    "import numpy as np\n",
    "np.random.seed(42)\n",
    "```"
   ],
   "id": "2153bb1fcfdc748"
  },
  {
   "metadata": {
    "ExecuteTime": {
     "end_time": "2025-08-04T18:31:43.203392Z",
     "start_time": "2025-08-04T18:31:43.169374Z"
    }
   },
   "cell_type": "code",
   "source": [
    "import numpy as np\n",
    "\n",
    "np.random.seed(180) # Establecemos la semilla aleatoria\n",
    "movies_dur.sample()"
   ],
   "id": "454e34fe4a060d86",
   "outputs": [
    {
     "data": {
      "text/plain": [
       "                       title  runtime\n",
       "1184160  A World of Your Own       15"
      ],
      "text/html": [
       "<div>\n",
       "<style scoped>\n",
       "    .dataframe tbody tr th:only-of-type {\n",
       "        vertical-align: middle;\n",
       "    }\n",
       "\n",
       "    .dataframe tbody tr th {\n",
       "        vertical-align: top;\n",
       "    }\n",
       "\n",
       "    .dataframe thead th {\n",
       "        text-align: right;\n",
       "    }\n",
       "</style>\n",
       "<table border=\"1\" class=\"dataframe\">\n",
       "  <thead>\n",
       "    <tr style=\"text-align: right;\">\n",
       "      <th></th>\n",
       "      <th>title</th>\n",
       "      <th>runtime</th>\n",
       "    </tr>\n",
       "  </thead>\n",
       "  <tbody>\n",
       "    <tr>\n",
       "      <th>1184160</th>\n",
       "      <td>A World of Your Own</td>\n",
       "      <td>15</td>\n",
       "    </tr>\n",
       "  </tbody>\n",
       "</table>\n",
       "</div>"
      ]
     },
     "execution_count": 26,
     "metadata": {},
     "output_type": "execute_result"
    }
   ],
   "execution_count": 26
  },
  {
   "metadata": {},
   "cell_type": "markdown",
   "source": [
    "## Muestreo sin sustitución\n",
    "\n",
    "Cuando tomamos una muestra de un conjunto de datos, podemos hacerlo de dos maneras: con o sin sustitución.\n",
    "- **Con sustitución**: significa que después de seleccionar un elemento, lo devolvemos al conjunto de datos antes de seleccionar el siguiente elemento. Esto significa que un elemento puede ser seleccionado más de una vez.\n",
    "- **Sin sustitución**: significa que después de seleccionar un elemento, no lo devolvemos al conjunto de datos antes de seleccionar el siguiente elemento. Esto significa que un elemento no puede ser seleccionado\n",
    "\n",
    "Para realizar una muestra con reemplazo configure el argumento de reemplazo en verdadero, de modo que los nombres aparecer mas de una vez.\n",
    "\n",
    "```python\n",
    "movies_dur.sample(n=5, replace=True)\n",
    "```\n",
    "\n",
    "De manera similar los eventos se consideran dependientes cuando el resultado del primero cambia la probabilidad del segundo.\n",
    "\n",
    "\n",
    "Dos sucesos son `independientes` si la probabilidad del segundo suceso no se ve afectada por el resultado del primero.\n",
    "\n",
    "Dos sucesos son `dependientes` si la probabilidad del segundo suceso si se ve afectada por el resultado del primero.\n"
   ],
   "id": "94511b978812a315"
  }
 ],
 "metadata": {
  "kernelspec": {
   "display_name": "Python 3",
   "language": "python",
   "name": "python3"
  },
  "language_info": {
   "codemirror_mode": {
    "name": "ipython",
    "version": 2
   },
   "file_extension": ".py",
   "mimetype": "text/x-python",
   "name": "python",
   "nbconvert_exporter": "python",
   "pygments_lexer": "ipython2",
   "version": "2.7.6"
  }
 },
 "nbformat": 4,
 "nbformat_minor": 5
}
