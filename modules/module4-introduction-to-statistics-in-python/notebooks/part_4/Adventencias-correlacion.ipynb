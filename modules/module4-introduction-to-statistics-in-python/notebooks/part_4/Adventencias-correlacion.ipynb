{
 "cells": [
  {
   "metadata": {},
   "cell_type": "markdown",
   "source": [
    "# Advertencias sobre la correlación\n",
    "\n",
    "El coeficneinte de correlacion mide la fuerza de las relaciones lineales, y solo de las relaciones lineales.\n",
    "\n",
    "Al igual que cualquier estadistica de resumen, no se debe utilizar la correlacion a ciegas y siempre debes visualizar tus datos cuando sea posible.\n",
    "\n",
    "> Cuando los datos estan muy sesgados, podemos aplicar una transformacion logaritmica.\n",
    "\n",
    "## Transformación logarítmica\n",
    "Crearemos una nueva columna llamada log_asd que contendra el logaritmo de cada peso corporal.\n",
    "\n",
    "```python\n",
    "import seaborn as sns\n",
    "import matplotlib.pyplot as plt\n",
    "\n",
    "msleep['log_asd'] = np.log(msleep['sleep_total'])\n",
    "\n",
    "sns.lmplot(x='log_asd', y='sleep_rem', data=msleep, ci=None)\n",
    "plt.show()\n",
    "```\n",
    "\n",
    "### Otras transformaciones\n",
    "- Transformacion logaritmica (log(x))\n",
    "- Transformacion raiz cuadrada (sqrt(x))\n",
    "- Transformación reciproca (1/x)\n",
    "Ciertos metodos estadisticos se basan en variables que tienen una relacion lineal, como el calculo de un coeficiente de correlacion.\n",
    "- La `regresion lineal` es otra tecnica estadistica que requiere variables. Estar relacionado de manera lineal."
   ],
   "id": "b8a8f8464e8f9fd9"
  },
  {
   "metadata": {},
   "cell_type": "markdown",
   "source": [
    "# ¿Por qué utilizar una transformación?\n",
    "Un concepto de correlación del que quizas hayas oido hablar antes: correlacion no implica causalidad.\n",
    "\n",
    "Esto significa que si x e y estan correlacionados. x no necesariamente causa y, o viceversa.\n",
    "A ese tipo de correlacion a menudo se denomina correlacion espuria.\n",
    "La tercer variable se llama factor de confusion o variable oculta.\n"
   ],
   "id": "7a0f55fd7fcfe973"
  }
 ],
 "metadata": {
  "kernelspec": {
   "display_name": "Python 3",
   "language": "python",
   "name": "python3"
  },
  "language_info": {
   "codemirror_mode": {
    "name": "ipython",
    "version": 2
   },
   "file_extension": ".py",
   "mimetype": "text/x-python",
   "name": "python",
   "nbconvert_exporter": "python",
   "pygments_lexer": "ipython2",
   "version": "2.7.6"
  }
 },
 "nbformat": 4,
 "nbformat_minor": 5
}
