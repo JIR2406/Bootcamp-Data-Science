{
 "cells": [
  {
   "cell_type": "code",
   "execution_count": null,
   "id": "initial_id",
   "metadata": {
    "collapsed": true
   },
   "outputs": [],
   "source": [
    ""
   ]
  },
  {
   "metadata": {},
   "cell_type": "markdown",
   "source": [
    "## Distribucion normal\n",
    "La distribucion normal es una de las distribuciones de probabilidad mas importantes.\n",
    "\n",
    "Los metodos estadisticos se basan en ello.\n",
    "\n",
    "La distribucion normal tiene la siguiente forma:\n",
    "\n",
    "<img src=\"../../resource/dist_normal.png\">\n",
    "\n",
    "Su forma se conoce comunmente como 'campana de Gauss'.\n",
    "\n",
    "La distribución normal tiene algunas propiedades importantes.\n",
    "1. Es simetrico por lo que el lado izquierdo es una imagen reflejada del derecho.\n",
    "2. El area bajo la curva es igual a 1.\n",
    "3. La probabilidad nunca llega a cero, incluso si parece que lo hara en los extremos.\n",
    "\n",
    "La distribucion normal se describe por su media y desviacion estandar.\n",
    "Cuando una distribucion normal tiene una media de 0 y una desviacion estandar de 1, se trata de una distribucion especial llamada.\n",
    "**distribucion normal estandar**.\n",
    "\n",
    "## Areas bajo la distribucion normal\n",
    "\n",
    "El 68% esta dentro de una desviacion tipica.\n",
    "Podemos responder preguntas usando norm-dot-cdf de scipy-dot-stats.\n",
    "\n",
    "```python\n",
    "from scipy.stats import norm\n",
    "norm.cdf(154,161,7)\n",
    "```\n",
    "### Generar numeros aleatorios\n",
    "```pythom\n",
    "norm.rvs(161,7,size = 10)\n",
    "```"
   ],
   "id": "f79f0e770d41b8d1"
  }
 ],
 "metadata": {
  "kernelspec": {
   "display_name": "Python 3",
   "language": "python",
   "name": "python3"
  },
  "language_info": {
   "codemirror_mode": {
    "name": "ipython",
    "version": 2
   },
   "file_extension": ".py",
   "mimetype": "text/x-python",
   "name": "python",
   "nbconvert_exporter": "python",
   "pygments_lexer": "ipython2",
   "version": "2.7.6"
  }
 },
 "nbformat": 4,
 "nbformat_minor": 5
}
