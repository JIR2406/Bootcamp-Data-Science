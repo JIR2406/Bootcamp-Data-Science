{
 "cells": [
  {
   "metadata": {},
   "cell_type": "markdown",
   "source": [
    "## Distribucion exponencial\n",
    "La primera distribucion es la distribucion exponencial que, representa la probabilidad de que transcurra un cierto tiempo entre eventos de Poisson.\n",
    "\n",
    "- Probabilidad de tiempo entre sucesos de Poisson.\n",
    "Ejemplos:\n",
    "- Probabilidad de > 1 dia entre adopciones.\n",
    "- Probabilidad de < 10 minutos entre llegadas al restaurante.\n",
    "- Probabilidad de 6 - 8 meses entre terremotos.\n",
    "\n",
    "La distribucion exponencial utiliza el mismo valor lambda (λ) que representa la tasa, que la distribucion de Poisson.\n",
    "\n",
    "\n",
    "<img src=\"../../resource/expon-poisson.png\">"
   ],
   "id": "d0b52fd4ae815b6d"
  },
  {
   "metadata": {},
   "cell_type": "markdown",
   "source": [
    "## Distribución t (de Student)\n",
    "- Forma similar a la distribucion normal.\n",
    "\n",
    "### Grados de libertad\n",
    "- Tiene el parametro de grados de libertdad (df) que afecta al grosor de las colas\n",
    "-> Menor df = Colas mas gruesas, mayor desviación tipica.\n",
    "-> Mayor df = mas cerca de la distribucion normal.\n",
    "\n",
    "<div style=\"text-align: center;\">\n",
    "  <img src=\"../../resource/grado-libertad.png\">\n",
    "</div>\n",
    "\n",
    "### Distribución normal logarítmica\n",
    "\n",
    "- Variable cuyo logaritmo se distribuye normalmente.\n",
    "Ejemplos:\n",
    "- Duración de las partidas de ajedrez.\n",
    "- Numero de hospitalizaciones durante el brote de SRAS de 2003.\n",
    "<div style=\"text-align: center;\">\n",
    "<img src=\"../../resource/normal-logarit.png\">\n",
    "</div>"
   ],
   "id": "87b220770907931d"
  }
 ],
 "metadata": {
  "kernelspec": {
   "display_name": "Python 3",
   "language": "python",
   "name": "python3"
  },
  "language_info": {
   "codemirror_mode": {
    "name": "ipython",
    "version": 2
   },
   "file_extension": ".py",
   "mimetype": "text/x-python",
   "name": "python",
   "nbconvert_exporter": "python",
   "pygments_lexer": "ipython2",
   "version": "2.7.6"
  }
 },
 "nbformat": 4,
 "nbformat_minor": 5
}
