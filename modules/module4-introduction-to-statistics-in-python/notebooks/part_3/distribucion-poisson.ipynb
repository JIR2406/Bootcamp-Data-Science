{
 "cells": [
  {
   "metadata": {},
   "cell_type": "markdown",
   "source": [
    "## Procesos de Poisson\n",
    "\n",
    "Antes de hablar de probabilidad definamos un proceso de Poisson.\n",
    "\n",
    "Un **proceso de Poisson** es un proceso en el que los eventos parecen ocurrir a un ritmo determinado, pero en forma completamente aleatoria.\n",
    "\n",
    "La unidad de tiempo es irrelevante siempre que utilices la misma unidad cuando hables de la misma situación.\n",
    "\n",
    "### La distribución de Poisson\n",
    "- Probabilidad de que ocurra un numero determinado de sucesos en un periodo de tiempo fijo.\n",
    "Ejemplos:\n",
    "- Probabilidad de que se adopten >= 5 animales en un refugio de animales a la semana.\n",
    "- Probabilidad de que lleguen 12 personas a un restaurante en una hora.\n",
    "- Probabilidad de < 20 terremotos en California en un año.\n",
    "\n",
    "# Lambda (λ)\n",
    "- λ = numero medio de sucesos por intervalo de tiempo.\n",
    "- Numero medio de adopciones a la semana = 8"
   ],
   "id": "15fc77bab209b0f9"
  },
  {
   "metadata": {
    "ExecuteTime": {
     "end_time": "2025-08-06T02:12:00.913017Z",
     "start_time": "2025-08-06T02:11:59.451800Z"
    }
   },
   "cell_type": "code",
   "source": [
    "from scipy.stats import poisson\n",
    "poisson.pmf(5,8)"
   ],
   "id": "c30a565bfa291b9e",
   "outputs": [
    {
     "data": {
      "text/plain": [
       "np.float64(0.09160366159257921)"
      ]
     },
     "execution_count": 1,
     "metadata": {},
     "output_type": "execute_result"
    }
   ],
   "execution_count": 1
  },
  {
   "metadata": {
    "ExecuteTime": {
     "end_time": "2025-08-06T02:13:48.878915Z",
     "start_time": "2025-08-06T02:13:48.868788Z"
    }
   },
   "cell_type": "code",
   "source": [
    "# La medida de una distribución de Poisson parece normal con un gran numero de muestras.\n",
    "1 - poisson.cdf(5,8)"
   ],
   "id": "5244c9f44f5aedab",
   "outputs": [
    {
     "data": {
      "text/plain": [
       "np.float64(0.8087639379203746)"
      ]
     },
     "execution_count": 2,
     "metadata": {},
     "output_type": "execute_result"
    }
   ],
   "execution_count": 2
  },
  {
   "metadata": {},
   "cell_type": "markdown",
   "source": [
    "### Muestreo a partir de una distribución de Poisson\n",
    "```pythom\n",
    "from scipy.stats import poisson\n",
    "poisson.rvs(8, size=10)\n",
    "```"
   ],
   "id": "eb14880c386aea3e"
  },
  {
   "metadata": {
    "ExecuteTime": {
     "end_time": "2025-08-06T02:15:52.636932Z",
     "start_time": "2025-08-06T02:15:52.579706Z"
    }
   },
   "cell_type": "code",
   "source": [
    "# EL TLC sigue siendo valido\n",
    "from scipy.stats import poisson\n",
    "import matplotlib.pyplot as plt\n",
    "plt.hist(poisson.rvs(8, size=100))\n",
    "plt.show()"
   ],
   "id": "cd69b4d8cb0868eb",
   "outputs": [
    {
     "data": {
      "text/plain": [
       "<Figure size 640x480 with 1 Axes>"
      ],
      "image/png": "[encoded data removed]"
     },
     "metadata": {},
     "output_type": "display_data"
    }
   ],
   "execution_count": 15
  }
 ],
 "metadata": {
  "kernelspec": {
   "display_name": "Python 3",
   "language": "python",
   "name": "python3"
  },
  "language_info": {
   "codemirror_mode": {
    "name": "ipython",
    "version": 2
   },
   "file_extension": ".py",
   "mimetype": "text/x-python",
   "name": "python",
   "nbconvert_exporter": "python",
   "pygments_lexer": "ipython2",
   "version": "2.7.6"
  }
 },
 "nbformat": 4,
 "nbformat_minor": 5
}
