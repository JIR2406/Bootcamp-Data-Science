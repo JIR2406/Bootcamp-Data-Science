{
 "cells": [
  {
   "metadata": {},
   "cell_type": "markdown",
   "source": [
    "Dado que la media es mas sensible a los valores extremos, funciona mejor para datos simetricos.\n",
    "\n",
    "La mediana se desplaza en la direccion del sesgo por lo que es inferior a la mediana en los datos sesgados hacia la izquierda y mayor que la mediana en los datos sesgados hacia la derecha.\n",
    "\n",
    "Debido a que la media se ve arrastrada por los valores extremos, es mejor utilizar la mediana ya que se ve menos afectada por los valores atipicos."
   ],
   "id": "38d9eb86ec444853"
  }
 ],
 "metadata": {
  "kernelspec": {
   "display_name": "Python 3",
   "language": "python",
   "name": "python3"
  },
  "language_info": {
   "codemirror_mode": {
    "name": "ipython",
    "version": 2
   },
   "file_extension": ".py",
   "mimetype": "text/x-python",
   "name": "python",
   "nbconvert_exporter": "python",
   "pygments_lexer": "ipython2",
   "version": "2.7.6"
  }
 },
 "nbformat": 4,
 "nbformat_minor": 5
}
