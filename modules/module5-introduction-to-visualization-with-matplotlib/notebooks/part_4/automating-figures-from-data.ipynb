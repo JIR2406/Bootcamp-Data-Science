{
 "cells": [
  {
   "metadata": {},
   "cell_type": "markdown",
   "source": [
    "Cuando se programa correctamente puede adaptarse de forma flexible a las entradas que se le proporcionan.\n",
    "\n",
    "¿Por que querrias automatizar la creación de figuras basándose en los datos?\n",
    "- La automatización hace que sea mas facil hacer mas cosas.\n",
    "- Tambien te permite ser mas rapido.\n",
    "Inspeccionar los datos entrantes y cambiar el comportamiento de los mismos.\n",
    "El programa basado en datos proporciona flexibilidad y robustez.\n",
    "Un programa automatico que se ajusta a los datos proporciona un comportamiento reproducible en diferentes ejecuciones."
   ],
   "id": "523ed95bed80c5ce"
  },
  {
   "metadata": {
    "ExecuteTime": {
     "end_time": "2025-08-13T18:00:34.135348Z",
     "start_time": "2025-08-13T17:59:47.760069Z"
    }
   },
   "cell_type": "code",
   "source": [
    "import pandas as pd\n",
    "import matplotlib.pyplot as plt\n",
    "df = pd.read_csv('../../data/Weather Dataset.csv')\n",
    "weather = df['Weather'].unique()\n",
    "for weather in weather:\n",
    "    df_weather = df[df['Weather'] == weather]\n",
    "    fig, ax = plt.subplots()\n",
    "    ax.plot(df_weather['Date/Time'], df_weather['Temp_C'], label=weather)\n",
    "    ax.set_title(f'Temperatura en {weather}')\n",
    "    ax.set_xlabel('Fecha')\n",
    "    ax.set_ylabel('Temperatura (°C)')\n",
    "    ax.legend()\n",
    "    plt.xticks(rotation=45)\n",
    "    plt.tight_layout()\n",
    "    plt.savefig(f'../../../../results/module5/temperature_{weather}.png')\n",
    "    plt.close(fig)  # Cierra la figura para liberar memoria"
   ],
   "id": "6cb4ace73de4f330",
   "outputs": [],
   "execution_count": 6
  }
 ],
 "metadata": {
  "kernelspec": {
   "display_name": "Python 3",
   "language": "python",
   "name": "python3"
  },
  "language_info": {
   "codemirror_mode": {
    "name": "ipython",
    "version": 2
   },
   "file_extension": ".py",
   "mimetype": "text/x-python",
   "name": "python",
   "nbconvert_exporter": "python",
   "pygments_lexer": "ipython2",
   "version": "2.7.6"
  }
 },
 "nbformat": 4,
 "nbformat_minor": 5
}
