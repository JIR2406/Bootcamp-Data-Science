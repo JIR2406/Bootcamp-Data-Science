{
 "cells": [
  {
   "metadata": {},
   "cell_type": "markdown",
   "source": [
    "Cuando se programa correctamente puede adaptarse de forma flexible a las entradas que se le proporcionan.\n",
    "\n",
    "¿Por que querrias automatizar la creación de figuras basándose en los datos?\n",
    "- La automatización hace que sea mas facil hacer mas cosas.\n",
    "- Tambien te permite ser mas rapido.\n",
    "Inspeccionar los datos entrantes y cambiar el comportamiento de los mismos.\n",
    "El programa basado en datos proporciona flexibilidad y robustez.\n",
    "Un programa automatico que se ajusta a los datos proporciona un comportamiento reproducible en diferentes ejecuciones."
   ],
   "id": "523ed95bed80c5ce"
  },
  {
   "metadata": {
    "ExecuteTime": {
     "end_time": "2025-08-13T18:59:34.294813Z",
     "start_time": "2025-08-13T18:58:37.803092Z"
    }
   },
   "cell_type": "code",
   "source": [
    "import pandas as pd\n",
    "import matplotlib.pyplot as plt\n",
    "df = pd.read_csv('../../data/Weather Dataset.csv')\n",
    "weather = df['Weather'].unique()\n",
    "for weather in weather:\n",
    "    df_weather = df[df['Weather'] == weather]\n",
    "    fig, ax = plt.subplots()\n",
    "    ax.plot(df_weather['Date/Time'], df_weather['Temp_C'], label=weather)\n",
    "    ax.set_title(f'Temperatura en {weather}')\n",
    "    ax.set_xlabel('Fecha')\n",
    "    ax.set_ylabel('Temperatura (°C)')\n",
    "    ax.legend()\n",
    "    plt.xticks(rotation=45)\n",
    "    plt.tight_layout()\n",
    "    plt.savefig(f'../../../../results/module5/linear/temperature_{weather}.png')\n",
    "    plt.close(fig)  # Cierra la figura para liberar memoria"
   ],
   "id": "6cb4ace73de4f330",
   "outputs": [],
   "execution_count": 37
  },
  {
   "metadata": {
    "ExecuteTime": {
     "end_time": "2025-08-14T02:44:52.981407Z",
     "start_time": "2025-08-14T02:44:52.118113Z"
    }
   },
   "cell_type": "code",
   "source": [
    "import pandas as pd\n",
    "import matplotlib.pyplot as plt\n",
    "\n",
    "# 1. Cargo datos\n",
    "df_spot = pd.read_csv('../../data/spotify_history.csv')\n",
    "\n",
    "# 2. Itero por cada plataforma única\n",
    "for platform in df_spot['platform'].unique():\n",
    "    # Filtro\n",
    "    platform_df = df_spot[df_spot['platform'] == platform]\n",
    "\n",
    "    # 3. Cuento reproducciones por artista\n",
    "    artist_counts = platform_df['artist_name'].value_counts()\n",
    "\n",
    "    # 4. Preparo top10 + “Otros”\n",
    "    top_n = 10\n",
    "    top_artists = artist_counts.iloc[:top_n].copy()\n",
    "    otros_count = artist_counts.iloc[top_n:].sum()\n",
    "    top_artists['Otros'] = otros_count\n",
    "\n",
    "    # 5. Ploteo barras horizontales\n",
    "    fig, ax = plt.subplots(figsize=(8, 6))\n",
    "    ax.barh(top_artists.index, top_artists.values, color='skyblue')\n",
    "    ax.invert_yaxis()  # para que el más alto quede arriba\n",
    "\n",
    "    # 6. Decoraciones\n",
    "    ax.set_title(f'Top {top_n} artistas + Otros en {platform}')\n",
    "    ax.set_xlabel('Número de reproducciones')\n",
    "    plt.tight_layout()\n",
    "    plt.savefig(f'../../../../results/module5/bar/topartist_{platform}.png')\n",
    "    plt.close(fig)\n",
    "    print('Figura guardada para:', platform)\n"
   ],
   "id": "eff0c4d61ce56b34",
   "outputs": [
    {
     "name": "stdout",
     "output_type": "stream",
     "text": [
      "Dashboard 1 guardado en: ../../../../results/module5/bar/dashboard_top_artists_1.png\n",
      "Dashboard 2 guardado en: ../../../../results/module5/bar/dashboard_top_artists_2.png\n"
     ]
    }
   ],
   "execution_count": 6
  }
 ],
 "metadata": {
  "kernelspec": {
   "display_name": "Python 3",
   "language": "python",
   "name": "python3"
  },
  "language_info": {
   "codemirror_mode": {
    "name": "ipython",
    "version": 2
   },
   "file_extension": ".py",
   "mimetype": "text/x-python",
   "name": "python",
   "nbconvert_exporter": "python",
   "pygments_lexer": "ipython2",
   "version": "2.7.6"
  }
 },
 "nbformat": 4,
 "nbformat_minor": 5
}
