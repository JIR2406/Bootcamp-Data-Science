{
 "cells": [
  {
   "metadata": {},
   "cell_type": "markdown",
   "source": [
    "Una forma importante de mejorar una visualizacion es agregar anotaciones.\n",
    "Las anotaciones suelen ser pequeños fragmentos de texto que hacen referencia a una parte especifica del texto visualizacion, centrando nuestra atencion en alguna caracteristica de los datos y explicando esa caracteristica."
   ],
   "id": "762a354b85dd4e04"
  }
 ],
 "metadata": {
  "kernelspec": {
   "display_name": "Python 3",
   "language": "python",
   "name": "python3"
  },
  "language_info": {
   "codemirror_mode": {
    "name": "ipython",
    "version": 2
   },
   "file_extension": ".py",
   "mimetype": "text/x-python",
   "name": "python",
   "nbconvert_exporter": "python",
   "pygments_lexer": "ipython2",
   "version": "2.7.6"
  }
 },
 "nbformat": 4,
 "nbformat_minor": 5
}
