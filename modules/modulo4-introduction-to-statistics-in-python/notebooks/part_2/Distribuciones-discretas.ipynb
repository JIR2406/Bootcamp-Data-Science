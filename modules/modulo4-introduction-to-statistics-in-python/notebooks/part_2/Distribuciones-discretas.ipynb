{
 "cells": [
  {
   "metadata": {},
   "cell_type": "markdown",
   "source": [
    "Una distribucion de probabilidad describe la probabilidad de cada resiltado posible en un escenario.\n",
    "Valor esperado: Media de una distribucion de probabilidad.\n",
    "\n",
    "# Visualizar una distribucion de probabilidad\n",
    "\n",
    "Podemos visualizar esto usando un grafico de barras, donde cada barra representa un resultado y la altura de cada barra representa la probabilidad de ese resultado.\n",
    "\n",
    "<img src=\"../../resource/dist_prob.png\">\n",
    "\n",
    "\n",
    "Podemos calcular probabilidades de diferentes resultados tomando areas de la distribucion de probabilidad.\n",
    "\n",
    "$$\n",
    "P(\\text{die roll}) \\leq 2 = ?\n",
    "$$\n",
    "\n",
    "Conforme aumente el tamaño de la muestra, la media muestral se aproximara al valor esperado."
   ],
   "id": "6eec36e3ff969a2b"
  },
  {
   "metadata": {
    "ExecuteTime": {
     "end_time": "2025-08-05T02:43:23.363284Z",
     "start_time": "2025-08-05T02:43:16.630756Z"
    }
   },
   "cell_type": "code",
   "source": [
    "import numpy as np\n",
    "import pandas as pd\n",
    "import matplotlib.pyplot as plt\n",
    "movies = pd.read_csv('../../data/TMDB_movie_dataset_v11.csv')\n",
    "\n",
    "rolls = movies.sample(10,replace=True)\n",
    "np.random.seed(4)\n",
    "rolls['runtime'].hist(bins=np.linspace(1,7,7))\n",
    "plt.show()"
   ],
   "id": "bebbf83a234ba85b",
   "outputs": [
    {
     "data": {
      "text/plain": [
       "<Figure size 640x480 with 1 Axes>"
      ],
      "image/png": "[encoded data removed]"
     },
     "metadata": {},
     "output_type": "display_data"
    }
   ],
   "execution_count": 16
  }
 ],
 "metadata": {
  "kernelspec": {
   "display_name": "Python 3",
   "language": "python",
   "name": "python3"
  },
  "language_info": {
   "codemirror_mode": {
    "name": "ipython",
    "version": 2
   },
   "file_extension": ".py",
   "mimetype": "text/x-python",
   "name": "python",
   "nbconvert_exporter": "python",
   "pygments_lexer": "ipython2",
   "version": "2.7.6"
  }
 },
 "nbformat": 4,
 "nbformat_minor": 5
}
