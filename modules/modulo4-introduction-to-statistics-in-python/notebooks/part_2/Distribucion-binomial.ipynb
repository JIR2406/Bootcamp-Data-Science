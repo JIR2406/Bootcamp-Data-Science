{
 "cells": [
  {
   "metadata": {},
   "cell_type": "markdown",
   "source": [
    "# Representación de Datos Binarios y Simulación en Python\n",
    "\n",
    "Podemos representar información binaria usando valores como `1` o `0`, lo que también puede interpretarse como éxito o fracaso, victoria o derrota, o cualquier evento con dos posibles resultados.\n",
    "\n",
    "En Python, es posible simular eventos binarios como el lanzamiento de una moneda utilizando la función `binom.rvs` de la biblioteca `scipy.stats`. Esta función nos permite generar resultados de experimentos aleatorios bajo un modelo binomial.\n",
    "\n",
    "La sintaxis básica es:\n",
    "\n",
    "```python\n",
    "from scipy.stats import binom\n",
    "binom.rvs(n_coins, prob_cara, size=num_experimentos)\n",
    "```\n",
    "Donde:\n",
    "- `n_coins`: número de monedas lanzadas por experimento (por ejemplo, 1 si es un solo lanzamiento por experimento).\n",
    "- `prob_cara`: probabilidad de obtener cara (por ejemplo, 0.5 para una moneda justa).\n",
    "- `size`: cantidad de experimentos o repeticiones.\n",
    "\n",
    "Por ejemplo, para simular un solo lanzamiento de una moneda:\n",
    "\n",
    "```python\n",
    "from scipy.stats import binom\n",
    "resultado = binom.rvs(1, 0.5, size=1)\n",
    "print(resultado)  # Salida posible: [0] o [1]\n",
    "```\n",
    "\n",
    "Si queremos simular ocho lanzamientos de moneda independientes, podemos ajustar el argumento `size` a 8. Esto simulará lanzar una sola moneda, ocho veces, cada vez con una probabilidad del 50% de obtener cara:\n",
    "\n",
    "```python\n",
    "resultados = binom.rvs(1, 0.5, size=8)\n",
    "print(resultados)  # Ejemplo de salida: [1 0 0 1 1 0 1 0]\n",
    "```\n",
    "\n",
    "<div align=\"center\">\n",
    "  <img src=\"../../resource/binoms.png\" alt=\"Distribución binomial: lanzamientos de moneda\">\n",
    "</div>"
   ],
   "id": "c71c129a1dfcc6da"
  },
  {
   "metadata": {},
   "cell_type": "markdown",
   "source": [
    "# Distribución Binomial: Probabilidad de Éxitos en Experimentos Independientes\n",
    "\n",
    "La **distribución binomial** describe la probabilidad de obtener cierto número de éxitos (aciertos) en una secuencia de intentos independientes, donde cada intento tiene la misma probabilidad de éxito.\n",
    "\n",
    "Esta distribución se caracteriza por dos parámetros fundamentales:\n",
    "\n",
    "- **n**: Número de intentos o experimentos (por ejemplo, lanzamientos de moneda, pruebas, encuestas, etc.).\n",
    "- **p**: Probabilidad de éxito en cada intento (por ejemplo, 0.5 para una moneda justa).\n",
    "\n",
    "La notación en Python, usando la función `binom.rvs` de la librería `scipy.stats`, es la siguiente:\n",
    "\n",
    "```python\n",
    "binom.rvs(n, p, size)\n",
    "```\n",
    "\n",
    "Donde:\n",
    "- `n` es el número de ensayos por experimento,\n",
    "- `p` es la probabilidad de éxito en cada ensayo,\n",
    "- `size` es el número de experimentos que queremos simular.\n",
    "\n",
    "Por ejemplo, para simular el número de caras al lanzar una moneda justa 10 veces en 5 experimentos independientes:\n",
    "\n",
    "```python\n",
    "from scipy.stats import binom\n",
    "resultados = binom.rvs(10, 0.5, size=5)\n",
    "print(resultados)  # Ejemplo de salida: [6 4 5 7 3]\n",
    "```\n",
    "\n",
    "Cada valor en la salida representa la cantidad de éxitos (por ejemplo, caras) en cada experimento."
   ],
   "id": "f903431f0ba5c625"
  },
  {
   "metadata": {
    "ExecuteTime": {
     "end_time": "2025-08-05T18:44:04.288858Z",
     "start_time": "2025-08-05T18:44:03.031710Z"
    }
   },
   "cell_type": "code",
   "source": [
    "from scipy.stats import binom\n",
    "1- binom.cdf(7,10,0.5) # Probabilidad de obtener más de 7 caras al lanzar una moneda 10 veces"
   ],
   "id": "a2300e43c8b0ba72",
   "outputs": [
    {
     "data": {
      "text/plain": [
       "np.float64(0.0546875)"
      ]
     },
     "execution_count": 1,
     "metadata": {},
     "output_type": "execute_result"
    }
   ],
   "execution_count": 1
  },
  {
   "metadata": {},
   "cell_type": "markdown",
   "source": [
    "## Valor Esperado\n",
    "\n",
    "La fórmula para el valor esperado de una distribución binomial es:\n",
    "\n",
    "$$\n",
    "\\text{Valor esperado} = n \\times p\n",
    "$$\n",
    "\n",
    "## Independencia.\n",
    "\n",
    "La distribucion binomial es una distribucion de probabilidad del numero de aciertos en una secunacia de intentos Independientes.\n",
    "\n",
    "> Si los intentos no son independientes no se aplica la distribucion binomial"
   ],
   "id": "2345ca3971143826"
  }
 ],
 "metadata": {
  "kernelspec": {
   "display_name": "Python 3",
   "language": "python",
   "name": "python3"
  },
  "language_info": {
   "codemirror_mode": {
    "name": "ipython",
    "version": 2
   },
   "file_extension": ".py",
   "mimetype": "text/x-python",
   "name": "python",
   "nbconvert_exporter": "python",
   "pygments_lexer": "ipython2",
   "version": "2.7.6"
  }
 },
 "nbformat": 4,
 "nbformat_minor": 5
}
