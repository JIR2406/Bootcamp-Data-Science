{
 "cells": [
  {
   "metadata": {},
   "cell_type": "markdown",
   "source": [
    "# ¿Qué es la estadística?\n",
    "\n",
    "La **estadística** es la disciplina que se ocupa de la recolección, el análisis, la interpretación y la presentación de datos. Nos ayuda a comprender y resumir la información obtenida de observaciones y experimentos.\n",
    "\n",
    "- **Campo de la estadística:** Incluye tanto la práctica como el estudio teórico de cómo se recogen y analizan los datos.\n",
    "- **Estadística de resumen:** Es un dato o conjunto de datos que resume o representa un aspecto relevante de un conjunto mayor de información.\n",
    "\n",
    "---\n",
    "\n",
    "## ¿Para qué sirve la estadística?\n",
    "\n",
    "La estadística es fundamental para:\n",
    "\n",
    "- **Tomar decisiones informadas** en situaciones de incertidumbre.\n",
    "- **Diseñar y analizar experimentos** y encuestas.\n",
    "- **Realizar pruebas A/B:** Por ejemplo, comparar dos grupos para determinar cuál tiene un mejor desempeño o resultado.\n",
    "\n",
    "---\n",
    "\n",
    "## ¿Para qué no sirve la estadística?\n",
    "\n",
    "- No garantiza resultados concluyentes en todos los casos; depende de la calidad y cantidad de los datos.\n",
    "- No puede eliminar el sesgo si los datos o el diseño experimental están mal estructurados.\n",
    "- No reemplaza el juicio crítico ni la interpretación contextual de los resultados.\n",
    "\n",
    "---\n",
    "\n",
    "## Tipos de estadística\n",
    "\n",
    "- **Estadística descriptiva:** Se encarga de resumir y describir las características principales de un conjunto de datos, por ejemplo, mediante medias, medianas, gráficas, etc.\n",
    "- **Estadística inferencial:** Permite hacer inferencias o predicciones sobre una población a partir de una muestra representativa, utilizando técnicas como intervalos de confianza y pruebas de hipótesis.\n",
    "- **Estadística bayesiana:** Es un enfoque de la estadística que utiliza el teorema de Bayes para actualizar las probabilidades o creencias sobre una hipótesis a medida que se obtiene nueva información.\n",
    "\n",
    "---"
   ],
   "id": "dc858f7321eda96c"
  },
  {
   "metadata": {},
   "cell_type": "markdown",
   "source": [
    "# Tipos de datos\n",
    "\n",
    "En estadística, los datos se pueden clasificar de varias formas según sus características:\n",
    "\n",
    "---\n",
    "\n",
    "## 1. Datos cuantitativos\n",
    "\n",
    "- **Definición:** Son datos numéricos que pueden ser medidos y ordenados.\n",
    "- **Ejemplos:** Altura, peso, edad, temperatura.\n",
    "\n",
    "---\n",
    "\n",
    "## 2. Datos cualitativos\n",
    "\n",
    "- **Definición:** Son datos no numéricos que describen cualidades, atributos o categorías.\n",
    "- **Ejemplos:** Color de ojos, estado civil, tipo de sangre.\n",
    "\n",
    "---\n",
    "\n",
    "## 3. Datos discretos\n",
    "\n",
    "- **Definición:** Son datos cuantitativos que solo pueden tomar un número finito o contable de valores.\n",
    "- **Ejemplos:** Número de hijos, cantidad de coches en un estacionamiento, número de llamadas recibidas.\n",
    "\n",
    "---\n",
    "\n",
    "## 4. Datos continuos\n",
    "\n",
    "- **Definición:** Son datos cuantitativos que pueden tomar cualquier valor dentro de un rango determinado, incluso valores fraccionarios o decimales.\n",
    "- **Ejemplos:** La distancia recorrida, el peso de una persona, el tiempo necesario para completar una tarea.\n",
    "\n",
    "---"
   ],
   "id": "df80e501364be6d9"
  }
 ],
 "metadata": {
  "kernelspec": {
   "display_name": "Python 3",
   "language": "python",
   "name": "python3"
  },
  "language_info": {
   "codemirror_mode": {
    "name": "ipython",
    "version": 2
   },
   "file_extension": ".py",
   "mimetype": "text/x-python",
   "name": "python",
   "nbconvert_exporter": "python",
   "pygments_lexer": "ipython2",
   "version": "2.7.6"
  }
 },
 "nbformat": 4,
 "nbformat_minor": 5
}
