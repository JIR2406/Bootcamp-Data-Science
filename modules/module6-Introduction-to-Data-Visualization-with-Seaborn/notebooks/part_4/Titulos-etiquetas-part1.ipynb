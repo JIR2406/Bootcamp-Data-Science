{
 "cells": [
  {
   "metadata": {},
   "cell_type": "markdown",
   "source": [
    "# Objetos FaceGrid frente a AxesSubplot\n",
    "Los graficos de seaborn crean dos tipos diferentes de objetos:\n",
    "`FacetGrid` y `AxesSubplot`.\n",
    "\n",
    "```python\n",
    "g = sns.scatterplot(x='heighy',\n",
    "                    y='weight',\n",
    "                    data=df)\n",
    "type(g)\n",
    "```\n",
    ">matplotlib.axes._subplots.AxesSubplot\n",
    "\n",
    "| Tipo de objeto   | Tipos de gráficos                      | Características                  |\n",
    "|------------------|----------------------------------------|----------------------------------|\n",
    "| `FacetGrid`      | `relplot()`, `catplot()`               | Puede crear subgráficos.         |\n",
    "| `AxesSubplot`    | `scatterplot()`, `countplot()`, etc.   | Solo crea un único gráfico.      |"
   ],
   "id": "a2d9112a541b4d87"
  }
 ],
 "metadata": {
  "kernelspec": {
   "display_name": "Python 3",
   "language": "python",
   "name": "python3"
  },
  "language_info": {
   "codemirror_mode": {
    "name": "ipython",
    "version": 2
   },
   "file_extension": ".py",
   "mimetype": "text/x-python",
   "name": "python",
   "nbconvert_exporter": "python",
   "pygments_lexer": "ipython2",
   "version": "2.7.6"
  }
 },
 "nbformat": 4,
 "nbformat_minor": 5
}
