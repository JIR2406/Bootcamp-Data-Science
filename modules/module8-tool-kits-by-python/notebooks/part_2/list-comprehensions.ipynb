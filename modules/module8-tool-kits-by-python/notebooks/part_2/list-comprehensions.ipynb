{
 "cells": [
  {
   "metadata": {},
   "cell_type": "markdown",
   "source": [
    "# Listas de comprensión\n",
    "Entre corchetes, escribes los valores que deseas crear (tambien conocido como expresión de salida), seguida de la cláusula for que hace referencia a la lista original.\n",
    "\n",
    "```python\n",
    "nums = [1, 2, 3, 4, 5]\n",
    "new_nums = [num + 1 for num in nums]\n",
    "print(new_nums)\n",
    "```"
   ],
   "id": "7a5e1dbc2678e7b4"
  },
  {
   "metadata": {},
   "cell_type": "markdown",
   "source": [
    "- Las listas de comprensión copalsan los bucles para construir listas en una sola línea y lo requerido.\n",
    "- Componentes:\n",
    "    - Un iterable\n",
    "    - Una variable iteradora que representa los miembros del iterable\n",
    "    - Una expresión de salida"
   ],
   "id": "93e639d88a8a1d23"
  },
  {
   "metadata": {
    "ExecuteTime": {
     "end_time": "2025-08-27T04:01:56.493616Z",
     "start_time": "2025-08-27T04:01:56.490110Z"
    }
   },
   "cell_type": "code",
   "source": [
    "pairs_2 = [(x,y) for x in range(0,3) for y in range(6,7)]\n",
    "print(pairs_2)"
   ],
   "id": "3ebb32e3ea2e8a9e",
   "outputs": [
    {
     "name": "stdout",
     "output_type": "stream",
     "text": [
      "[(0, 6), (1, 6), (2, 6)]\n"
     ]
    }
   ],
   "execution_count": 15
  }
 ],
 "metadata": {
  "kernelspec": {
   "display_name": "Python 3",
   "language": "python",
   "name": "python3"
  },
  "language_info": {
   "codemirror_mode": {
    "name": "ipython",
    "version": 2
   },
   "file_extension": ".py",
   "mimetype": "text/x-python",
   "name": "python",
   "nbconvert_exporter": "python",
   "pygments_lexer": "ipython2",
   "version": "2.7.6"
  }
 },
 "nbformat": 4,
 "nbformat_minor": 5
}
