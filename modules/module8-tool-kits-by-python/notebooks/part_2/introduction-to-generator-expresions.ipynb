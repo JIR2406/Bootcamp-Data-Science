{
 "cells": [
  {
   "metadata": {},
   "cell_type": "markdown",
   "source": [
    "# Objeto generador\n",
    "Generador: Es como una lista por comprension, excepto que no almacena la lista en la memoria.\n",
    "- No construye la lista, sino que es un objeto sobre el que podemos iterar para producir elementos de la lista segun lo necesario."
   ],
   "id": "a4014fb6b5799c1c"
  },
  {
   "metadata": {
    "ExecuteTime": {
     "end_time": "2025-08-27T04:18:38.484395Z",
     "start_time": "2025-08-27T04:18:38.479651Z"
    }
   },
   "cell_type": "code",
   "source": [
    "result = (num for num in range(6))\n",
    "print(result)"
   ],
   "id": "8628d88292477c1a",
   "outputs": [
    {
     "name": "stdout",
     "output_type": "stream",
     "text": [
      "<generator object <genexpr> at 0x00000271A0CFAF80>\n"
     ]
    }
   ],
   "execution_count": 1
  },
  {
   "metadata": {
    "ExecuteTime": {
     "end_time": "2025-08-27T04:19:41.637413Z",
     "start_time": "2025-08-27T04:19:41.633075Z"
    }
   },
   "cell_type": "code",
   "source": [
    "result = (num for num in range(6))\n",
    "print(list(result))"
   ],
   "id": "1e1825743354ee3",
   "outputs": [
    {
     "name": "stdout",
     "output_type": "stream",
     "text": [
      "[0, 1, 2, 3, 4, 5]\n"
     ]
    }
   ],
   "execution_count": 5
  },
  {
   "metadata": {},
   "cell_type": "markdown",
   "source": [
    "Podemos pasar el generador a la función siguiente para iterar a traves de sus elementos.\n",
    "Esto es un ejemplo de \"evaluacion perezosa\" (lazy evaluation).\n",
    "Donde la evaluación de la expresión se retrasa hasta que se necesita su valor.\n",
    "## Funciones generadoras\n",
    "Son funciones que cuando se llaman producen objetos generadores.\n",
    "- Se escriben con la sintaxis de cualquier otra función definida por el usuario.\n",
    "- En lugar de devolver valores utilizando la palabra clave return producen secuencias de valores utilizando la palabra clave `yield`."
   ],
   "id": "830cfde7ea5d1e2f"
  },
  {
   "metadata": {
    "ExecuteTime": {
     "end_time": "2025-08-27T04:25:28.801219Z",
     "start_time": "2025-08-27T04:25:28.797113Z"
    }
   },
   "cell_type": "code",
   "source": [
    "def num_sequence(n):\n",
    "    \"\"\"Generador que produce una secuencia de numeros desde 0 hasta n-1\"\"\"\n",
    "    i = 0\n",
    "    while i < n:\n",
    "        yield i\n",
    "        i += 1\n",
    "result = num_sequence(6)\n",
    "for item in result:\n",
    "    print(item)"
   ],
   "id": "177543b9bf3a49a5",
   "outputs": [
    {
     "name": "stdout",
     "output_type": "stream",
     "text": [
      "0\n",
      "1\n",
      "2\n",
      "3\n",
      "4\n",
      "5\n"
     ]
    }
   ],
   "execution_count": 7
  }
 ],
 "metadata": {
  "kernelspec": {
   "display_name": "Python 3",
   "language": "python",
   "name": "python3"
  },
  "language_info": {
   "codemirror_mode": {
    "name": "ipython",
    "version": 2
   },
   "file_extension": ".py",
   "mimetype": "text/x-python",
   "name": "python",
   "nbconvert_exporter": "python",
   "pygments_lexer": "ipython2",
   "version": "2.7.6"
  }
 },
 "nbformat": 4,
 "nbformat_minor": 5
}
