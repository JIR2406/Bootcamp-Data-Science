{
 "cells": [
  {
   "metadata": {},
   "cell_type": "markdown",
   "source": [
    "- Extraer información importante de los datos con marca de tiempo de tweets reales.\n",
    "    - Basic form\n",
    "        - [output expression for iterator variable in iterable]\n",
    "    - Advanced\n",
    "        - [output expression + conditional on output for iterator variable in iterable + conditional on iterable]"
   ],
   "id": "fd77378d53117264"
  }
 ],
 "metadata": {
  "kernelspec": {
   "display_name": "Python 3",
   "language": "python",
   "name": "python3"
  },
  "language_info": {
   "codemirror_mode": {
    "name": "ipython",
    "version": 2
   },
   "file_extension": ".py",
   "mimetype": "text/x-python",
   "name": "python",
   "nbconvert_exporter": "python",
   "pygments_lexer": "ipython2",
   "version": "2.7.6"
  }
 },
 "nbformat": 4,
 "nbformat_minor": 5
}
