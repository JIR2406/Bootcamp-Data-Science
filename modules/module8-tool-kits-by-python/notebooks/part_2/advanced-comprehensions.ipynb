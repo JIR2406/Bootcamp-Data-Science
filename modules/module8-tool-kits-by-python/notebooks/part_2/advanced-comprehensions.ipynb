{
 "cells": [
  {
   "metadata": {},
   "cell_type": "markdown",
   "source": [
    "# Condicionales en comprensiones de listas\n",
    "Podemos filtrar la salida de una lista por comprensión usando un condicional en el iterable."
   ],
   "id": "c9f8f4bffda29c79"
  },
  {
   "metadata": {
    "ExecuteTime": {
     "end_time": "2025-08-27T04:09:09.296468Z",
     "start_time": "2025-08-27T04:09:09.292466Z"
    }
   },
   "cell_type": "code",
   "source": "print([num ** 2 for num in range(10) if num % 2 == 0])",
   "id": "9fbe7e0127d2b568",
   "outputs": [
    {
     "name": "stdout",
     "output_type": "stream",
     "text": [
      "[0, 4, 16, 36, 64]\n"
     ]
    }
   ],
   "execution_count": 2
  },
  {
   "metadata": {
    "ExecuteTime": {
     "end_time": "2025-08-27T04:09:36.020371Z",
     "start_time": "2025-08-27T04:09:36.015371Z"
    }
   },
   "cell_type": "code",
   "source": "print([num ** 2 if num % 2 == 0 else 0 for num in range(10)])",
   "id": "ee5312308a478472",
   "outputs": [
    {
     "name": "stdout",
     "output_type": "stream",
     "text": [
      "[0, 0, 4, 0, 16, 0, 36, 0, 64, 0]\n"
     ]
    }
   ],
   "execution_count": 3
  },
  {
   "metadata": {},
   "cell_type": "markdown",
   "source": ">Tambien es posible usar condicionales en comprensiones de diccionarios y conjuntos.",
   "id": "7af1bbb49c4f2445"
  },
  {
   "metadata": {
    "ExecuteTime": {
     "end_time": "2025-08-27T04:11:08.419663Z",
     "start_time": "2025-08-27T04:11:08.414663Z"
    }
   },
   "cell_type": "code",
   "source": [
    "pos_neg = {num:-num for num in range(9)}\n",
    "print(pos_neg)"
   ],
   "id": "31b33330a28c402",
   "outputs": [
    {
     "name": "stdout",
     "output_type": "stream",
     "text": [
      "{0: 0, 1: -1, 2: -2, 3: -3, 4: -4, 5: -5, 6: -6, 7: -7, 8: -8}\n"
     ]
    }
   ],
   "execution_count": 5
  }
 ],
 "metadata": {
  "kernelspec": {
   "display_name": "Python 3",
   "language": "python",
   "name": "python3"
  },
  "language_info": {
   "codemirror_mode": {
    "name": "ipython",
    "version": 2
   },
   "file_extension": ".py",
   "mimetype": "text/x-python",
   "name": "python",
   "nbconvert_exporter": "python",
   "pygments_lexer": "ipython2",
   "version": "2.7.6"
  }
 },
 "nbformat": 4,
 "nbformat_minor": 5
}
