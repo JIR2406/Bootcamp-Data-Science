{
 "cells": [
  {
   "metadata": {},
   "cell_type": "markdown",
   "source": [
    "Cuando hay tantos datos que no es posible almacenarlos en la memoria. Una solución es cargar los datos en fragmentos y realizar la operación o las operaciones deseadas en cada uno.\n",
    "\n",
    "chunck: Almacena el resultado, descarta el fragmento y luego carga el siguiente fragmento.\n",
    "\n",
    "pandas tiene la funcion read_csv() que permite cargar un archivo CSV en fragmentos.\n",
    "Todo lo que necesitamos hacer es especificar el fragmento usando el argumento. chunksize."
   ],
   "id": "16655ed30d340766"
  },
  {
   "metadata": {
    "ExecuteTime": {
     "end_time": "2025-08-27T03:41:49.746186Z",
     "start_time": "2025-08-27T03:41:49.733160Z"
    }
   },
   "cell_type": "code",
   "source": [
    "import pandas as pd\n",
    "total = 0\n",
    "for chunk in pd.read_csv('../../data/tweets.csv', chunksize=1000):\n",
    "    total += sum(chunk['id'])\n",
    "print(total)\n"
   ],
   "id": "77afe47c9dac7f0a",
   "outputs": [
    {
     "name": "stdout",
     "output_type": "stream",
     "text": [
      "71496040563947225134\n"
     ]
    }
   ],
   "execution_count": 9
  }
 ],
 "metadata": {
  "kernelspec": {
   "display_name": "Python 3",
   "language": "python",
   "name": "python3"
  },
  "language_info": {
   "codemirror_mode": {
    "name": "ipython",
    "version": 2
   },
   "file_extension": ".py",
   "mimetype": "text/x-python",
   "name": "python",
   "nbconvert_exporter": "python",
   "pygments_lexer": "ipython2",
   "version": "2.7.6"
  }
 },
 "nbformat": 4,
 "nbformat_minor": 5
}
