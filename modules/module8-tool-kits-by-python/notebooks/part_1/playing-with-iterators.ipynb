{
 "cells": [
  {
   "metadata": {},
   "cell_type": "markdown",
   "source": [
    "`enumerate`: Es una función que toma cualquier iterable como argumento como una lista y devuelve un objeto enumerado especial, que consta de pares que contienen los elementos del iterable original, junto con su índice dentro del iterable\n",
    "\n",
    "\n",
    "```python\n",
    "# Ejemplo de uso de enumerate\n",
    "lista = ['a', 'b', 'c']\n",
    "e = enumerate(lista)\n",
    "print(type(e))\n",
    "```\n",
    "Podemos utilizar el metodo `list()` para convertir el objeto enumerado en una lista de tuplas, donde cada tupla contiene un índice y el valor correspondiente del iterable original.\n",
    "```python\n",
    "# Convertir el objeto enumerado en una lista de tuplas\n",
    "lista_enumerada = list(e)\n",
    "print(lista_enumerada)\n",
    "```\n",
    "El comportamiento predeterminado de enumerate es comenzar a indexar en 0."
   ],
   "id": "5ce834f0a4f26672"
  },
  {
   "metadata": {
    "ExecuteTime": {
     "end_time": "2025-08-26T21:38:53.678868Z",
     "start_time": "2025-08-26T21:38:53.667018Z"
    }
   },
   "cell_type": "code",
   "source": [
    "for index, value in enumerate(['a', 'b', 'c']):\n",
    "    print(index, value)"
   ],
   "id": "bf12335e6e2c6810",
   "outputs": [
    {
     "name": "stdout",
     "output_type": "stream",
     "text": [
      "0 a\n",
      "1 b\n",
      "2 c\n"
     ]
    }
   ],
   "execution_count": 1
  },
  {
   "metadata": {},
   "cell_type": "markdown",
   "source": "> zip() : Es una función incorporada en Python que toma múltiples iterables (como listas, tuplas, etc.) y los combina en un solo iterable de tuplas. Cada tupla contiene elementos correspondientes de cada uno de los iterables de entrada. La función zip() detiene la combinación cuando el iterable más corto se agota.",
   "id": "e7bfa39cd0363cc"
  },
  {
   "metadata": {
    "ExecuteTime": {
     "end_time": "2025-08-26T22:00:06.584092Z",
     "start_time": "2025-08-26T22:00:06.576736Z"
    }
   },
   "cell_type": "code",
   "source": [
    "avengers = ['hawkeye', 'iron man', 'thor', 'hulk']\n",
    "heroes = ['black widow', 'captain america', 'spiderman']\n",
    "z = zip(avengers, heroes)\n",
    "print(*z)"
   ],
   "id": "8f2ff65781cfd700",
   "outputs": [
    {
     "name": "stdout",
     "output_type": "stream",
     "text": [
      "('hawkeye', 'black widow') ('iron man', 'captain america') ('thor', 'spiderman')\n"
     ]
    }
   ],
   "execution_count": 3
  }
 ],
 "metadata": {
  "kernelspec": {
   "display_name": "Python 3",
   "language": "python",
   "name": "python3"
  },
  "language_info": {
   "codemirror_mode": {
    "name": "ipython",
    "version": 2
   },
   "file_extension": ".py",
   "mimetype": "text/x-python",
   "name": "python",
   "nbconvert_exporter": "python",
   "pygments_lexer": "ipython2",
   "version": "2.7.6"
  }
 },
 "nbformat": 4,
 "nbformat_minor": 5
}
