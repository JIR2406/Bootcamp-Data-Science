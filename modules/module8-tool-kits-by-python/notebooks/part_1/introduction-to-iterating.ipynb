{
 "cells": [
  {
   "metadata": {},
   "cell_type": "markdown",
   "source": [
    "# Iterables e Iteradores en Python\n",
    "\n",
    "Cuando se utiliza un bucle `for` para imprimir cada elemento de una lista, estás iterando sobre la lista. Esto significa que estás accediendo a cada elemento, uno por uno, utilizando las capacidades de los objetos *iterables*.\n",
    "\n",
    "## ¿Qué es un Iterable?\n",
    "\n",
    "Un **iterable** es cualquier objeto que puede ser recorrido (iterado) elemento por elemento. Ejemplos comunes de iterables en Python son:\n",
    "\n",
    "- **Listas**\n",
    "- **Cadenas**\n",
    "- **Tuplas**\n",
    "- **Diccionarios**\n",
    "- **Conjuntos**\n",
    "\n",
    "Un objeto es iterable si puede ser pasado a la función incorporada `iter()`, la cual devuelve un **iterador** para ese objeto.\n",
    "\n",
    "```python\n",
    "# Ejemplo: Verificando si una lista es iterable\n",
    "mi_lista = [1, 2, 3]\n",
    "iterador = iter(mi_lista)  # Esto funciona porque mi_lista es iterable\n",
    "```\n",
    "\n",
    "## ¿Qué es un Iterador?\n",
    "\n",
    "Un **iterador** es un objeto que implementa los métodos especiales `__iter__()` y `__next__()`, permitiendo producir valores consecutivos cada vez que se llama a `next()`.\n",
    "\n",
    "```python\n",
    "# Ejemplo: Usando un iterador\n",
    "mi_lista = [1, 2, 3]\n",
    "iterador = iter(mi_lista)\n",
    "print(next(iterador))  # Imprime 1\n",
    "print(next(iterador))  # Imprime 2\n",
    "print(next(iterador))  # Imprime 3\n",
    "```\n",
    "\n",
    "> Un objeto es **iterable** si puede ser pasado a la función `iter()`, que devuelve un **iterador** para el objeto.\n",
    "\n",
    "---\n",
    "\n",
    "### Resumen de conceptos\n",
    "\n",
    "- **Iterable:** Objeto que puede ser recorrido con un bucle `for` y pasado a `iter()`.\n",
    "- **Iterador:** Objeto que produce valores consecutivos, usando el método `next()` (o `__next__()`).\n"
   ],
   "id": "c196900239813ae4"
  }
 ],
 "metadata": {
  "kernelspec": {
   "display_name": "Python 3",
   "language": "python",
   "name": "python3"
  },
  "language_info": {
   "codemirror_mode": {
    "name": "ipython",
    "version": 2
   },
   "file_extension": ".py",
   "mimetype": "text/x-python",
   "name": "python",
   "nbconvert_exporter": "python",
   "pygments_lexer": "ipython2",
   "version": "2.7.6"
  }
 },
 "nbformat": 4,
 "nbformat_minor": 5
}
