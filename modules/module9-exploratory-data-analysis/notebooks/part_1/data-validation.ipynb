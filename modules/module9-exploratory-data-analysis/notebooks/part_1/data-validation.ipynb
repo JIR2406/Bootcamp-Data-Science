{
 "cells": [
  {
   "metadata": {},
   "cell_type": "markdown",
   "source": "> La validación de datos es un primer paso importante en EDA",
   "id": "c782bff4c239084"
  },
  {
   "metadata": {},
   "cell_type": "markdown",
   "source": "Podemos utilizar el atributo DataFrame.dtypes si solo nos interesan los tipos de datos de las columnas.",
   "id": "7d2fcc7290ebd2da"
  },
  {
   "metadata": {
    "ExecuteTime": {
     "end_time": "2025-08-28T22:13:42.456352Z",
     "start_time": "2025-08-28T22:13:42.091115Z"
    }
   },
   "cell_type": "code",
   "source": [
    "import pandas as pd\n",
    "from matplotlib.pyplot import errorbar\n",
    "\n",
    "books = pd.read_csv('../../data/Books.csv')\n",
    "books.dtypes"
   ],
   "id": "60ca18ab70462a00",
   "outputs": [
    {
     "data": {
      "text/plain": [
       "title             object\n",
       "author            object\n",
       "pages             object\n",
       "genre             object\n",
       "description       object\n",
       "published_date    object\n",
       "publisher         object\n",
       "language          object\n",
       "average_rating    object\n",
       "ratings_count      int64\n",
       "thumbnail         object\n",
       "dtype: object"
      ]
     },
     "execution_count": 1,
     "metadata": {},
     "output_type": "execute_result"
    }
   ],
   "execution_count": 1
  },
  {
   "metadata": {},
   "cell_type": "markdown",
   "source": [
    "# Updating data types\n",
    "Podemos utilizar el método DataFrame.astype() para convertir una columna a un tipo de datos diferente\n",
    "| Tipo pandas      | Descripción                   | Ejemplo           |\n",
    "|------------------|------------------------------|-------------------|\n",
    "| int64            | Entero de 64 bits             | 1, 42, -7         |\n",
    "| float64          | Decimal de 64 bits            | 3.14, -0.001      |\n",
    "| bool             | Booleano                      | True, False       |\n",
    "| object           | Cadena de texto (string)      | \"libro\", \"abc\"    |\n",
    "| category         | Categórico                    | \"A\", \"B\", \"C\"     |\n",
    "| datetime64[ns]   | Fecha y hora                  | 2024-06-01        |\n",
    "| timedelta64[ns]  | Diferencia de tiempo          | 2 days, 5 hours   |\n",
    "| Int64            | Entero de 64 bits (nullable)  | 1, <NA>           |\n",
    "| Float64          | Decimal de 64 bits (nullable) | 3.14, <NA>        |\n",
    "| string           | Cadena de texto (nullable)    | \"texto\", <NA>     |"
   ],
   "id": "5ae1bdde5467305b"
  },
  {
   "metadata": {
    "ExecuteTime": {
     "end_time": "2025-08-28T22:15:57.388627Z",
     "start_time": "2025-08-28T22:15:57.380233Z"
    }
   },
   "cell_type": "code",
   "source": [
    "books = books[books['pages'] != 'Unknown']\n",
    "books['pages'] = books['pages'].astype('Int64')\n",
    "books.dtypes"
   ],
   "id": "64f296da90dfd5e",
   "outputs": [
    {
     "data": {
      "text/plain": [
       "title             object\n",
       "author            object\n",
       "pages              Int64\n",
       "genre             object\n",
       "description       object\n",
       "published_date    object\n",
       "publisher         object\n",
       "language          object\n",
       "average_rating    object\n",
       "ratings_count      int64\n",
       "thumbnail         object\n",
       "dtype: object"
      ]
     },
     "execution_count": 7,
     "metadata": {},
     "output_type": "execute_result"
    }
   ],
   "execution_count": 7
  },
  {
   "metadata": {},
   "cell_type": "markdown",
   "source": "Podemos validar datos categóricos comparando valores de una columna con una lista de valores permitidos.",
   "id": "b6bf0f2d6b937e13"
  },
  {
   "metadata": {
    "ExecuteTime": {
     "end_time": "2025-08-28T22:21:32.551263Z",
     "start_time": "2025-08-28T22:21:32.546220Z"
    }
   },
   "cell_type": "code",
   "source": [
    "books = books[books['genre'].isin(['Fiction','Biography'])]\n",
    "books['genre'].value_counts()"
   ],
   "id": "f8ed7a5314824fb",
   "outputs": [
    {
     "data": {
      "text/plain": [
       "genre\n",
       "Fiction      242\n",
       "Biography      3\n",
       "Name: count, dtype: int64"
      ]
     },
     "execution_count": 14,
     "metadata": {},
     "output_type": "execute_result"
    }
   ],
   "execution_count": 14
  },
  {
   "metadata": {},
   "cell_type": "markdown",
   "source": "Podemos seleccionar y ver solo las columnas numéricas en un DataFrame llamando al metodo select dtypes.",
   "id": "7659b87e0797268"
  },
  {
   "metadata": {
    "ExecuteTime": {
     "end_time": "2025-08-28T22:23:05.683662Z",
     "start_time": "2025-08-28T22:23:05.676540Z"
    }
   },
   "cell_type": "code",
   "source": "books.select_dtypes(include='number').head()",
   "id": "d115def65bd1f984",
   "outputs": [
    {
     "data": {
      "text/plain": [
       "    pages  ratings_count\n",
       "4     248              0\n",
       "27    526              0\n",
       "86   2131              0\n",
       "95    222              0\n",
       "97    490              0"
      ],
      "text/html": [
       "<div>\n",
       "<style scoped>\n",
       "    .dataframe tbody tr th:only-of-type {\n",
       "        vertical-align: middle;\n",
       "    }\n",
       "\n",
       "    .dataframe tbody tr th {\n",
       "        vertical-align: top;\n",
       "    }\n",
       "\n",
       "    .dataframe thead th {\n",
       "        text-align: right;\n",
       "    }\n",
       "</style>\n",
       "<table border=\"1\" class=\"dataframe\">\n",
       "  <thead>\n",
       "    <tr style=\"text-align: right;\">\n",
       "      <th></th>\n",
       "      <th>pages</th>\n",
       "      <th>ratings_count</th>\n",
       "    </tr>\n",
       "  </thead>\n",
       "  <tbody>\n",
       "    <tr>\n",
       "      <th>4</th>\n",
       "      <td>248</td>\n",
       "      <td>0</td>\n",
       "    </tr>\n",
       "    <tr>\n",
       "      <th>27</th>\n",
       "      <td>526</td>\n",
       "      <td>0</td>\n",
       "    </tr>\n",
       "    <tr>\n",
       "      <th>86</th>\n",
       "      <td>2131</td>\n",
       "      <td>0</td>\n",
       "    </tr>\n",
       "    <tr>\n",
       "      <th>95</th>\n",
       "      <td>222</td>\n",
       "      <td>0</td>\n",
       "    </tr>\n",
       "    <tr>\n",
       "      <th>97</th>\n",
       "      <td>490</td>\n",
       "      <td>0</td>\n",
       "    </tr>\n",
       "  </tbody>\n",
       "</table>\n",
       "</div>"
      ]
     },
     "execution_count": 15,
     "metadata": {},
     "output_type": "execute_result"
    }
   ],
   "execution_count": 15
  },
  {
   "metadata": {},
   "cell_type": "markdown",
   "source": "Podemos sacar maximos y minimos de columnas numéricas usando los métodos DataFrame.max() y DataFrame.min().",
   "id": "3200b4d26eaf7920"
  },
  {
   "metadata": {
    "ExecuteTime": {
     "end_time": "2025-08-28T22:24:15.681794Z",
     "start_time": "2025-08-28T22:24:15.677515Z"
    }
   },
   "cell_type": "code",
   "source": "books['pages'].max()",
   "id": "39d316dd35fffb3f",
   "outputs": [
    {
     "data": {
      "text/plain": [
       "np.int64(8114)"
      ]
     },
     "execution_count": 16,
     "metadata": {},
     "output_type": "execute_result"
    }
   ],
   "execution_count": 16
  },
  {
   "metadata": {
    "ExecuteTime": {
     "end_time": "2025-08-28T22:24:17.166840Z",
     "start_time": "2025-08-28T22:24:17.162622Z"
    }
   },
   "cell_type": "code",
   "source": "books['pages'].min()",
   "id": "39d4d15fbbb31f45",
   "outputs": [
    {
     "data": {
      "text/plain": [
       "np.int64(8)"
      ]
     },
     "execution_count": 17,
     "metadata": {},
     "output_type": "execute_result"
    }
   ],
   "execution_count": 17
  },
  {
   "metadata": {},
   "cell_type": "markdown",
   "source": "Podemos ver una imagen más detallada de la distribución de los datos del año utilizando la función de diagrama de cajas de Seaborn.",
   "id": "8e6f81cfab45c8be"
  },
  {
   "metadata": {
    "ExecuteTime": {
     "end_time": "2025-08-28T22:28:24.526841Z",
     "start_time": "2025-08-28T22:28:24.444624Z"
    }
   },
   "cell_type": "code",
   "source": [
    "import seaborn as sns\n",
    "import matplotlib.pyplot as plt\n",
    "sns.boxplot(x='pages',\n",
    "            data=books,\n",
    "            showfliers=False,\n",
    "            y = 'genre',\n",
    "            hue = 'genre')\n",
    "plt.show()"
   ],
   "id": "3238c3e7fc64bd13",
   "outputs": [
    {
     "data": {
      "text/plain": [
       "<Figure size 640x480 with 1 Axes>"
      ],
      "image/png": "[encoded data removed]"
     },
     "metadata": {},
     "output_type": "display_data"
    }
   ],
   "execution_count": 26
  },
  {
   "metadata": {},
   "cell_type": "markdown",
   "source": "El operador `~` en pandas se utiliza para negar una condición booleana. Por ejemplo, si tienes un filtro y quieres seleccionar los valores que no cumplen la condición, puedes usar `~` delante de la expresión.",
   "id": "3bb8734bfbd081d4"
  }
 ],
 "metadata": {
  "kernelspec": {
   "display_name": "Python 3",
   "language": "python",
   "name": "python3"
  },
  "language_info": {
   "codemirror_mode": {
    "name": "ipython",
    "version": 2
   },
   "file_extension": ".py",
   "mimetype": "text/x-python",
   "name": "python",
   "nbconvert_exporter": "python",
   "pygments_lexer": "ipython2",
   "version": "2.7.6"
  }
 },
 "nbformat": 4,
 "nbformat_minor": 5
}
