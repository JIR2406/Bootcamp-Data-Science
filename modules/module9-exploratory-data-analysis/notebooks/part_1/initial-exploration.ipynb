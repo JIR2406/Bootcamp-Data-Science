{
 "cells": [
  {
   "metadata": {},
   "cell_type": "markdown",
   "source": [
    "Digamos que tenemos un nuevo conjunto de datos sobre libros.\n",
    "El analisis exploratorio de datos o (EDA) por sus siglas en ingles, es el proceso de limpieza y revisión de datos para obtener información como estadisticas descriptivas y correlaciones entre variables ademas de generar hipótesis para experimentos."
   ],
   "id": "34305acb485764af"
  },
  {
   "metadata": {
    "ExecuteTime": {
     "end_time": "2025-08-28T21:54:36.390030Z",
     "start_time": "2025-08-28T21:54:35.558635Z"
    }
   },
   "cell_type": "code",
   "source": [
    "import pandas as pd\n",
    "books = pd.read_csv('../../data/Books.csv')\n",
    "books.info()"
   ],
   "id": "1a5face19ae50c65",
   "outputs": [
    {
     "name": "stdout",
     "output_type": "stream",
     "text": [
      "<class 'pandas.core.frame.DataFrame'>\n",
      "RangeIndex: 2049 entries, 0 to 2048\n",
      "Data columns (total 11 columns):\n",
      " #   Column          Non-Null Count  Dtype \n",
      "---  ------          --------------  ----- \n",
      " 0   title           2049 non-null   object\n",
      " 1   author          2049 non-null   object\n",
      " 2   pages           2049 non-null   object\n",
      " 3   genre           2049 non-null   object\n",
      " 4   description     2049 non-null   object\n",
      " 5   published_date  2049 non-null   object\n",
      " 6   publisher       2049 non-null   object\n",
      " 7   language        2049 non-null   object\n",
      " 8   average_rating  2049 non-null   object\n",
      " 9   ratings_count   2049 non-null   int64 \n",
      " 10  thumbnail       2049 non-null   object\n",
      "dtypes: int64(1), object(10)\n",
      "memory usage: 176.2+ KB\n"
     ]
    }
   ],
   "execution_count": 2
  },
  {
   "metadata": {},
   "cell_type": "markdown",
   "source": "Una pregunta común sobre las columnas categóricas en un conjunto de datos es cuántos puntos de datos tenemos en cada categoría.",
   "id": "8d71d51460ecd7fc"
  },
  {
   "metadata": {
    "ExecuteTime": {
     "end_time": "2025-08-28T21:54:36.451544Z",
     "start_time": "2025-08-28T21:54:36.442541Z"
    }
   },
   "cell_type": "code",
   "source": "books.value_counts('genre')",
   "id": "c31ee4de4a87921f",
   "outputs": [
    {
     "data": {
      "text/plain": [
       "genre\n",
       "Unknown Genre         246\n",
       "Fiction               242\n",
       "Literary Criticism    173\n",
       "Education             101\n",
       "Social Science         62\n",
       "                     ... \n",
       "Agroforestry            1\n",
       "Statistics              1\n",
       "Airplanes               1\n",
       "Streets                 1\n",
       "Admiralty               1\n",
       "Name: count, Length: 262, dtype: int64"
      ]
     },
     "execution_count": 3,
     "metadata": {},
     "output_type": "execute_result"
    }
   ],
   "execution_count": 3
  },
  {
   "metadata": {},
   "cell_type": "markdown",
   "source": "Al llamar a .describe() en los libros, vemos que devuelve el recuento, la media y la desviación estándar de los libros, valores en cada columna numerica, junto con los valores mínimo, máximo y los percentiles.",
   "id": "4a3a4b9f33adfb44"
  },
  {
   "metadata": {
    "ExecuteTime": {
     "end_time": "2025-08-28T21:54:36.670421Z",
     "start_time": "2025-08-28T21:54:36.656563Z"
    }
   },
   "cell_type": "code",
   "source": "books.describe()",
   "id": "6dbb1cc04221fc63",
   "outputs": [
    {
     "data": {
      "text/plain": [
       "        ratings_count\n",
       "count     2049.000000\n",
       "mean      3704.258663\n",
       "std      40015.992383\n",
       "min          0.000000\n",
       "25%          0.000000\n",
       "50%          0.000000\n",
       "75%          0.000000\n",
       "max    1000000.000000"
      ],
      "text/html": [
       "<div>\n",
       "<style scoped>\n",
       "    .dataframe tbody tr th:only-of-type {\n",
       "        vertical-align: middle;\n",
       "    }\n",
       "\n",
       "    .dataframe tbody tr th {\n",
       "        vertical-align: top;\n",
       "    }\n",
       "\n",
       "    .dataframe thead th {\n",
       "        text-align: right;\n",
       "    }\n",
       "</style>\n",
       "<table border=\"1\" class=\"dataframe\">\n",
       "  <thead>\n",
       "    <tr style=\"text-align: right;\">\n",
       "      <th></th>\n",
       "      <th>ratings_count</th>\n",
       "    </tr>\n",
       "  </thead>\n",
       "  <tbody>\n",
       "    <tr>\n",
       "      <th>count</th>\n",
       "      <td>2049.000000</td>\n",
       "    </tr>\n",
       "    <tr>\n",
       "      <th>mean</th>\n",
       "      <td>3704.258663</td>\n",
       "    </tr>\n",
       "    <tr>\n",
       "      <th>std</th>\n",
       "      <td>40015.992383</td>\n",
       "    </tr>\n",
       "    <tr>\n",
       "      <th>min</th>\n",
       "      <td>0.000000</td>\n",
       "    </tr>\n",
       "    <tr>\n",
       "      <th>25%</th>\n",
       "      <td>0.000000</td>\n",
       "    </tr>\n",
       "    <tr>\n",
       "      <th>50%</th>\n",
       "      <td>0.000000</td>\n",
       "    </tr>\n",
       "    <tr>\n",
       "      <th>75%</th>\n",
       "      <td>0.000000</td>\n",
       "    </tr>\n",
       "    <tr>\n",
       "      <th>max</th>\n",
       "      <td>1000000.000000</td>\n",
       "    </tr>\n",
       "  </tbody>\n",
       "</table>\n",
       "</div>"
      ]
     },
     "execution_count": 4,
     "metadata": {},
     "output_type": "execute_result"
    }
   ],
   "execution_count": 4
  },
  {
   "metadata": {
    "ExecuteTime": {
     "end_time": "2025-08-28T22:02:32.827114Z",
     "start_time": "2025-08-28T22:02:32.753160Z"
    }
   },
   "cell_type": "code",
   "source": [
    "import seaborn as sns\n",
    "import matplotlib.pyplot as plt\n",
    "books = books[books['average_rating'] != 'No rating']\n",
    "sns.histplot(data=books, x='average_rating',binwidth=.4)\n",
    "plt.show()"
   ],
   "id": "c6e5f15f26690682",
   "outputs": [
    {
     "data": {
      "text/plain": [
       "<Figure size 640x480 with 1 Axes>"
      ],
      "image/png": "[encoded data removed]"
     },
     "metadata": {},
     "output_type": "display_data"
    }
   ],
   "execution_count": 21
  }
 ],
 "metadata": {
  "kernelspec": {
   "display_name": "Python 3",
   "language": "python",
   "name": "python3"
  },
  "language_info": {
   "codemirror_mode": {
    "name": "ipython",
    "version": 2
   },
   "file_extension": ".py",
   "mimetype": "text/x-python",
   "name": "python",
   "nbconvert_exporter": "python",
   "pygments_lexer": "ipython2",
   "version": "2.7.6"
  }
 },
 "nbformat": 4,
 "nbformat_minor": 5
}
