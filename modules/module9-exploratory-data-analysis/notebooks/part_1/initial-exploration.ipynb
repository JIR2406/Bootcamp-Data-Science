{
 "cells": [
  {
   "metadata": {},
   "cell_type": "markdown",
   "source": [
    "Digamos que tenemos un nuevo conjunto de datos sobre libros.\n",
    "El analisis exploratorio de datos o (EDA) por sus siglas en ingles, es el proceso de limpieza y revisión de datos para obtener información como estadisticas descriptivas y correlaciones entre variables ademas de generar hipótesis para experimentos."
   ],
   "id": "34305acb485764af"
  },
  {
   "metadata": {},
   "cell_type": "code",
   "outputs": [],
   "execution_count": null,
   "source": [
    "import pandas as pd\n",
    "books = pd.read_csv('../../data/')"
   ],
   "id": "1a5face19ae50c65"
  }
 ],
 "metadata": {
  "kernelspec": {
   "display_name": "Python 3",
   "language": "python",
   "name": "python3"
  },
  "language_info": {
   "codemirror_mode": {
    "name": "ipython",
    "version": 2
   },
   "file_extension": ".py",
   "mimetype": "text/x-python",
   "name": "python",
   "nbconvert_exporter": "python",
   "pygments_lexer": "ipython2",
   "version": "2.7.6"
  }
 },
 "nbformat": 4,
 "nbformat_minor": 5
}
