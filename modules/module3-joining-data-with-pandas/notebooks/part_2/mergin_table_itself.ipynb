{
 "cells": [
  {
   "metadata": {},
   "cell_type": "markdown",
   "source": [
    "### Fusión con la misma tabla (Autounión)\n",
    "\n",
    "En este Notebook vamos a explorar cómo realizar una fusión de una tabla consigo misma, también conocida como **autounión**.\n",
    "\n",
    "Por ejemplo, en la tabla de la izquierda, el ID de la secuela de Toy Story es `863`, que coincide con el valor `863` en la columna de ID de la tabla de la derecha.\n",
    "Para completar esta fusión, utilizamos la tabla de secuelas como entrada para el método `merge` tanto en la tabla izquierda como en la derecha.\n",
    "\n",
    "```python\n",
    "original_sequels = sequels.merge(\n",
    "    sequels,\n",
    "    left_on='sequel',\n",
    "    right_on='id',\n",
    "    suffixes=('_org', '_seq')\n",
    ")\n",
    "```\n",
    "\n",
    "![Fusión de la tabla consigo misma](../../resource/merging_table_itself.png)"
   ],
   "id": "b1bd35c5344a8e8e"
  }
 ],
 "metadata": {
  "kernelspec": {
   "display_name": "Python 3",
   "language": "python",
   "name": "python3"
  },
  "language_info": {
   "codemirror_mode": {
    "name": "ipython",
    "version": 2
   },
   "file_extension": ".py",
   "mimetype": "text/x-python",
   "name": "python",
   "nbconvert_exporter": "python",
   "pygments_lexer": "ipython2",
   "version": "2.7.6"
  }
 },
 "nbformat": 4,
 "nbformat_minor": 5
}
