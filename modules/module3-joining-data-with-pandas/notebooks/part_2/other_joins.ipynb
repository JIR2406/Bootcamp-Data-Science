{
 "cells": [
  {
   "metadata": {},
   "cell_type": "markdown",
   "source": [
    "El método `merge` admite otros dos tipos de unión: el \"right join\" (unión por la derecha) y el \"outer join\" (unión completa).\n",
    "\n",
    "### Right Join (`right join`)\n",
    "El right join devuelve únicamente aquellas filas de la **tabla izquierda** que tienen valores coincidentes en la **tabla derecha**. Es el opuesto de la unión izquierda (`left join`).\n",
    "\n",
    "![Right Join](../../resource/right_join.png)"
   ],
   "id": "5704341b8d426d33"
  },
  {
   "metadata": {
    "ExecuteTime": {
     "end_time": "2025-07-24T19:23:08.161308Z",
     "start_time": "2025-07-24T19:23:08.144777Z"
    }
   },
   "cell_type": "code",
   "source": [
    "import pandas as pd\n",
    "\n",
    "cli = pd.read_csv('../../data/clientes.csv')\n",
    "print(cli.columns)\n",
    "\n",
    "ped = pd.read_csv('../../data/pedidos.csv')\n",
    "print(ped.columns)\n",
    "\n",
    "cli_ped_right = cli.merge(ped, how='right', on='id_cliente')\n",
    "cli_ped_right.loc[:,:'fecha']"
   ],
   "id": "b8fd8faa4e0419c1",
   "outputs": [
    {
     "name": "stdout",
     "output_type": "stream",
     "text": [
      "Index(['id_cliente', 'nombre', 'correo'], dtype='object')\n",
      "Index(['id_pedido', 'fecha', 'total', 'id_cliente'], dtype='object')\n"
     ]
    },
    {
     "data": {
      "text/plain": [
       "   id_cliente       nombre                 correo  id_pedido       fecha\n",
       "0           1    Ana Pérez    ana.perez@email.com        101  2024-06-01\n",
       "1           1    Ana Pérez    ana.perez@email.com        102  2024-06-03\n",
       "2           2   Juan López   juan.lopez@email.com        103  2024-06-05\n",
       "3           3  María Gómez  maria.gomez@email.com        104  2024-06-10\n",
       "4           1    Ana Pérez    ana.perez@email.com        105  2024-06-11"
      ],
      "text/html": [
       "<div>\n",
       "<style scoped>\n",
       "    .dataframe tbody tr th:only-of-type {\n",
       "        vertical-align: middle;\n",
       "    }\n",
       "\n",
       "    .dataframe tbody tr th {\n",
       "        vertical-align: top;\n",
       "    }\n",
       "\n",
       "    .dataframe thead th {\n",
       "        text-align: right;\n",
       "    }\n",
       "</style>\n",
       "<table border=\"1\" class=\"dataframe\">\n",
       "  <thead>\n",
       "    <tr style=\"text-align: right;\">\n",
       "      <th></th>\n",
       "      <th>id_cliente</th>\n",
       "      <th>nombre</th>\n",
       "      <th>correo</th>\n",
       "      <th>id_pedido</th>\n",
       "      <th>fecha</th>\n",
       "    </tr>\n",
       "  </thead>\n",
       "  <tbody>\n",
       "    <tr>\n",
       "      <th>0</th>\n",
       "      <td>1</td>\n",
       "      <td>Ana Pérez</td>\n",
       "      <td>ana.perez@email.com</td>\n",
       "      <td>101</td>\n",
       "      <td>2024-06-01</td>\n",
       "    </tr>\n",
       "    <tr>\n",
       "      <th>1</th>\n",
       "      <td>1</td>\n",
       "      <td>Ana Pérez</td>\n",
       "      <td>ana.perez@email.com</td>\n",
       "      <td>102</td>\n",
       "      <td>2024-06-03</td>\n",
       "    </tr>\n",
       "    <tr>\n",
       "      <th>2</th>\n",
       "      <td>2</td>\n",
       "      <td>Juan López</td>\n",
       "      <td>juan.lopez@email.com</td>\n",
       "      <td>103</td>\n",
       "      <td>2024-06-05</td>\n",
       "    </tr>\n",
       "    <tr>\n",
       "      <th>3</th>\n",
       "      <td>3</td>\n",
       "      <td>María Gómez</td>\n",
       "      <td>maria.gomez@email.com</td>\n",
       "      <td>104</td>\n",
       "      <td>2024-06-10</td>\n",
       "    </tr>\n",
       "    <tr>\n",
       "      <th>4</th>\n",
       "      <td>1</td>\n",
       "      <td>Ana Pérez</td>\n",
       "      <td>ana.perez@email.com</td>\n",
       "      <td>105</td>\n",
       "      <td>2024-06-11</td>\n",
       "    </tr>\n",
       "  </tbody>\n",
       "</table>\n",
       "</div>"
      ]
     },
     "execution_count": 11,
     "metadata": {},
     "output_type": "execute_result"
    }
   ],
   "execution_count": 11
  },
  {
   "metadata": {},
   "cell_type": "markdown",
   "source": [
    "### Outer Join (`outer join`)\n",
    "\n",
    "El último tipo de unión se llama **unión externa**.\n",
    "Una unión externa devuelve todas las filas de ambas tablas, independientemente de si existe coincidencia entre ellas.\n",
    "\n",
    "![Outer Join](../../resource/outer_join.png)"
   ],
   "id": "a6532e5e13887e8a"
  }
 ],
 "metadata": {
  "kernelspec": {
   "display_name": "Python 3",
   "language": "python",
   "name": "python3"
  },
  "language_info": {
   "codemirror_mode": {
    "name": "ipython",
    "version": 2
   },
   "file_extension": ".py",
   "mimetype": "text/x-python",
   "name": "python",
   "nbconvert_exporter": "python",
   "pygments_lexer": "ipython2",
   "version": "2.7.6"
  }
 },
 "nbformat": 4,
 "nbformat_minor": 5
}
