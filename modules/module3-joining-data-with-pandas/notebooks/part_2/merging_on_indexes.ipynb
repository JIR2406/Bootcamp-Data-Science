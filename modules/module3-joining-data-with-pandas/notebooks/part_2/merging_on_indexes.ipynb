{
 "cells": [
  {
   "metadata": {},
   "cell_type": "markdown",
   "source": [
    "## Fusión utilizando índices\n",
    "\n",
    "Hasta este momento, solo hemos fusionado dos tablas usando sus columnas.\n",
    "\n",
    "En este Notebook analizaremos cómo fusionar tablas utilizando sus **índices**.\n",
    "\n",
    "A los índices de un DataFrame se les asigna una identificación única, la cual podemos utilizar al fusionar dos tablas."
   ],
   "id": "79766c89247c7b0c"
  },
  {
   "metadata": {
    "ExecuteTime": {
     "end_time": "2025-07-24T21:17:30.325973Z",
     "start_time": "2025-07-24T21:17:30.307449Z"
    }
   },
   "cell_type": "code",
   "source": [
    "import pandas as pd\n",
    "\n",
    "cli = pd.read_csv('../../data/clientes.csv', index_col='id_cliente')\n",
    "# print(cli)\n",
    "\n",
    "ped = pd.read_csv('../../data/pedidos.csv')\n",
    "# print(ped)\n",
    "\n",
    "cli_ped = cli.merge(ped,on='id_cliente',how ='left')\n",
    "cli_ped.head()"
   ],
   "id": "7a57bfd8a6fa5f76",
   "outputs": [
    {
     "data": {
      "text/plain": [
       "   id_cliente       nombre                 correo  id_pedido       fecha  \\\n",
       "0           1    Ana Pérez    ana.perez@email.com        101  2024-06-01   \n",
       "1           1    Ana Pérez    ana.perez@email.com        102  2024-06-03   \n",
       "2           1    Ana Pérez    ana.perez@email.com        105  2024-06-11   \n",
       "3           2   Juan López   juan.lopez@email.com        103  2024-06-05   \n",
       "4           3  María Gómez  maria.gomez@email.com        104  2024-06-10   \n",
       "\n",
       "   total  \n",
       "0  150.0  \n",
       "1  200.0  \n",
       "2  120.0  \n",
       "3   75.5  \n",
       "4  320.0  "
      ],
      "text/html": [
       "<div>\n",
       "<style scoped>\n",
       "    .dataframe tbody tr th:only-of-type {\n",
       "        vertical-align: middle;\n",
       "    }\n",
       "\n",
       "    .dataframe tbody tr th {\n",
       "        vertical-align: top;\n",
       "    }\n",
       "\n",
       "    .dataframe thead th {\n",
       "        text-align: right;\n",
       "    }\n",
       "</style>\n",
       "<table border=\"1\" class=\"dataframe\">\n",
       "  <thead>\n",
       "    <tr style=\"text-align: right;\">\n",
       "      <th></th>\n",
       "      <th>id_cliente</th>\n",
       "      <th>nombre</th>\n",
       "      <th>correo</th>\n",
       "      <th>id_pedido</th>\n",
       "      <th>fecha</th>\n",
       "      <th>total</th>\n",
       "    </tr>\n",
       "  </thead>\n",
       "  <tbody>\n",
       "    <tr>\n",
       "      <th>0</th>\n",
       "      <td>1</td>\n",
       "      <td>Ana Pérez</td>\n",
       "      <td>ana.perez@email.com</td>\n",
       "      <td>101</td>\n",
       "      <td>2024-06-01</td>\n",
       "      <td>150.0</td>\n",
       "    </tr>\n",
       "    <tr>\n",
       "      <th>1</th>\n",
       "      <td>1</td>\n",
       "      <td>Ana Pérez</td>\n",
       "      <td>ana.perez@email.com</td>\n",
       "      <td>102</td>\n",
       "      <td>2024-06-03</td>\n",
       "      <td>200.0</td>\n",
       "    </tr>\n",
       "    <tr>\n",
       "      <th>2</th>\n",
       "      <td>1</td>\n",
       "      <td>Ana Pérez</td>\n",
       "      <td>ana.perez@email.com</td>\n",
       "      <td>105</td>\n",
       "      <td>2024-06-11</td>\n",
       "      <td>120.0</td>\n",
       "    </tr>\n",
       "    <tr>\n",
       "      <th>3</th>\n",
       "      <td>2</td>\n",
       "      <td>Juan López</td>\n",
       "      <td>juan.lopez@email.com</td>\n",
       "      <td>103</td>\n",
       "      <td>2024-06-05</td>\n",
       "      <td>75.5</td>\n",
       "    </tr>\n",
       "    <tr>\n",
       "      <th>4</th>\n",
       "      <td>3</td>\n",
       "      <td>María Gómez</td>\n",
       "      <td>maria.gomez@email.com</td>\n",
       "      <td>104</td>\n",
       "      <td>2024-06-10</td>\n",
       "      <td>320.0</td>\n",
       "    </tr>\n",
       "  </tbody>\n",
       "</table>\n",
       "</div>"
      ]
     },
     "execution_count": 8,
     "metadata": {},
     "output_type": "execute_result"
    }
   ],
   "execution_count": 8
  }
 ],
 "metadata": {
  "kernelspec": {
   "display_name": "Python 3",
   "language": "python",
   "name": "python3"
  },
  "language_info": {
   "codemirror_mode": {
    "name": "ipython",
    "version": 2
   },
   "file_extension": ".py",
   "mimetype": "text/x-python",
   "name": "python",
   "nbconvert_exporter": "python",
   "pygments_lexer": "ipython2",
   "version": "2.7.6"
  }
 },
 "nbformat": 4,
 "nbformat_minor": 5
}
