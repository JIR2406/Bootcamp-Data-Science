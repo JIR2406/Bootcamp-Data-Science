{
 "cells": [
  {
   "metadata": {},
   "cell_type": "markdown",
   "source": [
    "# ¿Cómo funciona una unión izquierda en pandas?\n",
    "\n",
    "En esta lección analizaremos cómo funciona una **unión izquierda** (*left join*), que es otra forma de fusionar dos tablas en pandas.\n",
    "\n",
    "En el capítulo 1 presentamos el método de **fusión** (`merge`) de pandas, que nos permite combinar dos tablas especificando una o más columnas clave para vincularlas.\n",
    "De forma predeterminada, el método de combinación realiza una **unión interna** (*inner join*) y devuelve solo las filas cuyos valores coinciden en las columnas clave de ambas tablas.\n",
    "\n",
    "![Ejemplo de inner join](../../resource/inner_join.png)\n",
    "\n",
    "---\n",
    "\n",
    "En esta lección nos enfocaremos en la idea de una **unión izquierda** (*left join*).\n",
    "Con este tipo de unión, se devuelven **todas** las filas de la tabla izquierda y solo aquellas filas de la tabla derecha donde hay coincidencia en las columnas clave. Si no hay coincidencia, los valores de la tabla derecha aparecerán como `NaN`.\n",
    "\n",
    "![Ejemplo de left join](../../resource/left_join.png)"
   ],
   "id": "dd19f9785a66ac6b"
  },
  {
   "metadata": {
    "ExecuteTime": {
     "end_time": "2025-07-24T18:26:59.372363Z",
     "start_time": "2025-07-24T18:26:59.350314Z"
    }
   },
   "cell_type": "code",
   "source": [
    "import pandas as pd\n",
    "\n",
    "cli = pd.read_csv(\"../../data/clientes.csv\")\n",
    "print(cli.columns)\n",
    "\n",
    "ped = pd.read_csv(\"../../data/pedidos.csv\")\n",
    "print(ped.columns)\n",
    "\n",
    "\n",
    "cli_ped = cli.merge(ped,on='id_cliente',how='left')\n",
    "cli_ped\n"
   ],
   "id": "c210d715824b7477",
   "outputs": [
    {
     "name": "stdout",
     "output_type": "stream",
     "text": [
      "Index(['id_cliente', 'nombre', 'correo'], dtype='object')\n",
      "Index(['id_pedido', 'fecha', 'total', 'id_cliente'], dtype='object')\n"
     ]
    },
    {
     "data": {
      "text/plain": [
       "   id_cliente       nombre                 correo  id_pedido       fecha  \\\n",
       "0           1    Ana Pérez    ana.perez@email.com        101  2024-06-01   \n",
       "1           1    Ana Pérez    ana.perez@email.com        102  2024-06-03   \n",
       "2           1    Ana Pérez    ana.perez@email.com        105  2024-06-11   \n",
       "3           2   Juan López   juan.lopez@email.com        103  2024-06-05   \n",
       "4           3  María Gómez  maria.gomez@email.com        104  2024-06-10   \n",
       "\n",
       "   total  \n",
       "0  150.0  \n",
       "1  200.0  \n",
       "2  120.0  \n",
       "3   75.5  \n",
       "4  320.0  "
      ],
      "text/html": [
       "<div>\n",
       "<style scoped>\n",
       "    .dataframe tbody tr th:only-of-type {\n",
       "        vertical-align: middle;\n",
       "    }\n",
       "\n",
       "    .dataframe tbody tr th {\n",
       "        vertical-align: top;\n",
       "    }\n",
       "\n",
       "    .dataframe thead th {\n",
       "        text-align: right;\n",
       "    }\n",
       "</style>\n",
       "<table border=\"1\" class=\"dataframe\">\n",
       "  <thead>\n",
       "    <tr style=\"text-align: right;\">\n",
       "      <th></th>\n",
       "      <th>id_cliente</th>\n",
       "      <th>nombre</th>\n",
       "      <th>correo</th>\n",
       "      <th>id_pedido</th>\n",
       "      <th>fecha</th>\n",
       "      <th>total</th>\n",
       "    </tr>\n",
       "  </thead>\n",
       "  <tbody>\n",
       "    <tr>\n",
       "      <th>0</th>\n",
       "      <td>1</td>\n",
       "      <td>Ana Pérez</td>\n",
       "      <td>ana.perez@email.com</td>\n",
       "      <td>101</td>\n",
       "      <td>2024-06-01</td>\n",
       "      <td>150.0</td>\n",
       "    </tr>\n",
       "    <tr>\n",
       "      <th>1</th>\n",
       "      <td>1</td>\n",
       "      <td>Ana Pérez</td>\n",
       "      <td>ana.perez@email.com</td>\n",
       "      <td>102</td>\n",
       "      <td>2024-06-03</td>\n",
       "      <td>200.0</td>\n",
       "    </tr>\n",
       "    <tr>\n",
       "      <th>2</th>\n",
       "      <td>1</td>\n",
       "      <td>Ana Pérez</td>\n",
       "      <td>ana.perez@email.com</td>\n",
       "      <td>105</td>\n",
       "      <td>2024-06-11</td>\n",
       "      <td>120.0</td>\n",
       "    </tr>\n",
       "    <tr>\n",
       "      <th>3</th>\n",
       "      <td>2</td>\n",
       "      <td>Juan López</td>\n",
       "      <td>juan.lopez@email.com</td>\n",
       "      <td>103</td>\n",
       "      <td>2024-06-05</td>\n",
       "      <td>75.5</td>\n",
       "    </tr>\n",
       "    <tr>\n",
       "      <th>4</th>\n",
       "      <td>3</td>\n",
       "      <td>María Gómez</td>\n",
       "      <td>maria.gomez@email.com</td>\n",
       "      <td>104</td>\n",
       "      <td>2024-06-10</td>\n",
       "      <td>320.0</td>\n",
       "    </tr>\n",
       "  </tbody>\n",
       "</table>\n",
       "</div>"
      ]
     },
     "execution_count": 5,
     "metadata": {},
     "output_type": "execute_result"
    }
   ],
   "execution_count": 5
  }
 ],
 "metadata": {
  "kernelspec": {
   "display_name": "Python 3",
   "language": "python",
   "name": "python3"
  },
  "language_info": {
   "codemirror_mode": {
    "name": "ipython",
    "version": 2
   },
   "file_extension": ".py",
   "mimetype": "text/x-python",
   "name": "python",
   "nbconvert_exporter": "python",
   "pygments_lexer": "ipython2",
   "version": "2.7.6"
  }
 },
 "nbformat": 4,
 "nbformat_minor": 5
}
