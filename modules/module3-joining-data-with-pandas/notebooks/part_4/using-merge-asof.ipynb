{
 "cells": [
  {
   "metadata": {},
   "cell_type": "markdown",
   "source": [
    "El metodo `merge_asof()` es similar a una union izquierda ordenada.\n",
    "Tiene caracteristicas similares a merge_ordered().\n",
    "Sin embargo a diferencia de una union izquierda ordenada, merge_asof() coincidira con las columnas de valores mas cercanos en lugar de con valores iguales.\n",
    "\n",
    "> Todas las columnas que fusiones deben estar ordenadas."
   ],
   "id": "98e30947dd860cb9"
  },
  {
   "metadata": {
    "ExecuteTime": {
     "end_time": "2025-07-25T03:34:31.559587Z",
     "start_time": "2025-07-25T03:34:31.550237Z"
    }
   },
   "cell_type": "code",
   "source": [
    "import pandas as pd\n",
    "\n",
    "cli = pd.read_csv('../../data/clientes.csv')\n",
    "ped = pd.read_csv('../../data/pedidos.csv')\n",
    "try:\n",
    "    cli_dep = pd.merge_asof(cli,ped,on='id_cliente')\n",
    "except ValueError as e:\n",
    "    print(f\"Error: {e}\")"
   ],
   "id": "f6519034d8d898f9",
   "outputs": [
    {
     "name": "stdout",
     "output_type": "stream",
     "text": [
      "Error: right keys must be sorted\n"
     ]
    }
   ],
   "execution_count": 20
  },
  {
   "metadata": {},
   "cell_type": "markdown",
   "source": [
    "En nuestro metodo merge_asof() enumeramos el argumento de direccion como 'forward' para que coincida con el valor mas cercano hacia adelante.\n",
    "\n",
    "```pythom\n",
    "cli_dep = pd.merge_asof(cli, ped, on='id_cliente', direction='forward')\n",
    "```"
   ],
   "id": "4781a981b6facfe8"
  }
 ],
 "metadata": {
  "kernelspec": {
   "display_name": "Python 3",
   "language": "python",
   "name": "python3"
  },
  "language_info": {
   "codemirror_mode": {
    "name": "ipython",
    "version": 2
   },
   "file_extension": ".py",
   "mimetype": "text/x-python",
   "name": "python",
   "nbconvert_exporter": "python",
   "pygments_lexer": "ipython2",
   "version": "2.7.6"
  }
 },
 "nbformat": 4,
 "nbformat_minor": 5
}
