{
 "cells": [
  {
   "metadata": {},
   "cell_type": "markdown",
   "source": "En este notebook vamos a ver el caso cuando necesitamos fusionar más de dos tablas para completar nuestro analysis.",
   "id": "ce403cd791aeebde"
  },
  {
   "metadata": {
    "ExecuteTime": {
     "end_time": "2025-07-23T20:33:05.371786Z",
     "start_time": "2025-07-23T20:33:05.360754Z"
    }
   },
   "cell_type": "code",
   "source": [
    "import pandas as pd\n",
    "\n",
    "cli = pd.read_csv('../../data/clientes.csv')\n",
    "print(cli.head(3))\n",
    "\n",
    "ped = pd.read_csv('../../data/pedidos.csv')\n",
    "print(ped.head(3))"
   ],
   "id": "2f45eee04ae1b050",
   "outputs": [
    {
     "name": "stdout",
     "output_type": "stream",
     "text": [
      "   id_cliente       nombre                 correo\n",
      "0           1    Ana Pérez    ana.perez@email.com\n",
      "1           2   Juan López   juan.lopez@email.com\n",
      "2           3  María Gómez  maria.gomez@email.com\n",
      "   id_pedido       fecha  total  id_cliente\n",
      "0        101  2024-06-01  150.0           1\n",
      "1        102  2024-06-03  200.0           1\n",
      "2        103  2024-06-05   75.5           2\n"
     ]
    }
   ],
   "execution_count": 3
  },
  {
   "metadata": {
    "ExecuteTime": {
     "end_time": "2025-07-23T20:33:44.977967Z",
     "start_time": "2025-07-23T20:33:44.969202Z"
    }
   },
   "cell_type": "code",
   "source": [
    "cli_ped = cli.merge(ped,on='id_cliente')\n",
    "print(cli_ped.head(3))"
   ],
   "id": "91164d98bd74d707",
   "outputs": [
    {
     "name": "stdout",
     "output_type": "stream",
     "text": [
      "   id_cliente     nombre               correo  id_pedido       fecha  total\n",
      "0           1  Ana Pérez  ana.perez@email.com        101  2024-06-01  150.0\n",
      "1           1  Ana Pérez  ana.perez@email.com        102  2024-06-03  200.0\n",
      "2           1  Ana Pérez  ana.perez@email.com        105  2024-06-11  120.0\n"
     ]
    }
   ],
   "execution_count": 5
  },
  {
   "metadata": {},
   "cell_type": "markdown",
   "source": [
    "Es posible hacer la conbinacion con más de dos columnas.\n",
    "```python\n",
    "grants.merge(licenses,on=['grant_id','license_id'])\n",
    "\n",
    "```\n",
    "Sin embargo, cuando fusionamos dos columnas, en este caso la direccion y el codigo postal.\n",
    "Ahora se puede fusionar con una tabla de subvenciones con la tabla de distritos."
   ],
   "id": "cdb469014a9f4493"
  },
  {
   "metadata": {
    "ExecuteTime": {
     "end_time": "2025-07-23T21:54:59.713799Z",
     "start_time": "2025-07-23T21:54:59.698338Z"
    }
   },
   "cell_type": "code",
   "source": [
    "print(ped.columns)\n",
    "det_ped = pd.read_csv('../../data/detalle_pedido.csv')\n",
    "print(det_ped.columns)\n",
    "prod = pd.read_csv('../../data/productos.csv')\n",
    "print(prod.columns)\n",
    "det_ped = ped.merge(det_ped, on='id_pedido').merge(prod,on='id_producto',suffixes=('_ped','_prod'))\n",
    "\n",
    "det_ped.head()\n"
   ],
   "id": "3487e50159cdbbd5",
   "outputs": [
    {
     "name": "stdout",
     "output_type": "stream",
     "text": [
      "Index(['id_pedido', 'fecha', 'total', 'id_cliente'], dtype='object')\n",
      "Index(['id_detalle', 'id_pedido', 'id_producto', 'cantidad'], dtype='object')\n",
      "Index(['id_producto', 'nombre', 'precio'], dtype='object')\n"
     ]
    },
    {
     "data": {
      "text/plain": [
       "   id_pedido       fecha  total  id_cliente  id_detalle  id_producto  \\\n",
       "0        101  2024-06-01  150.0           1        1001           10   \n",
       "1        101  2024-06-01  150.0           1        1002           11   \n",
       "2        102  2024-06-03  200.0           1        1003           12   \n",
       "3        103  2024-06-05   75.5           2        1004           13   \n",
       "4        104  2024-06-10  320.0           3        1005           10   \n",
       "\n",
       "   cantidad     nombre  precio  \n",
       "0         2    Teclado    25.0  \n",
       "1         1      Mouse    15.0  \n",
       "2         1    Monitor   200.0  \n",
       "3         1  Impresora   120.0  \n",
       "4         1    Teclado    25.0  "
      ],
      "text/html": [
       "<div>\n",
       "<style scoped>\n",
       "    .dataframe tbody tr th:only-of-type {\n",
       "        vertical-align: middle;\n",
       "    }\n",
       "\n",
       "    .dataframe tbody tr th {\n",
       "        vertical-align: top;\n",
       "    }\n",
       "\n",
       "    .dataframe thead th {\n",
       "        text-align: right;\n",
       "    }\n",
       "</style>\n",
       "<table border=\"1\" class=\"dataframe\">\n",
       "  <thead>\n",
       "    <tr style=\"text-align: right;\">\n",
       "      <th></th>\n",
       "      <th>id_pedido</th>\n",
       "      <th>fecha</th>\n",
       "      <th>total</th>\n",
       "      <th>id_cliente</th>\n",
       "      <th>id_detalle</th>\n",
       "      <th>id_producto</th>\n",
       "      <th>cantidad</th>\n",
       "      <th>nombre</th>\n",
       "      <th>precio</th>\n",
       "    </tr>\n",
       "  </thead>\n",
       "  <tbody>\n",
       "    <tr>\n",
       "      <th>0</th>\n",
       "      <td>101</td>\n",
       "      <td>2024-06-01</td>\n",
       "      <td>150.0</td>\n",
       "      <td>1</td>\n",
       "      <td>1001</td>\n",
       "      <td>10</td>\n",
       "      <td>2</td>\n",
       "      <td>Teclado</td>\n",
       "      <td>25.0</td>\n",
       "    </tr>\n",
       "    <tr>\n",
       "      <th>1</th>\n",
       "      <td>101</td>\n",
       "      <td>2024-06-01</td>\n",
       "      <td>150.0</td>\n",
       "      <td>1</td>\n",
       "      <td>1002</td>\n",
       "      <td>11</td>\n",
       "      <td>1</td>\n",
       "      <td>Mouse</td>\n",
       "      <td>15.0</td>\n",
       "    </tr>\n",
       "    <tr>\n",
       "      <th>2</th>\n",
       "      <td>102</td>\n",
       "      <td>2024-06-03</td>\n",
       "      <td>200.0</td>\n",
       "      <td>1</td>\n",
       "      <td>1003</td>\n",
       "      <td>12</td>\n",
       "      <td>1</td>\n",
       "      <td>Monitor</td>\n",
       "      <td>200.0</td>\n",
       "    </tr>\n",
       "    <tr>\n",
       "      <th>3</th>\n",
       "      <td>103</td>\n",
       "      <td>2024-06-05</td>\n",
       "      <td>75.5</td>\n",
       "      <td>2</td>\n",
       "      <td>1004</td>\n",
       "      <td>13</td>\n",
       "      <td>1</td>\n",
       "      <td>Impresora</td>\n",
       "      <td>120.0</td>\n",
       "    </tr>\n",
       "    <tr>\n",
       "      <th>4</th>\n",
       "      <td>104</td>\n",
       "      <td>2024-06-10</td>\n",
       "      <td>320.0</td>\n",
       "      <td>3</td>\n",
       "      <td>1005</td>\n",
       "      <td>10</td>\n",
       "      <td>1</td>\n",
       "      <td>Teclado</td>\n",
       "      <td>25.0</td>\n",
       "    </tr>\n",
       "  </tbody>\n",
       "</table>\n",
       "</div>"
      ]
     },
     "execution_count": 12,
     "metadata": {},
     "output_type": "execute_result"
    }
   ],
   "execution_count": 12
  },
  {
   "metadata": {
    "ExecuteTime": {
     "end_time": "2025-07-23T22:01:48.715195Z",
     "start_time": "2025-07-23T22:01:48.651065Z"
    }
   },
   "cell_type": "code",
   "source": [
    "import matplotlib.pyplot as plt\n",
    "det_ped.groupby('nombre').agg('sum').plot(kind='bar',y='cantidad')\n",
    "plt.show()"
   ],
   "id": "be8e325d875b7e1c",
   "outputs": [
    {
     "data": {
      "text/plain": [
       "<Figure size 640x480 with 1 Axes>"
      ],
      "image/png": "[encoded data removed]"
     },
     "metadata": {},
     "output_type": "display_data"
    }
   ],
   "execution_count": 26
  }
 ],
 "metadata": {
  "kernelspec": {
   "display_name": "Python 3",
   "language": "python",
   "name": "python3"
  },
  "language_info": {
   "codemirror_mode": {
    "name": "ipython",
    "version": 2
   },
   "file_extension": ".py",
   "mimetype": "text/x-python",
   "name": "python",
   "nbconvert_exporter": "python",
   "pygments_lexer": "ipython2",
   "version": "2.7.6"
  }
 },
 "nbformat": 4,
 "nbformat_minor": 5
}
