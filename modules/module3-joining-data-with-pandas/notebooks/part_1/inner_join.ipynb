{
 "cells": [
  {
   "cell_type": "code",
   "id": "initial_id",
   "metadata": {
    "collapsed": true,
    "ExecuteTime": {
     "end_time": "2025-07-22T01:38:52.699021Z",
     "start_time": "2025-07-22T01:38:51.921506Z"
    }
   },
   "source": [
    "import pandas as pd\n",
    "emp = pd.read_csv(\"../../data/empleados.csv\")\n",
    "emp.head(3)"
   ],
   "outputs": [
    {
     "data": {
      "text/plain": [
       "   empleado_id nombre  departamento_id  edad\n",
       "0            1   Juan               10    32\n",
       "1            2    Ana               20    28\n",
       "2            3  Pedro               10    45"
      ],
      "text/html": [
       "<div>\n",
       "<style scoped>\n",
       "    .dataframe tbody tr th:only-of-type {\n",
       "        vertical-align: middle;\n",
       "    }\n",
       "\n",
       "    .dataframe tbody tr th {\n",
       "        vertical-align: top;\n",
       "    }\n",
       "\n",
       "    .dataframe thead th {\n",
       "        text-align: right;\n",
       "    }\n",
       "</style>\n",
       "<table border=\"1\" class=\"dataframe\">\n",
       "  <thead>\n",
       "    <tr style=\"text-align: right;\">\n",
       "      <th></th>\n",
       "      <th>empleado_id</th>\n",
       "      <th>nombre</th>\n",
       "      <th>departamento_id</th>\n",
       "      <th>edad</th>\n",
       "    </tr>\n",
       "  </thead>\n",
       "  <tbody>\n",
       "    <tr>\n",
       "      <th>0</th>\n",
       "      <td>1</td>\n",
       "      <td>Juan</td>\n",
       "      <td>10</td>\n",
       "      <td>32</td>\n",
       "    </tr>\n",
       "    <tr>\n",
       "      <th>1</th>\n",
       "      <td>2</td>\n",
       "      <td>Ana</td>\n",
       "      <td>20</td>\n",
       "      <td>28</td>\n",
       "    </tr>\n",
       "    <tr>\n",
       "      <th>2</th>\n",
       "      <td>3</td>\n",
       "      <td>Pedro</td>\n",
       "      <td>10</td>\n",
       "      <td>45</td>\n",
       "    </tr>\n",
       "  </tbody>\n",
       "</table>\n",
       "</div>"
      ]
     },
     "execution_count": 2,
     "metadata": {},
     "output_type": "execute_result"
    }
   ],
   "execution_count": 2
  },
  {
   "metadata": {
    "ExecuteTime": {
     "end_time": "2025-07-22T01:38:58.451920Z",
     "start_time": "2025-07-22T01:38:58.443685Z"
    }
   },
   "cell_type": "code",
   "source": [
    "dts = pd.read_csv(\"../../data/departamentos.csv\")\n",
    "dts.head(3)"
   ],
   "id": "1cf7136462331cae",
   "outputs": [
    {
     "data": {
      "text/plain": [
       "   departamento_id nombre_departamento  ubicacion\n",
       "0               10    Recursos Humanos     Madrid\n",
       "1               20            Finanzas  Barcelona\n",
       "2               30                  IT   Valencia"
      ],
      "text/html": [
       "<div>\n",
       "<style scoped>\n",
       "    .dataframe tbody tr th:only-of-type {\n",
       "        vertical-align: middle;\n",
       "    }\n",
       "\n",
       "    .dataframe tbody tr th {\n",
       "        vertical-align: top;\n",
       "    }\n",
       "\n",
       "    .dataframe thead th {\n",
       "        text-align: right;\n",
       "    }\n",
       "</style>\n",
       "<table border=\"1\" class=\"dataframe\">\n",
       "  <thead>\n",
       "    <tr style=\"text-align: right;\">\n",
       "      <th></th>\n",
       "      <th>departamento_id</th>\n",
       "      <th>nombre_departamento</th>\n",
       "      <th>ubicacion</th>\n",
       "    </tr>\n",
       "  </thead>\n",
       "  <tbody>\n",
       "    <tr>\n",
       "      <th>0</th>\n",
       "      <td>10</td>\n",
       "      <td>Recursos Humanos</td>\n",
       "      <td>Madrid</td>\n",
       "    </tr>\n",
       "    <tr>\n",
       "      <th>1</th>\n",
       "      <td>20</td>\n",
       "      <td>Finanzas</td>\n",
       "      <td>Barcelona</td>\n",
       "    </tr>\n",
       "    <tr>\n",
       "      <th>2</th>\n",
       "      <td>30</td>\n",
       "      <td>IT</td>\n",
       "      <td>Valencia</td>\n",
       "    </tr>\n",
       "  </tbody>\n",
       "</table>\n",
       "</div>"
      ]
     },
     "execution_count": 3,
     "metadata": {},
     "output_type": "execute_result"
    }
   ],
   "execution_count": 3
  },
  {
   "metadata": {},
   "cell_type": "markdown",
   "source": [
    "## Fusión de DataFrames con pandas\n",
    "\n",
    "El paquete `pandas` ofrece el método `merge` para combinar DataFrames de manera eficiente. Por ejemplo, para fusionar los DataFrames `emp` y `dts` utilizando la columna `id_departamento` como clave:\n",
    "\n",
    "```python\n",
    "import pandas as pd\n",
    "\n",
    "# Fusiona los DataFrames emp y dts sobre la columna 'id_departamento'\n",
    "dts_emp = pd.merge(emp, dts, on='id_departamento', how='inner')\n",
    "```\n",
    "\n",
    "- **on**: especifica la columna clave en común.\n",
    "- **how**: determina el tipo de unión (`'inner'`, `'left'`, `'right'`, `'outer'`). Por defecto es `'inner'`.\n",
    "\n",
    "> **Tip:**\n",
    "> Si las columnas que relacionan los DataFrames tienen distintos nombres, puedes usar `left_on` y `right_on`:\n",
    "> ```python\n",
    "> dts_emp = pd.merge(emp, dts, left_on='id_departamento', right_on='departamento_id')\n",
    "> ```\n",
    "\n",
    "**Recuerda comentar el código para facilitar su mantenimiento y comprensión.**\n"
   ],
   "id": "dffe42e52dc804e"
  },
  {
   "metadata": {
    "ExecuteTime": {
     "end_time": "2025-07-22T01:39:22.266058Z",
     "start_time": "2025-07-22T01:39:22.258239Z"
    }
   },
   "cell_type": "code",
   "source": [
    "dts_emp = emp.merge(dts, on='departamento_id')\n",
    "dts_emp.head(3)"
   ],
   "id": "8edcd5532f4d3c6f",
   "outputs": [
    {
     "data": {
      "text/plain": [
       "   empleado_id nombre  departamento_id  edad nombre_departamento  ubicacion\n",
       "0            1   Juan               10    32    Recursos Humanos     Madrid\n",
       "1            2    Ana               20    28            Finanzas  Barcelona\n",
       "2            3  Pedro               10    45    Recursos Humanos     Madrid"
      ],
      "text/html": [
       "<div>\n",
       "<style scoped>\n",
       "    .dataframe tbody tr th:only-of-type {\n",
       "        vertical-align: middle;\n",
       "    }\n",
       "\n",
       "    .dataframe tbody tr th {\n",
       "        vertical-align: top;\n",
       "    }\n",
       "\n",
       "    .dataframe thead th {\n",
       "        text-align: right;\n",
       "    }\n",
       "</style>\n",
       "<table border=\"1\" class=\"dataframe\">\n",
       "  <thead>\n",
       "    <tr style=\"text-align: right;\">\n",
       "      <th></th>\n",
       "      <th>empleado_id</th>\n",
       "      <th>nombre</th>\n",
       "      <th>departamento_id</th>\n",
       "      <th>edad</th>\n",
       "      <th>nombre_departamento</th>\n",
       "      <th>ubicacion</th>\n",
       "    </tr>\n",
       "  </thead>\n",
       "  <tbody>\n",
       "    <tr>\n",
       "      <th>0</th>\n",
       "      <td>1</td>\n",
       "      <td>Juan</td>\n",
       "      <td>10</td>\n",
       "      <td>32</td>\n",
       "      <td>Recursos Humanos</td>\n",
       "      <td>Madrid</td>\n",
       "    </tr>\n",
       "    <tr>\n",
       "      <th>1</th>\n",
       "      <td>2</td>\n",
       "      <td>Ana</td>\n",
       "      <td>20</td>\n",
       "      <td>28</td>\n",
       "      <td>Finanzas</td>\n",
       "      <td>Barcelona</td>\n",
       "    </tr>\n",
       "    <tr>\n",
       "      <th>2</th>\n",
       "      <td>3</td>\n",
       "      <td>Pedro</td>\n",
       "      <td>10</td>\n",
       "      <td>45</td>\n",
       "      <td>Recursos Humanos</td>\n",
       "      <td>Madrid</td>\n",
       "    </tr>\n",
       "  </tbody>\n",
       "</table>\n",
       "</div>"
      ]
     },
     "execution_count": 6,
     "metadata": {},
     "output_type": "execute_result"
    }
   ],
   "execution_count": 6
  },
  {
   "metadata": {},
   "cell_type": "markdown",
   "source": [
    "## Evitar colisión de nombres de columnas al fusionar DataFrames con pandas\n",
    "\n",
    "Cuando fusionamos DataFrames en pandas que tienen columnas con el mismo nombre (aparte de la clave de unión), podemos usar el argumento `suffixes` para diferenciar dichas columnas y evitar colisiones.\n",
    "\n",
    "Por ejemplo, para fusionar los DataFrames `emp` y `dts` usando la columna `departamento_id`, y agregar sufijos que identifiquen el origen de cada columna:\n",
    "\n",
    "```python\n",
    "import pandas as pd\n",
    "\n",
    "# Fusiona los DataFrames y añade sufijos para evitar colisiones en los nombres de columna\n",
    "dts_emp = pd.merge(emp, dts, on='departamento_id', suffixes=('_emp', '_dts'))\n",
    "```\n",
    "\n",
    "- **suffixes**: tupla con los sufijos a utilizar para las columnas que tengan el mismo nombre, excepto la columna clave.\n",
    "\n",
    "> **Ejemplo:**\n",
    "> Si ambos DataFrames tienen una columna llamada `nombre`, después de la fusión tendrás `nombre_emp` y `nombre_dts`.\n",
    "\n",
    "**Consejo:**\n",
    "Elige sufijos descriptivos para facilitar la interpretación de los datos resultantes."
   ],
   "id": "ee344f27dc5a73f0"
  },
  {
   "metadata": {
    "ExecuteTime": {
     "end_time": "2025-07-22T02:16:40.585300Z",
     "start_time": "2025-07-22T02:16:40.578906Z"
    }
   },
   "cell_type": "code",
   "source": [
    "dts_emp = emp.merge(dts, on='departamento_id', suffixes=('_emp', '_dts'))\n",
    "print(dts_emp.columns)"
   ],
   "id": "cff2d8d92fa02512",
   "outputs": [
    {
     "name": "stdout",
     "output_type": "stream",
     "text": [
      "Index(['empleado_id', 'nombre', 'departamento_id', 'edad',\n",
      "       'nombre_departamento', 'ubicacion'],\n",
      "      dtype='object')\n"
     ]
    }
   ],
   "execution_count": 8
  }
 ],
 "metadata": {
  "kernelspec": {
   "display_name": "Python 3",
   "language": "python",
   "name": "python3"
  },
  "language_info": {
   "codemirror_mode": {
    "name": "ipython",
    "version": 2
   },
   "file_extension": ".py",
   "mimetype": "text/x-python",
   "name": "python",
   "nbconvert_exporter": "python",
   "pygments_lexer": "ipython2",
   "version": "2.7.6"
  }
 },
 "nbformat": 4,
 "nbformat_minor": 5
}
