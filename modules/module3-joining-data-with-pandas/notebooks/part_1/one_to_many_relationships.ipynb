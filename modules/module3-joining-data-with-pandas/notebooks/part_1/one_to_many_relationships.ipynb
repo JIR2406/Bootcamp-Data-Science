{
 "cells": [
  {
   "metadata": {},
   "cell_type": "markdown",
   "source": [
    "# Análisis de Relaciones entre Tablas\n",
    "\n",
    "En este Notebook analizaremos diferentes tipos de relaciones entre tablas.\n",
    "En particular, se verá la relación **uno a muchos**.\n",
    "\n",
    "Las relaciones **uno a uno** implican que cada fila de la tabla izquierda está relacionada con una y solo una fila de la tabla derecha.\n",
    "\n",
    "<div align=\"center\">\n",
    "  <img src=\"../../resource/one_to_one.png\" alt=\"Relación uno a uno\">\n",
    "</div>\n",
    "\n",
    "Ahora una relacion uno a muchos cada fila de la tabla izquierda esta relacionada con una o mas filas de la tabla derecha.\n",
    "<div align=\"center\">\n",
    "  <img src=\"../../resource/one_to_many.png\" alt=\"Relación uno a muchos\">\n",
    "</div>"
   ],
   "id": "dc28ab44334a9dfd"
  },
  {
   "metadata": {
    "ExecuteTime": {
     "end_time": "2025-07-23T20:12:21.333267Z",
     "start_time": "2025-07-23T20:12:20.390584Z"
    }
   },
   "cell_type": "code",
   "source": [
    "import pandas as pd\n",
    "\n",
    "cli = pd.read_csv('../../data/clientes.csv')\n",
    "ped = pd.read_csv('../../data/pedidos.csv')\n",
    "\n",
    "print(cli)\n",
    "print(ped)"
   ],
   "id": "8346997ba8ab4716",
   "outputs": [
    {
     "name": "stdout",
     "output_type": "stream",
     "text": [
      "   id_cliente       nombre                 correo\n",
      "0           1    Ana Pérez    ana.perez@email.com\n",
      "1           2   Juan López   juan.lopez@email.com\n",
      "2           3  María Gómez  maria.gomez@email.com\n",
      "   id_pedido       fecha  total  id_cliente\n",
      "0        101  2024-06-01  150.0           1\n",
      "1        102  2024-06-03  200.0           1\n",
      "2        103  2024-06-05   75.5           2\n",
      "3        104  2024-06-10  320.0           3\n",
      "4        105  2024-06-11  120.0           1\n"
     ]
    }
   ],
   "execution_count": 1
  },
  {
   "metadata": {},
   "cell_type": "markdown",
   "source": [
    "Los dos DataFrames tienen una columna en común, que es el `id_cliente`.\n",
    "Pandas se encarga de las relaciones de uno a muchos por nosotros y no requiere nada especial de nuestra parte."
   ],
   "id": "4b03ef6f7ecf9739"
  },
  {
   "metadata": {
    "ExecuteTime": {
     "end_time": "2025-07-23T20:14:31.787523Z",
     "start_time": "2025-07-23T20:14:31.779412Z"
    }
   },
   "cell_type": "code",
   "source": [
    "cliente_pedidos = cli.merge(ped,on= 'id_cliente')\n",
    "print(cliente_pedidos)"
   ],
   "id": "c454be12c50822dc",
   "outputs": [
    {
     "name": "stdout",
     "output_type": "stream",
     "text": [
      "   id_cliente       nombre                 correo  id_pedido       fecha  \\\n",
      "0           1    Ana Pérez    ana.perez@email.com        101  2024-06-01   \n",
      "1           1    Ana Pérez    ana.perez@email.com        102  2024-06-03   \n",
      "2           1    Ana Pérez    ana.perez@email.com        105  2024-06-11   \n",
      "3           2   Juan López   juan.lopez@email.com        103  2024-06-05   \n",
      "4           3  María Gómez  maria.gomez@email.com        104  2024-06-10   \n",
      "\n",
      "   total  \n",
      "0  150.0  \n",
      "1  200.0  \n",
      "2  120.0  \n",
      "3   75.5  \n",
      "4  320.0  \n"
     ]
    }
   ],
   "execution_count": 5
  }
 ],
 "metadata": {
  "kernelspec": {
   "display_name": "Python 3",
   "language": "python",
   "name": "python3"
  },
  "language_info": {
   "codemirror_mode": {
    "name": "ipython",
    "version": 2
   },
   "file_extension": ".py",
   "mimetype": "text/x-python",
   "name": "python",
   "nbconvert_exporter": "python",
   "pygments_lexer": "ipython2",
   "version": "2.7.6"
  }
 },
 "nbformat": 4,
 "nbformat_minor": 5
}
