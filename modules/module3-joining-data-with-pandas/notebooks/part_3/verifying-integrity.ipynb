{
 "cells": [
  {
   "metadata": {},
   "cell_type": "markdown",
   "source": [
    "# Verificación de la Integridad de los Datos\n",
    "\n",
    "En este notebook vamos a **verificar la integridad de los datos** al combinar tablas. Tanto el método de **fusión** (`merge`) como el de **concatenación** (`concat`) en Pandas tienen características que nos ayudan a asegurarnos de que la estructura de nuestros datos sea la correcta.\n",
    "\n",
    "## Consideraciones al Fusionar Tablas\n",
    "\n",
    "Al fusionar dos tablas, normalmente esperamos que exista una **relación uno a uno** entre las columnas clave. Sin embargo, si alguna de las columnas utilizadas para la fusión contiene valores duplicados, la relación se convierte en **uno a muchos** o incluso **muchos a muchos**.\n",
    "\n",
    "## Consideraciones al Concatenar Tablas\n",
    "\n",
    "Al concatenar tablas verticalmente, podemos **crear registros duplicados** de manera involuntaria si el mismo registro existe en ambas tablas.\n",
    "\n",
    "## Verificación con los Métodos `merge` y `concat`\n",
    "\n",
    "Los argumentos de los métodos `merge` y `concat` nos permiten verificar la integridad de los datos durante estas operaciones.\n",
    "\n",
    "### Método `merge`\n",
    "\n",
    "El método `merge` cuenta con el argumento `validate`, que nos permite especificar el tipo de relación esperada entre las tablas. Si la relación no se cumple, Pandas generará un error, facilitando la detección de problemas estructurales.\n",
    "\n",
    "```python\n",
    "df_merged = pd.merge(tabla_izquierda, tabla_derecha,\n",
    "                    on='columna_clave',\n",
    "                    validate='one_to_one')\n",
    "```\n",
    "\n",
    "Algunas opciones para el argumento `validate` son:\n",
    "\n",
    "- `'one_to_one'`: cada fila de ambas tablas coincide con una única fila de la otra tabla.\n",
    "- `'one_to_many'`: cada fila de la tabla izquierda coincide con una o más filas de la tabla derecha.\n",
    "- `'many_to_one'`: varias filas de la tabla izquierda pueden coincidir con una sola fila de la tabla derecha.\n",
    "- `'many_to_many'`: varias filas de ambas tablas pueden coincidir entre sí.\n",
    "\n",
    "---\n",
    "\n",
    "¿Te gustaría agregar ejemplos de uso o explicación para `concat`? Si es así, dime cómo deseas enfocarlos."
   ],
   "id": "967babd953bdd03b"
  },
  {
   "metadata": {
    "ExecuteTime": {
     "end_time": "2025-07-25T01:54:03.093343Z",
     "start_time": "2025-07-25T01:54:03.082588Z"
    }
   },
   "cell_type": "code",
   "source": [
    "import pandas as pd\n",
    "\n",
    "# Cargar los datos\n",
    "cli = pd.read_csv('../../data/clientes.csv')\n",
    "ped = pd.read_csv('../../data/pedidos.csv')\n",
    "\n",
    "try:\n",
    " cli.merge(ped,on='id_cliente',validate='one_to_one')\n",
    "except ValueError as e:\n",
    "    print(f\"Error: {e}\")"
   ],
   "id": "a09fc0f2ff9f7443",
   "outputs": [
    {
     "name": "stdout",
     "output_type": "stream",
     "text": [
      "Error: Merge keys are not unique in right dataset; not a one-to-one merge\n"
     ]
    }
   ],
   "execution_count": 8
  },
  {
   "metadata": {},
   "cell_type": "markdown",
   "source": [
    "## Verificación de integridad con el método `concat`\n",
    "\n",
    "Ahora utilizaremos el método `concat` de Pandas, que cuenta con el argumento `verify_integrity` para ayudarnos a verificar si existen duplicados en los índices de los registros concatenados. Por defecto, este argumento está establecido en `False`:\n",
    "\n",
    "```python\n",
    "pd.concat([df1, df2], verify_integrity=False)\n",
    "```\n",
    "\n",
    "Si establecemos `verify_integrity=True`, el método verificará si hay valores duplicados en los **índices** de los DataFrames combinados y lanzará un error si encuentra duplicados.\n",
    "> **Nota:** Esta verificación **solo aplica a los valores de los índices**, no a los valores de las columnas.\n",
    "\n",
    "Esto es útil para asegurarnos de que, al concatenar, no estamos generando índices duplicados de manera involuntaria."
   ],
   "id": "241c0b32a4a1c5f1"
  },
  {
   "metadata": {
    "ExecuteTime": {
     "end_time": "2025-07-25T02:05:44.189980Z",
     "start_time": "2025-07-25T02:05:44.183811Z"
    }
   },
   "cell_type": "code",
   "source": [
    "try:\n",
    "    pd.concat([cli, ped], verify_integrity=True)\n",
    "except ValueError as e:\n",
    "    print(f\"Error: {e}\")"
   ],
   "id": "6ba9cca6c85eba4e",
   "outputs": [
    {
     "name": "stdout",
     "output_type": "stream",
     "text": [
      "Error: Indexes have overlapping values: Index([0, 1, 2, 3], dtype='int64')\n"
     ]
    }
   ],
   "execution_count": 11
  }
 ],
 "metadata": {
  "kernelspec": {
   "display_name": "Python 3",
   "language": "python",
   "name": "python3"
  },
  "language_info": {
   "codemirror_mode": {
    "name": "ipython",
    "version": 2
   },
   "file_extension": ".py",
   "mimetype": "text/x-python",
   "name": "python",
   "nbconvert_exporter": "python",
   "pygments_lexer": "ipython2",
   "version": "2.7.6"
  }
 },
 "nbformat": 4,
 "nbformat_minor": 5
}
