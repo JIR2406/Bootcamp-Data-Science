{
 "cells": [
  {
   "metadata": {},
   "cell_type": "markdown",
   "source": [
    "# Análisis de Unión de Filtrado en Pandas\n",
    "\n",
    "En este notebook analizaremos un tipo de unión conocido como **unión de filtrado**.\n",
    "\n",
    "Pandas no proporciona soporte directo para realizar uniones de este tipo, pero aprenderemos cómo replicarlas utilizando las herramientas que ofrece la librería.\n",
    "\n",
    "## ¿Qué es una unión de filtrado?\n",
    "\n",
    "Una **unión semi** filtra la tabla izquierda, dejando únicamente aquellas observaciones que coinciden con la tabla derecha.\n",
    "Es decir, es similar a una **unión interna** (`inner join`), ya que sólo se conservan las filas que están presentes en ambas tablas (la intersección).\n",
    "\n",
    "---\n",
    "\n",
    "A lo largo del notebook, veremos ejemplos prácticos y cómo implementarlos paso a paso en Pandas."
   ],
   "id": "92d52aab96cb1141"
  },
  {
   "metadata": {
    "ExecuteTime": {
     "end_time": "2025-07-24T23:33:04.276764Z",
     "start_time": "2025-07-24T23:33:04.263109Z"
    }
   },
   "cell_type": "code",
   "source": [
    "import pandas as pd\n",
    "cli = pd.read_csv('../../data/clientes.csv')\n",
    "ped = pd.read_csv('../../data/pedidos.csv')\n",
    "# Lo primero que tenemos que hacer es fusionar las dos tablas.\n",
    "cli_ped = cli.merge(ped,on='id_cliente')\n",
    "\n",
    "# Imprimimos los primeros resultados\n",
    "cli_ped.head()"
   ],
   "id": "39b3b1623697e77d",
   "outputs": [
    {
     "name": "stdout",
     "output_type": "stream",
     "text": [
      "   id_cliente             nombre                 correo\n",
      "0           1          Ana Pérez    ana.perez@email.com\n",
      "1           2         Juan López   juan.lopez@email.com\n",
      "2           3        María Gómez  maria.gomez@email.com\n",
      "3           4  Ricardo Rodriguez     rich_rod@email.com\n"
     ]
    },
    {
     "data": {
      "text/plain": [
       "   id_cliente       nombre                 correo  id_pedido       fecha  \\\n",
       "0           1    Ana Pérez    ana.perez@email.com        101  2024-06-01   \n",
       "1           1    Ana Pérez    ana.perez@email.com        102  2024-06-03   \n",
       "2           1    Ana Pérez    ana.perez@email.com        105  2024-06-11   \n",
       "3           2   Juan López   juan.lopez@email.com        103  2024-06-05   \n",
       "4           3  María Gómez  maria.gomez@email.com        104  2024-06-10   \n",
       "\n",
       "   total  \n",
       "0  150.0  \n",
       "1  200.0  \n",
       "2  120.0  \n",
       "3   75.5  \n",
       "4  320.0  "
      ],
      "text/html": [
       "<div>\n",
       "<style scoped>\n",
       "    .dataframe tbody tr th:only-of-type {\n",
       "        vertical-align: middle;\n",
       "    }\n",
       "\n",
       "    .dataframe tbody tr th {\n",
       "        vertical-align: top;\n",
       "    }\n",
       "\n",
       "    .dataframe thead th {\n",
       "        text-align: right;\n",
       "    }\n",
       "</style>\n",
       "<table border=\"1\" class=\"dataframe\">\n",
       "  <thead>\n",
       "    <tr style=\"text-align: right;\">\n",
       "      <th></th>\n",
       "      <th>id_cliente</th>\n",
       "      <th>nombre</th>\n",
       "      <th>correo</th>\n",
       "      <th>id_pedido</th>\n",
       "      <th>fecha</th>\n",
       "      <th>total</th>\n",
       "    </tr>\n",
       "  </thead>\n",
       "  <tbody>\n",
       "    <tr>\n",
       "      <th>0</th>\n",
       "      <td>1</td>\n",
       "      <td>Ana Pérez</td>\n",
       "      <td>ana.perez@email.com</td>\n",
       "      <td>101</td>\n",
       "      <td>2024-06-01</td>\n",
       "      <td>150.0</td>\n",
       "    </tr>\n",
       "    <tr>\n",
       "      <th>1</th>\n",
       "      <td>1</td>\n",
       "      <td>Ana Pérez</td>\n",
       "      <td>ana.perez@email.com</td>\n",
       "      <td>102</td>\n",
       "      <td>2024-06-03</td>\n",
       "      <td>200.0</td>\n",
       "    </tr>\n",
       "    <tr>\n",
       "      <th>2</th>\n",
       "      <td>1</td>\n",
       "      <td>Ana Pérez</td>\n",
       "      <td>ana.perez@email.com</td>\n",
       "      <td>105</td>\n",
       "      <td>2024-06-11</td>\n",
       "      <td>120.0</td>\n",
       "    </tr>\n",
       "    <tr>\n",
       "      <th>3</th>\n",
       "      <td>2</td>\n",
       "      <td>Juan López</td>\n",
       "      <td>juan.lopez@email.com</td>\n",
       "      <td>103</td>\n",
       "      <td>2024-06-05</td>\n",
       "      <td>75.5</td>\n",
       "    </tr>\n",
       "    <tr>\n",
       "      <th>4</th>\n",
       "      <td>3</td>\n",
       "      <td>María Gómez</td>\n",
       "      <td>maria.gomez@email.com</td>\n",
       "      <td>104</td>\n",
       "      <td>2024-06-10</td>\n",
       "      <td>320.0</td>\n",
       "    </tr>\n",
       "  </tbody>\n",
       "</table>\n",
       "</div>"
      ]
     },
     "execution_count": 9,
     "metadata": {},
     "output_type": "execute_result"
    }
   ],
   "execution_count": 9
  },
  {
   "metadata": {
    "ExecuteTime": {
     "end_time": "2025-07-24T23:25:51.776952Z",
     "start_time": "2025-07-24T23:25:51.767775Z"
    }
   },
   "cell_type": "code",
   "source": [
    "# El siguiente paso es  utilizar el metodo isin()\n",
    "cli['id_cliente'].isin(cli_ped['id_cliente'])"
   ],
   "id": "1984b62320bfe6d4",
   "outputs": [
    {
     "data": {
      "text/plain": [
       "0    True\n",
       "1    True\n",
       "2    True\n",
       "Name: id_cliente, dtype: bool"
      ]
     },
     "execution_count": 2,
     "metadata": {},
     "output_type": "execute_result"
    }
   ],
   "execution_count": 2
  },
  {
   "metadata": {
    "ExecuteTime": {
     "end_time": "2025-07-24T23:27:55.473405Z",
     "start_time": "2025-07-24T23:27:55.466433Z"
    }
   },
   "cell_type": "code",
   "source": [
    "# Para combinar todo, usamos esta linea para crear un subconjunto de la tabla.\n",
    "\n",
    "top_ped = cli[cli['id_cliente'].isin(cli_ped['id_cliente'])]\n",
    "print(top_ped.head())"
   ],
   "id": "14443b3c356f63c",
   "outputs": [
    {
     "name": "stdout",
     "output_type": "stream",
     "text": [
      "   id_cliente       nombre                 correo\n",
      "0           1    Ana Pérez    ana.perez@email.com\n",
      "1           2   Juan López   juan.lopez@email.com\n",
      "2           3  María Gómez  maria.gomez@email.com\n"
     ]
    }
   ],
   "execution_count": 3
  },
  {
   "metadata": {},
   "cell_type": "markdown",
   "source": [
    "## ¿Qué es una anti unión?\n",
    "\n",
    "Una **anti unión** devuelve las observaciones de la tabla izquierda que **no** tienen una observación coincidente en la tabla derecha.\n",
    "Además, únicamente se incluyen las columnas de la tabla izquierda en el resultado.\n",
    "\n",
    "En otras palabras, la anti unión permite identificar aquellos registros exclusivos de la primera tabla, excluyendo cualquier coincidencia con la segunda.\n",
    "\n",
    "---\n",
    "\n",
    "Más adelante, veremos cómo replicar este comportamiento en Pandas con ejemplos prácticos."
   ],
   "id": "a12ae1583d46dcdf"
  },
  {
   "metadata": {
    "ExecuteTime": {
     "end_time": "2025-07-24T23:38:30.797762Z",
     "start_time": "2025-07-24T23:38:30.784701Z"
    }
   },
   "cell_type": "code",
   "source": [
    "# El indicator = True nos permite ver de donde proviene cada fila.\n",
    "anti_cli_ped = cli.merge(ped,on='id_cliente',how='left',indicator=True)\n",
    "anti_cli_ped"
   ],
   "id": "438eeb69f18fdd9e",
   "outputs": [
    {
     "data": {
      "text/plain": [
       "   id_cliente             nombre                 correo  id_pedido  \\\n",
       "0           1          Ana Pérez    ana.perez@email.com      101.0   \n",
       "1           1          Ana Pérez    ana.perez@email.com      102.0   \n",
       "2           1          Ana Pérez    ana.perez@email.com      105.0   \n",
       "3           2         Juan López   juan.lopez@email.com      103.0   \n",
       "4           3        María Gómez  maria.gomez@email.com      104.0   \n",
       "5           4  Ricardo Rodriguez     rich_rod@email.com        NaN   \n",
       "\n",
       "        fecha  total     _merge  \n",
       "0  2024-06-01  150.0       both  \n",
       "1  2024-06-03  200.0       both  \n",
       "2  2024-06-11  120.0       both  \n",
       "3  2024-06-05   75.5       both  \n",
       "4  2024-06-10  320.0       both  \n",
       "5         NaN    NaN  left_only  "
      ],
      "text/html": [
       "<div>\n",
       "<style scoped>\n",
       "    .dataframe tbody tr th:only-of-type {\n",
       "        vertical-align: middle;\n",
       "    }\n",
       "\n",
       "    .dataframe tbody tr th {\n",
       "        vertical-align: top;\n",
       "    }\n",
       "\n",
       "    .dataframe thead th {\n",
       "        text-align: right;\n",
       "    }\n",
       "</style>\n",
       "<table border=\"1\" class=\"dataframe\">\n",
       "  <thead>\n",
       "    <tr style=\"text-align: right;\">\n",
       "      <th></th>\n",
       "      <th>id_cliente</th>\n",
       "      <th>nombre</th>\n",
       "      <th>correo</th>\n",
       "      <th>id_pedido</th>\n",
       "      <th>fecha</th>\n",
       "      <th>total</th>\n",
       "      <th>_merge</th>\n",
       "    </tr>\n",
       "  </thead>\n",
       "  <tbody>\n",
       "    <tr>\n",
       "      <th>0</th>\n",
       "      <td>1</td>\n",
       "      <td>Ana Pérez</td>\n",
       "      <td>ana.perez@email.com</td>\n",
       "      <td>101.0</td>\n",
       "      <td>2024-06-01</td>\n",
       "      <td>150.0</td>\n",
       "      <td>both</td>\n",
       "    </tr>\n",
       "    <tr>\n",
       "      <th>1</th>\n",
       "      <td>1</td>\n",
       "      <td>Ana Pérez</td>\n",
       "      <td>ana.perez@email.com</td>\n",
       "      <td>102.0</td>\n",
       "      <td>2024-06-03</td>\n",
       "      <td>200.0</td>\n",
       "      <td>both</td>\n",
       "    </tr>\n",
       "    <tr>\n",
       "      <th>2</th>\n",
       "      <td>1</td>\n",
       "      <td>Ana Pérez</td>\n",
       "      <td>ana.perez@email.com</td>\n",
       "      <td>105.0</td>\n",
       "      <td>2024-06-11</td>\n",
       "      <td>120.0</td>\n",
       "      <td>both</td>\n",
       "    </tr>\n",
       "    <tr>\n",
       "      <th>3</th>\n",
       "      <td>2</td>\n",
       "      <td>Juan López</td>\n",
       "      <td>juan.lopez@email.com</td>\n",
       "      <td>103.0</td>\n",
       "      <td>2024-06-05</td>\n",
       "      <td>75.5</td>\n",
       "      <td>both</td>\n",
       "    </tr>\n",
       "    <tr>\n",
       "      <th>4</th>\n",
       "      <td>3</td>\n",
       "      <td>María Gómez</td>\n",
       "      <td>maria.gomez@email.com</td>\n",
       "      <td>104.0</td>\n",
       "      <td>2024-06-10</td>\n",
       "      <td>320.0</td>\n",
       "      <td>both</td>\n",
       "    </tr>\n",
       "    <tr>\n",
       "      <th>5</th>\n",
       "      <td>4</td>\n",
       "      <td>Ricardo Rodriguez</td>\n",
       "      <td>rich_rod@email.com</td>\n",
       "      <td>NaN</td>\n",
       "      <td>NaN</td>\n",
       "      <td>NaN</td>\n",
       "      <td>left_only</td>\n",
       "    </tr>\n",
       "  </tbody>\n",
       "</table>\n",
       "</div>"
      ]
     },
     "execution_count": 33,
     "metadata": {},
     "output_type": "execute_result"
    }
   ],
   "execution_count": 33
  },
  {
   "metadata": {
    "ExecuteTime": {
     "end_time": "2025-07-24T23:38:33.327142Z",
     "start_time": "2025-07-24T23:38:33.320439Z"
    }
   },
   "cell_type": "code",
   "source": [
    "# A continuacion utilizaremos el accesor loc y la columna _merge para filtrar las filas que no tienen una coincidencia en la tabla derecha.\n",
    "anti_cli_ped = anti_cli_ped.loc[anti_cli_ped['_merge'] == 'left_only','id_cliente']\n",
    "print(anti_cli_ped.head())"
   ],
   "id": "14e2b3ad167c0071",
   "outputs": [
    {
     "name": "stdout",
     "output_type": "stream",
     "text": [
      "5    4\n",
      "Name: id_cliente, dtype: int64\n"
     ]
    }
   ],
   "execution_count": 34
  },
  {
   "metadata": {
    "ExecuteTime": {
     "end_time": "2025-07-24T23:42:19.551247Z",
     "start_time": "2025-07-24T23:42:19.542019Z"
    }
   },
   "cell_type": "code",
   "source": [
    "# En el paso final, utilizaremos el metodo isin() para filtrar las filas con gids en nuestra lista\n",
    "\n",
    "anti_cli_ped = cli.merge(ped,on='id_cliente',how='left',indicator=True)\n",
    "list = anti_cli_ped.loc[anti_cli_ped['_merge'] == 'left_only','id_cliente']\n",
    "# Esto nos da los que no estan en la tabla de pedidos.\n",
    "non_top = cli[cli['id_cliente'].isin(list)]\n",
    "print(non_top.head())"
   ],
   "id": "1219c65101649b5b",
   "outputs": [
    {
     "name": "stdout",
     "output_type": "stream",
     "text": [
      "   id_cliente             nombre              correo\n",
      "3           4  Ricardo Rodriguez  rich_rod@email.com\n"
     ]
    }
   ],
   "execution_count": 49
  }
 ],
 "metadata": {
  "kernelspec": {
   "display_name": "Python 3",
   "language": "python",
   "name": "python3"
  },
  "language_info": {
   "codemirror_mode": {
    "name": "ipython",
    "version": 2
   },
   "file_extension": ".py",
   "mimetype": "text/x-python",
   "name": "python",
   "nbconvert_exporter": "python",
   "pygments_lexer": "ipython2",
   "version": "2.7.6"
  }
 },
 "nbformat": 4,
 "nbformat_minor": 5
}
