{
 "cells": [
  {
   "cell_type": "markdown",
   "id": "5ec1a2f3",
   "metadata": {},
   "source": [
    "# Introducción a Matplotlib\n",
    "\n",
    "Matplotlib es una de las bibliotecas más utilizadas en Python para la visualización de datos. Su función principal es permitir la creación de gráficos y visualizaciones de alta calidad, facilitando la exploración y comunicación de los datos que obtenemos como científicos de datos (DS).\n",
    "\n",
    "## ¿Qué hace Matplotlib?\n",
    "\n",
    "- Permite crear gráficos de líneas, barras, dispersión, histogramas, entre muchos otros.\n",
    "- Facilita la personalización de gráficos (colores, etiquetas, leyendas, títulos).\n",
    "- Permite guardar los gráficos en diferentes formatos (PNG, PDF, SVG, etc.).\n",
    "- Es compatible con otras bibliotecas como NumPy y pandas.\n",
    "\n",
    "## ¿Cómo se importa?\n",
    "\n",
    "Para comenzar a utilizar Matplotlib, normalmente se importa el módulo `pyplot` de la siguiente manera:\n",
    "\n",
    "```python\n",
    "import matplotlib.pyplot as plt\n",
    "```\n",
    "\n",
    "> **Nota:** En el ejemplo anterior hay un error tipográfico en el nombre del módulo (`matplotlibt`). El nombre correcto es `matplotlib`.\n",
    "\n",
    "## Funciones principales de `pyplot`\n",
    "\n",
    "| Función                | Descripción                                         |\n",
    "|------------------------|-----------------------------------------------------|\n",
    "| `plt.plot()`           | Grafica líneas o puntos conectados                  |\n",
    "| `plt.scatter()`        | Grafica puntos de dispersión                        |\n",
    "| `plt.bar()`            | Grafica barras verticales                           |\n",
    "| `plt.hist()`           | Grafica histogramas                                 |\n",
    "| `plt.xlabel()`         | Añade etiqueta al eje X                             |\n",
    "| `plt.ylabel()`         | Añade etiqueta al eje Y                             |\n",
    "| `plt.title()`          | Añade título al gráfico                             |\n",
    "| `plt.legend()`         | Añade leyenda al gráfico                            |\n",
    "| `plt.show()`           | Muestra el gráfico en pantalla                      |\n",
    "\n",
    "Con Matplotlib podrás crear visualizaciones efectivas para analizar y compartir tus datos."
   ]
  }
 ],
 "metadata": {
  "language_info": {
   "name": "python"
  }
 },
 "nbformat": 4,
 "nbformat_minor": 5
}
