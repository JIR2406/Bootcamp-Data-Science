{
 "cells": [
  {
   "cell_type": "markdown",
   "id": "5e50fead",
   "metadata": {},
   "source": [
    "# Uso de Diccionarios en el Mundo de los Datos\n",
    "\n",
    "Los **diccionarios** son estructuras de datos fundamentales en Python y resultan especialmente útiles en el análisis y manipulación de datos. Permiten almacenar pares clave-valor, lo que facilita la organización, búsqueda y actualización eficiente de información.\n",
    "\n",
    "Algunas ventajas de usar diccionarios en el mundo de los datos son:\n",
    "\n",
    "- Permiten acceder rápidamente a la información mediante claves.\n",
    "- Facilitan la representación de datos estructurados, como registros o entidades.\n",
    "- Son ideales para contar, agrupar o mapear valores asociados a una clave específica.\n",
    "\n",
    "## Ejemplo básico de diccionario en Python\n",
    "\n",
    "```python\n",
    "# Crear un diccionario con información de una persona\n",
    "persona = {\n",
    "    \"nombre\": \"Ana\",\n",
    "    \"edad\": 28,\n",
    "    \"profesion\": \"Analista de datos\"\n",
    "}\n",
    "\n",
    "# Acceder a un valor mediante su clave\n",
    "print(persona[\"nombre\"])  # Salida: Ana\n",
    "\n",
    "# Agregar una nueva clave-valor\n",
    "persona[\"ciudad\"] = \"Madrid\"\n",
    "\n",
    "# Recorrer un diccionario\n",
    "for clave, valor in persona.items():\n",
    "    print(f\"{clave}: {valor}\")\n",
    "```\n",
    "\n",
    "Los diccionarios son especialmente útiles cuando necesitas manipular datos con identificadores únicos (por ejemplo, nombres, IDs, categorías, etc.), ya que permiten gestionar la información de forma ordenada y eficiente.\n",
    "\n",
    "Explora las distintas operaciones y métodos que ofrecen los diccionarios para aprovechar al máximo su potencial en tus proyectos de análisis de datos."
   ]
  }
 ],
 "metadata": {
  "language_info": {
   "name": "python"
  }
 },
 "nbformat": 4,
 "nbformat_minor": 5
}
